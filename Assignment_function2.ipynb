{
 "cells": [
  {
   "cell_type": "markdown",
   "id": "210673d0-a40c-4f01-8deb-6d433f1216ee",
   "metadata": {},
   "source": [
    "#### Task 1:\n",
    "You need to write a function in python that return all such numbers which are\n",
    "divisible by 7 but are not a multiple of 5, between 2000 and 3200 (both included).\n",
    "Return the obtained numbers in a comma-separated sequence on a single line"
   ]
  },
  {
   "cell_type": "code",
   "execution_count": 2,
   "id": "b73bde93-3084-4d41-acf0-c1fc8b2bae74",
   "metadata": {},
   "outputs": [
    {
     "name": "stdout",
     "output_type": "stream",
     "text": [
      "2002,2009,2016,2023,2037,2044,2051,2058,2072,2079,2086,2093,2107,2114,2121,2128,2142,2149,2156,2163,2177,2184,2191,2198,2212,2219,2226,2233,2247,2254,2261,2268,2282,2289,2296,2303,2317,2324,2331,2338,2352,2359,2366,2373,2387,2394,2401,2408,2422,2429,2436,2443,2457,2464,2471,2478,2492,2499,2506,2513,2527,2534,2541,2548,2562,2569,2576,2583,2597,2604,2611,2618,2632,2639,2646,2653,2667,2674,2681,2688,2702,2709,2716,2723,2737,2744,2751,2758,2772,2779,2786,2793,2807,2814,2821,2828,2842,2849,2856,2863,2877,2884,2891,2898,2912,2919,2926,2933,2947,2954,2961,2968,2982,2989,2996,3003,3017,3024,3031,3038,3052,3059,3066,3073,3087,3094,3101,3108,3122,3129,3136,3143,3157,3164,3171,3178,3192,3199\n"
     ]
    }
   ],
   "source": [
    "def find_numbers():\n",
    "    return \",\".join(str(num) for num in range(2000, 3201) if num % 7 == 0 and num % 5 != 0)\n",
    "\n",
    "result = find_numbers()\n",
    "print(result)"
   ]
  },
  {
   "cell_type": "markdown",
   "id": "5a77fa84-5402-4c7d-8e68-1313c244dcd8",
   "metadata": {},
   "source": [
    "#### Task 2:\n",
    "You need code a function that calculates and returns the value according to the\n",
    "given formula:\n",
    "\n",
    "P = Square root of [(2 * A * B)/C]\n",
    "\n",
    "Following are the fixed values of A and B:\n",
    "A is 50. B is 30.\n",
    "\n",
    "The values of the literal C should be taken as console input to your program in a\n",
    "comma-separated sequence.\n",
    "\n",
    "Example:\n",
    "Let us assume the following comma separated input sequence is given to the\n",
    "program:\n",
    "\n",
    "100,150,180\n",
    "The output of the program should be:\n",
    "18,22,24"
   ]
  },
  {
   "cell_type": "code",
   "execution_count": 2,
   "id": "ec499b53-7e73-4c64-ba9b-03fb04b8bd5f",
   "metadata": {},
   "outputs": [
    {
     "name": "stdin",
     "output_type": "stream",
     "text": [
      "Enter values of C (comma-separated):  100,150,180\n"
     ]
    },
    {
     "name": "stdout",
     "output_type": "stream",
     "text": [
      "5,4,4\n"
     ]
    }
   ],
   "source": [
    "import math\n",
    "\n",
    "def calculate_p(values):\n",
    "    A = 50\n",
    "    B = 30\n",
    "    results = []\n",
    "    for C in values:\n",
    "        P = math.sqrt((2 * A * B) / C)\n",
    "        results.append(int(P))\n",
    "    return results\n",
    "\n",
    "input_values = input(\"Enter values of C (comma-separated): \").split(',')\n",
    "input_values = [int(C) for C in input_values]\n",
    "\n",
    "output = calculate_p(input_values)\n",
    "output_str = []\n",
    "for value in output:\n",
    "    output_str.append(str(value))\n",
    "print(','.join(output_str))"
   ]
  },
  {
   "cell_type": "markdown",
   "id": "efa37363-852e-4154-a526-f4e662e74a5b",
   "metadata": {},
   "source": [
    "#### Task 3:\n",
    "\n",
    "You need to write a function that takes a comma separated sequence of words as\n",
    "input and prints the words in a comma-separated sequence after sorting them\n",
    "alphabetically.\n",
    "\n",
    "Suppose the following input is supplied to the program:\n",
    "\n",
    "without,hello,bag,world\n",
    "Then, the output should be:\n",
    "bag,hello,without,world"
   ]
  },
  {
   "cell_type": "code",
   "execution_count": 4,
   "id": "9123e391-4b8b-47af-8a05-4c105325c998",
   "metadata": {},
   "outputs": [
    {
     "name": "stdin",
     "output_type": "stream",
     "text": [
      "Enter comma-separated words:  without,hello,bag,world\n"
     ]
    },
    {
     "name": "stdout",
     "output_type": "stream",
     "text": [
      "bag,hello,without,world\n"
     ]
    }
   ],
   "source": [
    "def sort_words():\n",
    "    words = input(\"Enter comma-separated words: \").split(\",\")\n",
    "    sorted_words = sorted(words)\n",
    "    return \",\".join(sorted_words)\n",
    "\n",
    "output = sort_words()\n",
    "print(output)"
   ]
  },
  {
   "cell_type": "markdown",
   "id": "a7ce1e1a-53bc-41c8-8518-4fc833eeb61d",
   "metadata": {},
   "source": [
    "#### Task4:\n",
    "You need to write a program that takes sequence of lines as input and prints the\n",
    "lines after making all characters in the sentence capitalized.\n",
    "\n",
    "Suppose the following input is supplied to the program:\n",
    "\n",
    "Hello world\n",
    "\n",
    "Practice makes perfect\n",
    "\n",
    "Then, the output should be:\n",
    "\n",
    "HELLO WORLD\n",
    "\n",
    "PRACTICE MAKES PERFECT"
   ]
  },
  {
   "cell_type": "code",
   "execution_count": 5,
   "id": "7714ead8-40fe-4e44-ba2d-5579b8fbdb15",
   "metadata": {},
   "outputs": [
    {
     "name": "stdin",
     "output_type": "stream",
     "text": [
      " hello\n"
     ]
    },
    {
     "name": "stdout",
     "output_type": "stream",
     "text": [
      "HELLO\n"
     ]
    },
    {
     "name": "stdin",
     "output_type": "stream",
     "text": [
      " practice makes perfect\n"
     ]
    },
    {
     "name": "stdout",
     "output_type": "stream",
     "text": [
      "PRACTICE MAKES PERFECT\n"
     ]
    },
    {
     "name": "stdin",
     "output_type": "stream",
     "text": [
      " exit\n"
     ]
    }
   ],
   "source": [
    "while True:\n",
    "    line = input()  \n",
    "    \n",
    "    if line.lower() == 'exit': \n",
    "        break\n",
    "    \n",
    "    print(line.upper())  "
   ]
  },
  {
   "cell_type": "markdown",
   "id": "797ffbf2-4bbf-479f-aac7-781db5bb9851",
   "metadata": {},
   "source": [
    "#### Task 5:\n",
    "You need to write a function that counts the number of vowels in a given\n",
    "sentence as input from console.\n",
    "\n",
    "Suppose the following input is supplied to the program:\n",
    "\n",
    "Hello world\n",
    "\n",
    "Practice makes perfect\n",
    "\n",
    "Then, the output should be:\n",
    "\n",
    "a appeared 2 times\n",
    "\n",
    "e appeared 5 times\n",
    "\n",
    "i appeared 1 time\n",
    "\n",
    "o appeared 2 times\n",
    "\n",
    "u appeared 0 time\n",
    "\n",
    "PRACTICE MAKES PERFECT"
   ]
  },
  {
   "cell_type": "code",
   "execution_count": 6,
   "id": "686ef1a4-75e3-43c5-87bb-e0b489394fbf",
   "metadata": {},
   "outputs": [
    {
     "name": "stdin",
     "output_type": "stream",
     "text": [
      "Enter sentences:  hello world\n"
     ]
    },
    {
     "name": "stdout",
     "output_type": "stream",
     "text": [
      "a appeared 0 times\n",
      "e appeared 1 times\n",
      "i appeared 0 times\n",
      "o appeared 2 times\n",
      "u appeared 0 times\n",
      "HELLO WORLD\n"
     ]
    }
   ],
   "source": [
    "def count_vowels(sentence):\n",
    "    vowels = 'aeiou'\n",
    "    vowel_count = {vowel: 0 for vowel in vowels}\n",
    "    for char in sentence.lower():\n",
    "        if char in vowels:\n",
    "            vowel_count[char] += 1\n",
    "    for vowel, count in vowel_count.items():\n",
    "        print(f\"{vowel} appeared {count} times\")\n",
    "    print(sentence.upper())\n",
    "\n",
    "sentences = input(\"Enter sentences: \")\n",
    "count_vowels(sentences)"
   ]
  },
  {
   "cell_type": "markdown",
   "id": "f9b5d82c-7cac-4a30-b552-28dca3660607",
   "metadata": {},
   "source": [
    "#### Task6:\n",
    "\n",
    "You need write a function that traces and makes a list of all such numbers\n",
    "from1000 to 3000 in which all the digits are even numbers."
   ]
  },
  {
   "cell_type": "code",
   "execution_count": 7,
   "id": "e623c175-414c-4cfa-baf8-57be93977c2f",
   "metadata": {},
   "outputs": [
    {
     "name": "stdout",
     "output_type": "stream",
     "text": [
      "[2000, 2002, 2004, 2006, 2008, 2020, 2022, 2024, 2026, 2028, 2040, 2042, 2044, 2046, 2048, 2060, 2062, 2064, 2066, 2068, 2080, 2082, 2084, 2086, 2088, 2200, 2202, 2204, 2206, 2208, 2220, 2222, 2224, 2226, 2228, 2240, 2242, 2244, 2246, 2248, 2260, 2262, 2264, 2266, 2268, 2280, 2282, 2284, 2286, 2288, 2400, 2402, 2404, 2406, 2408, 2420, 2422, 2424, 2426, 2428, 2440, 2442, 2444, 2446, 2448, 2460, 2462, 2464, 2466, 2468, 2480, 2482, 2484, 2486, 2488, 2600, 2602, 2604, 2606, 2608, 2620, 2622, 2624, 2626, 2628, 2640, 2642, 2644, 2646, 2648, 2660, 2662, 2664, 2666, 2668, 2680, 2682, 2684, 2686, 2688, 2800, 2802, 2804, 2806, 2808, 2820, 2822, 2824, 2826, 2828, 2840, 2842, 2844, 2846, 2848, 2860, 2862, 2864, 2866, 2868, 2880, 2882, 2884, 2886, 2888]\n"
     ]
    }
   ],
   "source": [
    "def find_even_digit_numbers():\n",
    "    results = []\n",
    "    for num in range(1000, 3001):\n",
    "        digits = str(num)\n",
    "        if all(int(digit) % 2 == 0 for digit in digits):\n",
    "            results.append(num)\n",
    "    return results\n",
    "\n",
    "even_numbers = find_even_digit_numbers()\n",
    "print(even_numbers)"
   ]
  },
  {
   "cell_type": "markdown",
   "id": "1b74eba2-d5ee-40c9-b123-d39bbb4b7b1f",
   "metadata": {},
   "source": [
    "#### Task7:\n",
    "You need to write a code which accepts a sequence of comma separated 4 digit\n",
    "binary numbers as its input and then check whether they are divisible by 5 or not.\n",
    "The numbers that are divisible by 5 are to be printed in a comma separated\n",
    "sequence.\n",
    "Example:\n",
    "0100,0011,1010,1001\n",
    "Then the output should be:\n",
    "1010"
   ]
  },
  {
   "cell_type": "code",
   "execution_count": 9,
   "id": "1e3a965b-3050-46ff-9cf5-fdadd7d97a49",
   "metadata": {},
   "outputs": [
    {
     "name": "stdin",
     "output_type": "stream",
     "text": [
      "Enter 4-digit binary numbers (comma-separated):  0100,0011,1010,1001\n"
     ]
    },
    {
     "name": "stdout",
     "output_type": "stream",
     "text": [
      "1010\n"
     ]
    }
   ],
   "source": [
    "def divisible_by_five(binary_numbers):\n",
    "    binary_list = binary_numbers.split(',')\n",
    "    divisible = []\n",
    "    for binary in binary_list:\n",
    "        if int(binary, 2) % 5 == 0:\n",
    "            divisible.append(binary)\n",
    "    print(','.join(divisible))\n",
    "\n",
    "binary_numbers = input(\"Enter 4-digit binary numbers (comma-separated): \")\n",
    "divisible_by_five(binary_numbers)"
   ]
  },
  {
   "cell_type": "markdown",
   "id": "fe716c93-41d4-42cc-985b-ef8ad387209b",
   "metadata": {},
   "source": [
    "#### Task8:\n",
    "Write a program that accepts a sentence and calculate the number of letters and\n",
    "digits.\n",
    "\n",
    "Suppose the following input is supplied to the program:\n",
    "\n",
    "hello world! 123\n",
    "\n",
    "Then, the output should be:\n",
    "\n",
    "LETTERS 10\n",
    "\n",
    "DIGITS 3"
   ]
  },
  {
   "cell_type": "code",
   "execution_count": 10,
   "id": "f3e1f81f-32a6-4207-9a50-e41ec2063aed",
   "metadata": {},
   "outputs": [
    {
     "name": "stdin",
     "output_type": "stream",
     "text": [
      "Enter a sentence:  hello! how are you?\n"
     ]
    },
    {
     "name": "stdout",
     "output_type": "stream",
     "text": [
      "LETTERS 14\n",
      "DIGITS 0\n"
     ]
    }
   ],
   "source": [
    "def count_letters_and_digits(sentence):\n",
    "    letters = 0\n",
    "    digits = 0\n",
    "    for char in sentence:\n",
    "        if char.isalpha():\n",
    "            letters += 1\n",
    "        elif char.isdigit():\n",
    "            digits += 1\n",
    "    print(f\"LETTERS {letters}\")\n",
    "    print(f\"DIGITS {digits}\")\n",
    "\n",
    "sentence = input(\"Enter a sentence: \")\n",
    "count_letters_and_digits(sentence)"
   ]
  }
 ],
 "metadata": {
  "kernelspec": {
   "display_name": "Python 3 (ipykernel)",
   "language": "python",
   "name": "python3"
  },
  "language_info": {
   "codemirror_mode": {
    "name": "ipython",
    "version": 3
   },
   "file_extension": ".py",
   "mimetype": "text/x-python",
   "name": "python",
   "nbconvert_exporter": "python",
   "pygments_lexer": "ipython3",
   "version": "3.12.7"
  }
 },
 "nbformat": 4,
 "nbformat_minor": 5
}
