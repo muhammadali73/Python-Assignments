{
 "cells": [
  {
   "cell_type": "markdown",
   "id": "5edcdf83-2513-4ee0-9b13-b1185dd4e43b",
   "metadata": {},
   "source": [
    "# Conditional Structures"
   ]
  },
  {
   "cell_type": "markdown",
   "id": "df6dd1cd-39d4-44ae-9123-8daf68a63f48",
   "metadata": {},
   "source": [
    "1. Write a program that prompts the user to input a number and display if the number\n",
    "is even or odd."
   ]
  },
  {
   "cell_type": "code",
   "execution_count": 12,
   "id": "9f18bfca-63be-43a0-b922-2b0f6f1f516f",
   "metadata": {},
   "outputs": [
    {
     "name": "stdin",
     "output_type": "stream",
     "text": [
      "Enter a number :  17\n"
     ]
    },
    {
     "name": "stdout",
     "output_type": "stream",
     "text": [
      "You entered an odd number.\n"
     ]
    }
   ],
   "source": [
    "try:\n",
    "    user_input = int(input(\"Enter a number : \"))\n",
    "\n",
    "    if user_input % 2 == 0:\n",
    "        print(\"You entered an even number.\")\n",
    "    if user_input % 2 == 1:\n",
    "        print(\"You entered an odd number.\")\n",
    "except ValueError:\n",
    "    print(\"Please don't enter number in float or any alphabet\")"
   ]
  },
  {
   "cell_type": "markdown",
   "id": "7fbc725b-1047-4beb-a984-25ee5b4bfd63",
   "metadata": {},
   "source": [
    "2. Write a Python program that takes an age as input and determines whether a person\n",
    "is eligible to vote. If the age is 18 or above, print \"You are eligible to vote.\" Otherwise,\n",
    "print \"You are not eligible to vote yet.\"."
   ]
  },
  {
   "cell_type": "code",
   "execution_count": 21,
   "id": "a11432c0-f7bb-4174-b975-f7d90f679de6",
   "metadata": {},
   "outputs": [
    {
     "name": "stdin",
     "output_type": "stream",
     "text": [
      "Enter your age :  16\n"
     ]
    },
    {
     "name": "stdout",
     "output_type": "stream",
     "text": [
      "Your are not eligible to vote yet.\n"
     ]
    }
   ],
   "source": [
    "try:\n",
    "    age = float(input(\"Enter your age : \"))\n",
    "\n",
    "    if age >= 18:\n",
    "        print(\"Your are eligible to vote.\")\n",
    "    else:\n",
    "        print(\"Your are not eligible to vote yet.\")\n",
    "except ValueError:\n",
    "    print(\"Please don't Enter an alphabet.\")"
   ]
  },
  {
   "cell_type": "markdown",
   "id": "a640aec6-72cc-4eaa-bbd7-1a242b34411c",
   "metadata": {},
   "source": [
    "3. Write a program that prompts the user to input two integers and outputs the largest."
   ]
  },
  {
   "cell_type": "code",
   "execution_count": 26,
   "id": "8e0d3d18-0951-46c4-9d9a-2788e408b8cf",
   "metadata": {},
   "outputs": [
    {
     "name": "stdin",
     "output_type": "stream",
     "text": [
      "Enter First number :  73\n",
      "Enter Second number :  29\n"
     ]
    },
    {
     "name": "stdout",
     "output_type": "stream",
     "text": [
      "The greater number is = 73.0\n"
     ]
    }
   ],
   "source": [
    "try:\n",
    "    num1 = float(input(\"Enter First number : \"))\n",
    "    num2 = float(input(\"Enter Second number : \"))\n",
    "\n",
    "    if num1 > num2:\n",
    "        print(f\"The greater number is = {num1}.\")\n",
    "    elif num2 > num1:\n",
    "        print(f\"The greater number is = {num2}.\")\n",
    "    else:\n",
    "        print(\"Both numbers are Equal.\")\n",
    "except ValueError:\n",
    "    print(\"Please don't Enter an alphabet.\")"
   ]
  },
  {
   "cell_type": "markdown",
   "id": "d4b680b1-1e76-4a1d-acd2-290a2837abd6",
   "metadata": {},
   "source": [
    "4. Write a program that prompts the user to enter a number and determines whether it\n",
    "is positive, negative, or zero. The program should print \"Positive\" if the number is\n",
    "greater than 0, \"Negative\" if the number is less than 0, and \"Zero\" if the number is 0."
   ]
  },
  {
   "cell_type": "code",
   "execution_count": 35,
   "id": "16402bd4-d0a5-4fe1-bbd3-247a0fe43c62",
   "metadata": {},
   "outputs": [
    {
     "name": "stdin",
     "output_type": "stream",
     "text": [
      "Enter a number :  -23\n"
     ]
    },
    {
     "name": "stdout",
     "output_type": "stream",
     "text": [
      "Number is Negative\n"
     ]
    }
   ],
   "source": [
    "try:\n",
    "    num = float(input(\"Enter a number : \"))\n",
    "\n",
    "    if num > 0:\n",
    "        print(\"Number is Positive.\")\n",
    "    elif num == 0:\n",
    "        print(\"Number is Zero.\")\n",
    "    else:\n",
    "        print(\"Number is Negative.\")\n",
    "except ValueError:\n",
    "    print(\"Please don't Enter an alphabet.\")"
   ]
  },
  {
   "cell_type": "markdown",
   "id": "e2d019d5-a334-4f20-bedb-4c64b1e952d1",
   "metadata": {},
   "source": [
    "5. Write a program that prompts the user to enter their age and prints the\n",
    "corresponding age group. The program should use the following age groups:\n",
    "\n",
    "0-12: Child\n",
    "\n",
    "13-19: Teenager\n",
    "\n",
    "20-59: Adult\n",
    "\n",
    "60 and above: Senior Citizen"
   ]
  },
  {
   "cell_type": "code",
   "execution_count": 41,
   "id": "bee2236b-f1f2-465c-8486-03fce0fba2ae",
   "metadata": {},
   "outputs": [
    {
     "name": "stdin",
     "output_type": "stream",
     "text": [
      "Enter your age :  0\n"
     ]
    },
    {
     "name": "stdout",
     "output_type": "stream",
     "text": [
      "You're child.\n"
     ]
    }
   ],
   "source": [
    "try:\n",
    "    age = float(input(\"Enter your age : \"))\n",
    "\n",
    "    if age >= 60:\n",
    "        print(\"You're senior citizen.\")\n",
    "    elif age >= 20:\n",
    "        print(\"You're adult.\")\n",
    "    elif age >= 13:\n",
    "        print(\"You're teenager.\")\n",
    "    elif age >= 0:\n",
    "        print(\"You're child.\")\n",
    "    elif age < 0:\n",
    "        print(\"Please enter correct age.\")\n",
    "except ValueError:\n",
    "    print(\"Please don't Enter an alphabet.\")"
   ]
  },
  {
   "cell_type": "markdown",
   "id": "7abae63a-7608-4553-bb21-f2bb881ddcab",
   "metadata": {},
   "source": [
    "6. Write a program that prompts the user to input a number from 1 to 7. The program\n",
    "should display the corresponding day for the given number. For example, if the user\n",
    "types 1, the output should be Sunday. If the user types 7, the output should be\n",
    "Saturday. If the number is not between 1 to 7 user should get error message as shown\n",
    "in sample output."
   ]
  },
  {
   "cell_type": "code",
   "execution_count": 59,
   "id": "293333c9-1e0f-48c4-a1be-a042b125757f",
   "metadata": {},
   "outputs": [
    {
     "name": "stdin",
     "output_type": "stream",
     "text": [
      "Enter a day number from 1 to 7 :  6\n"
     ]
    },
    {
     "name": "stdout",
     "output_type": "stream",
     "text": [
      "Friday\n"
     ]
    }
   ],
   "source": [
    "try:\n",
    "    user_input = int(input(\"Enter a day number from 1 to 7 : \"))\n",
    "    days = [\"\",\"Sunday\",\"Monday\",\"Tuesday\",\"Wednesday\",\"Thursday\",\"Friday\",\"Saturday\"]\n",
    "\n",
    "    print(days[user_input])\n",
    "    if user_input == 0:\n",
    "        print(\"I said enter from 1 to 7\")\n",
    "except IndexError:\n",
    "    print(\"Enter number from 1 to 7\")"
   ]
  },
  {
   "cell_type": "markdown",
   "id": "4b9f78cb-f5b5-406d-9bc8-b241cb821c6a",
   "metadata": {},
   "source": [
    "7. Write a program that prompts the user to enter their weight (in kilograms) and height\n",
    "(in meters). The program should calculate the Body Mass Index (BMI) using the formula:\n",
    "BMI = weight / (height * height). The program should then classify the BMI into one of\n",
    "the following categories:\n",
    "\n",
    "less than 18.5 - Underweight\n",
    "\n",
    "BMI between 18.5 and 24.9 - Normal weight\n",
    "\n",
    "BMI between 25 and 29.9 - Overweight\n",
    "\n",
    "BMI 30 or greater - Obesity"
   ]
  },
  {
   "cell_type": "code",
   "execution_count": 2,
   "id": "fe2e3d28-f18b-4a92-a1e2-dda1ba73ba97",
   "metadata": {},
   "outputs": [
    {
     "name": "stdin",
     "output_type": "stream",
     "text": [
      "Enter your weight in KG :  65\n",
      "Enter your height in Meters 1.7\n"
     ]
    },
    {
     "name": "stdout",
     "output_type": "stream",
     "text": [
      "Your BMI is = 22.49134948096886\n",
      "You are Normal weight\n"
     ]
    }
   ],
   "source": [
    "try:\n",
    "    weight = float(input(\"Enter your weight in KG : \"))\n",
    "    height = float(input(\"Enter your height in Meters\"))\n",
    "\n",
    "    bmi = weight/height**2\n",
    "    print(f\"Your BMI is = {bmi}\")\n",
    "\n",
    "    if bmi <= 18.5:\n",
    "        print(\"You are Uderweight\")\n",
    "    elif bmi <= 24.9:\n",
    "        print(\"You are Normal weight\")\n",
    "    elif bmi <= 29.9:\n",
    "        print(\"You are Overweight\")\n",
    "    elif bmi >= 30:\n",
    "        print(\"You are Obese\")\n",
    "except ValueError:\n",
    "    print(\"Please don't Enter an alphabet.\")"
   ]
  },
  {
   "cell_type": "markdown",
   "id": "1ab36510-cdef-4dba-8d57-6e41094936fb",
   "metadata": {},
   "source": [
    "8. The marks obtained by a student in 3 different subjects are input by the user. Your\n",
    "program should calculate the average of subjects and display the grade. The student\n",
    "gets a grade as per the following rules:\n",
    "\n",
    "Average Grade\n",
    "\n",
    "90-100 A\n",
    "\n",
    "80-89 B\n",
    "\n",
    "70-79 C\n",
    "\n",
    "60-69 D\n",
    "\n",
    "0-59 F"
   ]
  },
  {
   "cell_type": "code",
   "execution_count": 8,
   "id": "830adf6c-fe8c-436f-ae1e-ac3126db113b",
   "metadata": {},
   "outputs": [
    {
     "name": "stdin",
     "output_type": "stream",
     "text": [
      "Enter your english marks 172\n",
      "Enter your maths marks 128\n",
      "Enter your computer marks 191\n"
     ]
    },
    {
     "name": "stdout",
     "output_type": "stream",
     "text": [
      "\n",
      "          *****Result of examination 2024*****\n",
      "          \n",
      "          Obtained english marks  = 172.0\n",
      "          Average marks english   = 64.0\n",
      "          Obtained maths marks    = 128.0\n",
      "          Average marks maths     = 64.0\n",
      "          Obtained computer marks = 191.0\n",
      "          Average marks computer  = 64.0\n",
      "\n",
      "          Max marks of subjects   = 600\n",
      "          Total obtained marks    = 491.0\n",
      "          Total Percentage        = 81.83333333333334\n",
      "          Grade                   = B\n",
      "\n"
     ]
    }
   ],
   "source": [
    "eng_marks = float(input(\"Enter your english marks\"))\n",
    "maths_marks = float(input(\"Enter your maths marks\"))\n",
    "comp_marks = float(input(\"Enter your computer marks\"))\n",
    "\n",
    "maths_avg = maths_marks / 200 * 100\n",
    "eng_avg = maths_marks / 200 * 100\n",
    "comp_avg = maths_marks / 200 * 100\n",
    "\n",
    "total_marks = eng_marks + maths_marks + comp_marks\n",
    "max_marks = 600\n",
    "total_avg = total_marks / max_marks * 100\n",
    "grade = \"\"\n",
    "\n",
    "if total_avg >= 90:\n",
    "    grade = \"A\"\n",
    "elif total_avg >= 80:\n",
    "    grade = \"B\"\n",
    "elif total_avg >= 70:\n",
    "    grade = \"C\"\n",
    "elif total_avg >= 60:\n",
    "    grade = \"D\"\n",
    "else:\n",
    "    grade = \"F\"\n",
    "\n",
    "print(f\"\"\"\n",
    "          *****Result of examination 2024*****\n",
    "          \n",
    "          Obtained english marks  = {eng_marks}\n",
    "          Average marks english   = {eng_avg}\n",
    "          Obtained maths marks    = {maths_marks}\n",
    "          Average marks maths     = {maths_avg}\n",
    "          Obtained computer marks = {comp_marks}\n",
    "          Average marks computer  = {comp_avg}\n",
    "\n",
    "          Max marks of subjects   = {max_marks}\n",
    "          Total obtained marks    = {total_marks}\n",
    "          Total Percentage        = {total_avg}\n",
    "          Grade                   = {grade}\n",
    "\"\"\")"
   ]
  },
  {
   "cell_type": "markdown",
   "id": "4d4ad7ae-0a5a-4cc0-90f2-e7b64e02bd6b",
   "metadata": {},
   "source": [
    "9. The roots of the quadratic equation ax2 + bx + c = 0, a ≠ 0 are given by the following\n",
    "\n",
    "formula:\n",
    "\n",
    "In this formula, the term b2\n",
    "\n",
    "- 4ac is called the discriminant. If b2\n",
    "\n",
    "- 4ac = 0, then the\n",
    "\n",
    "equation has two equal roots.\n",
    "If b2\n",
    "- 4ac > 0, the equation has two real roots. If b2\n",
    "\n",
    "- 4ac < 0, the equation has two\n",
    "\n",
    "complex roots.\n",
    "Write a program that prompts the user to input the value of a (the coefficient of x2\n",
    "), b\n",
    "(the coefficient of x), and c (the constant term) and outputs the roots of the quadratic\n",
    "equation."
   ]
  },
  {
   "cell_type": "code",
   "execution_count": 9,
   "id": "eb0cac00-f770-4330-9b48-047c6589fc41",
   "metadata": {},
   "outputs": [
    {
     "name": "stdin",
     "output_type": "stream",
     "text": [
      "Enter value of a (a ≠ 0):  1\n",
      "Enter value of b:  -3\n",
      "Enter value of c:  3\n"
     ]
    },
    {
     "name": "stdout",
     "output_type": "stream",
     "text": [
      "The roots are complex:\n",
      "Root 1: 1.5 + 0.8660254037844386 i\n",
      "Root 2: 1.5 - 0.8660254037844386 i\n"
     ]
    }
   ],
   "source": [
    "# Input coefficients\n",
    "a = float(input(\"Enter value of a (a ≠ 0): \"))\n",
    "\n",
    "if a == 0:\n",
    "    print(\"Value of 'a' cannot be zero.\")\n",
    "else:\n",
    "    b = float(input(\"Enter value of b: \"))\n",
    "    c = float(input(\"Enter value of c: \"))\n",
    "\n",
    "    # Calculate the discriminant\n",
    "    discriminant = b * b - 4 * a * c\n",
    "\n",
    "    # Check for roots\n",
    "    if discriminant > 0:\n",
    "        root1 = (-b + (discriminant ** 0.5)) / (2 * a)\n",
    "        root2 = (-b - (discriminant ** 0.5)) / (2 * a)\n",
    "        print(\"The roots are real and different:\")\n",
    "        print(\"Root 1:\", root1)\n",
    "        print(\"Root 2:\", root2)\n",
    "    elif discriminant == 0:\n",
    "        root = -b / (2 * a)\n",
    "        print(\"The root is real and same:\")\n",
    "        print(\"Root:\", root)\n",
    "    else:\n",
    "        real_part = -b / (2 * a)\n",
    "        imaginary_part = ((-discriminant) ** 0.5) / (2 * a)\n",
    "        print(\"The roots are complex:\")\n",
    "        print(\"Root 1:\", real_part, \"+\", imaginary_part, \"i\")\n",
    "        print(\"Root 2:\", real_part, \"-\", imaginary_part, \"i\")"
   ]
  },
  {
   "cell_type": "markdown",
   "id": "529d819a-a7e9-4969-bdac-7f0d8667a527",
   "metadata": {},
   "source": [
    "10. Write a program that prompts the user to enter three numbers and sorts them in\n",
    "ascending order. The program should print the sorted numbers."
   ]
  },
  {
   "cell_type": "code",
   "execution_count": 16,
   "id": "bc6e7c3e-1740-4dde-b7dc-4c718693f0aa",
   "metadata": {},
   "outputs": [
    {
     "name": "stdin",
     "output_type": "stream",
     "text": [
      "Enter the first number:  73\n",
      "Enter the second number:  283\n",
      "Enter the third number:  83\n"
     ]
    },
    {
     "name": "stdout",
     "output_type": "stream",
     "text": [
      "The numbers in ascending order are: 73, 83, 283\n"
     ]
    }
   ],
   "source": [
    "num1 = int(input(\"Enter the first number: \"))\n",
    "num2 = int(input(\"Enter the second number: \"))\n",
    "num3 = int(input(\"Enter the third number: \"))\n",
    "\n",
    "\n",
    "if num1 > num2:\n",
    "    num1, num2 = num2, num1  \n",
    "if num1 > num3:\n",
    "    num1, num3 = num3, num1  \n",
    "if num2 > num3:\n",
    "    num2, num3 = num3, num2  \n",
    "    \n",
    "print(f\"The numbers in ascending order are: {num1}, {num2}, {num3}\")\n"
   ]
  },
  {
   "cell_type": "markdown",
   "id": "80ade685-2f82-40b2-ab70-2055ed967d70",
   "metadata": {},
   "source": [
    "11. Write a program that prompts the user to input three integers and outputs the\n",
    "largest."
   ]
  },
  {
   "cell_type": "code",
   "execution_count": 17,
   "id": "5ca02cbe-a96c-4191-aa58-6ea73dd83f93",
   "metadata": {},
   "outputs": [
    {
     "name": "stdin",
     "output_type": "stream",
     "text": [
      "Enter the first number:  1\n",
      "Enter the second number:  8\n",
      "Enter the third number:  4\n"
     ]
    },
    {
     "name": "stdout",
     "output_type": "stream",
     "text": [
      "The largest number is: 8\n"
     ]
    }
   ],
   "source": [
    "num1 = int(input(\"Enter the first number: \"))\n",
    "num2 = int(input(\"Enter the second number: \"))\n",
    "num3 = int(input(\"Enter the third number: \"))\n",
    "\n",
    "if num1 >= num2 and num1 >= num3:\n",
    "    largest = num1\n",
    "elif num2 >= num1 and num2 >= num3:\n",
    "    largest = num2\n",
    "else:\n",
    "    largest = num3\n",
    "\n",
    "print(\"The largest number is:\", largest)\n"
   ]
  },
  {
   "cell_type": "markdown",
   "id": "6cbc13bb-a58d-4669-8f5e-22d9b914655a",
   "metadata": {},
   "source": [
    "12. Write a program that prompts the user to input a character and determine the\n",
    "character is vowel or consonant."
   ]
  },
  {
   "cell_type": "code",
   "execution_count": 44,
   "id": "6fae429d-22a8-4b2a-960b-4c8ec6e48fd9",
   "metadata": {},
   "outputs": [
    {
     "name": "stdin",
     "output_type": "stream",
     "text": [
      "Enter a single character :  u\n"
     ]
    },
    {
     "name": "stdout",
     "output_type": "stream",
     "text": [
      "Your letter is vowel.\n"
     ]
    }
   ],
   "source": [
    "user_input = input(\"Enter a single character : \").lower()\n",
    "\n",
    "if len(user_input) == 1:\n",
    "    if user_input.isalpha():\n",
    "        if user_input in \"aeiou\":\n",
    "            print(\"Your letter is vowel.\")\n",
    "        else:\n",
    "            print(\"Your letter is consonant.\")\n",
    "    else:\n",
    "        print(\"Please do not enter numbers\")\n",
    "else:\n",
    "    print(\"Please enter only 1 character.\")"
   ]
  },
  {
   "cell_type": "markdown",
   "id": "3d412592-d7f4-4461-a0a1-d0c890f3a4d7",
   "metadata": {},
   "source": [
    "13. Write a program that prompts the user to input a year and determine whether the\n",
    "year is a leap year or not.\n",
    "\n",
    "Leap Years are any year that can be evenly divided by 4. A year that is evenly divisible by\n",
    "100 is a leap year only if it is also evenly divisible by 400. Example:"
   ]
  },
  {
   "cell_type": "code",
   "execution_count": 48,
   "id": "638db356-e23d-4aac-856f-94a1c79bba1e",
   "metadata": {},
   "outputs": [
    {
     "name": "stdin",
     "output_type": "stream",
     "text": [
      "Enter a year:  1992\n"
     ]
    },
    {
     "name": "stdout",
     "output_type": "stream",
     "text": [
      "1992 is a leap year.\n"
     ]
    }
   ],
   "source": [
    "year = int(input(\"Enter a year: \"))\n",
    "\n",
    "if year % 4 == 0:\n",
    "    if year % 100 == 0: \n",
    "        if year % 400 == 0:\n",
    "            print(f\"{year} is a leap year.\")\n",
    "        else:\n",
    "            print(f\"{year} is not a leap year.\")\n",
    "    else:\n",
    "        print(f\"{year} is a leap year.\")\n",
    "else:\n",
    "    print(f\"{year} is not a leap year.\")"
   ]
  },
  {
   "cell_type": "markdown",
   "id": "5d417a4e-4dc5-4cdb-8a8c-74e184d52091",
   "metadata": {},
   "source": [
    "14. Write a program that prompts the user to input number of calls and calculate the\n",
    "monthly telephone bills as per the following rule:\n",
    "\n",
    "Minimum Rs. 200 for up to 100 calls.\n",
    "\n",
    "Plus Rs. 0.60 per call for next 50 calls.\n",
    "\n",
    "Plus Rs. 0.50 per call for next 50 calls.\n",
    "\n",
    "Plus Rs. 0.40 per call for any call beyond 200 calls."
   ]
  },
  {
   "cell_type": "code",
   "execution_count": 51,
   "id": "861f2fc0-a5cf-46d7-a00a-2f8e5c084e7c",
   "metadata": {},
   "outputs": [
    {
     "name": "stdin",
     "output_type": "stream",
     "text": [
      "Enter the number of calls:  205\n"
     ]
    },
    {
     "name": "stdout",
     "output_type": "stream",
     "text": [
      "Your total telephone bill is: Rs. 257.0\n"
     ]
    }
   ],
   "source": [
    "calls = int(input(\"Enter the number of calls: \"))\n",
    "\n",
    "bill = 200 \n",
    "\n",
    "if calls > 100:\n",
    "    if calls <= 150:\n",
    "        bill += (calls - 100) * 0.60  \n",
    "    elif calls <= 200:\n",
    "        bill += (50 * 0.60) + (calls - 150) * 0.50 \n",
    "    else:\n",
    "        bill += (50 * 0.60) + (50 * 0.50) + (calls - 200) * 0.40 \n",
    "\n",
    "print(\"Your total telephone bill is: Rs.\", bill)"
   ]
  }
 ],
 "metadata": {
  "kernelspec": {
   "display_name": "Python 3 (ipykernel)",
   "language": "python",
   "name": "python3"
  },
  "language_info": {
   "codemirror_mode": {
    "name": "ipython",
    "version": 3
   },
   "file_extension": ".py",
   "mimetype": "text/x-python",
   "name": "python",
   "nbconvert_exporter": "python",
   "pygments_lexer": "ipython3",
   "version": "3.12.7"
  }
 },
 "nbformat": 4,
 "nbformat_minor": 5
}
