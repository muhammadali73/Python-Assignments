{
 "cells": [
  {
   "cell_type": "markdown",
   "metadata": {},
   "source": [
    "# List Assignment"
   ]
  },
  {
   "cell_type": "markdown",
   "metadata": {},
   "source": [
    "#### 1. Write a program that accepts a list from user and print the alternate element of list."
   ]
  },
  {
   "cell_type": "code",
   "execution_count": 2,
   "metadata": {},
   "outputs": [
    {
     "name": "stdin",
     "output_type": "stream",
     "text": [
      "Enter elements of the list separated by spaces:  2 4 8 10 12 14 \n"
     ]
    },
    {
     "name": "stdout",
     "output_type": "stream",
     "text": [
      "List of alternate elements: ['2', '8', '12']\n"
     ]
    }
   ],
   "source": [
    "# Input list from the user\n",
    "user_input = input(\"Enter elements of the list separated by spaces: \")\n",
    "original_list = user_input.split() \n",
    "alternate_list = []\n",
    "for i in range(0, len(original_list), 2):\n",
    "    alternate_list.insert(len(alternate_list), original_list[i]) \n",
    "\n",
    "# Print the resulting list\n",
    "print(\"List of alternate elements:\", alternate_list)"
   ]
  },
  {
   "cell_type": "markdown",
   "metadata": {},
   "source": [
    "#### 2. Write a program that accepts a list from user. Your program should reverse the content of list and display it. Do not use reverse() method."
   ]
  },
  {
   "cell_type": "code",
   "execution_count": 1,
   "metadata": {},
   "outputs": [
    {
     "name": "stdin",
     "output_type": "stream",
     "text": [
      "Enter elements of the list separated by spaces:  2 4 8 10 12 14\n"
     ]
    },
    {
     "name": "stdout",
     "output_type": "stream",
     "text": [
      "['14', '12', '10', '8', '4', '2']\n"
     ]
    }
   ],
   "source": [
    "user_input = input(\"Enter elements of the list separated by spaces: \")\n",
    "original_list = user_input.split()\n",
    "print(original_list[::-1])"
   ]
  },
  {
   "cell_type": "markdown",
   "metadata": {},
   "source": [
    "#### 3. Find and display the largest number of a list without using built-in function max(). Your programshould ask the user to input values in list from keyboard."
   ]
  },
  {
   "cell_type": "code",
   "execution_count": 18,
   "metadata": {},
   "outputs": [
    {
     "name": "stdin",
     "output_type": "stream",
     "text": [
      "Enter numbers in the list separated by spaces:  2 4 8 10 73 283 94 83\n"
     ]
    },
    {
     "name": "stdout",
     "output_type": "stream",
     "text": [
      "The largest number is: 283\n"
     ]
    }
   ],
   "source": [
    "def find_max(lst):\n",
    "    max_num = lst[0]\n",
    "    for a in lst:\n",
    "        if a > max_num:\n",
    "            max_num = a\n",
    "    print(\"The largest number is:\", max_num)\n",
    "user_input = input(\"Enter numbers in the list separated by spaces: \")\n",
    "numbers = [int(num) for num in user_input.split()]\n",
    "find_max(numbers)"
   ]
  },
  {
   "cell_type": "markdown",
   "metadata": {},
   "source": [
    "#### 4. Write a program that rotates the element of a list so that the element at the first index moves to the second index, the element in the second index moves to the third index, etc., and the element in the last index moves to the first index."
   ]
  },
  {
   "cell_type": "code",
   "execution_count": 35,
   "metadata": {},
   "outputs": [
    {
     "data": {
      "text/plain": [
       "[10, 3, 1, 2, 4, 5, 6, 7, 8, 9]"
      ]
     },
     "execution_count": 35,
     "metadata": {},
     "output_type": "execute_result"
    }
   ],
   "source": [
    "lista = [1,2,3,4,5,6,7,8,9,10]\n",
    "lista.pop(1)\n",
    "lista.pop(1)\n",
    "lista.insert(1,2)\n",
    "lista.insert(1,3)\n",
    "lista.pop(0)\n",
    "lista.insert(1,1)\n",
    "lista.pop(9)\n",
    "lista.insert(0,10)\n",
    "lista"
   ]
  },
  {
   "cell_type": "markdown",
   "metadata": {},
   "source": [
    "#### 5. Write a program that input a string and ask user to delete a given word from a string."
   ]
  },
  {
   "cell_type": "code",
   "execution_count": 47,
   "metadata": {},
   "outputs": [
    {
     "name": "stdin",
     "output_type": "stream",
     "text": [
      "Enter a word : exactly\n",
      "your want to delete your word? yes or no :  yes\n"
     ]
    },
    {
     "name": "stdout",
     "output_type": "stream",
     "text": [
      "succesfully deleted a word : exactly\n"
     ]
    }
   ],
   "source": [
    "word = input(\"Enter a word :\")\n",
    "user = input(\"your want to delete your word? yes or no : \")\n",
    "\n",
    "if user == \"yes\":\n",
    "    print(f\"succesfully deleted a word : {word}\")\n",
    "    del word\n",
    "elif user == \"no\":\n",
    "    print(f\"The word is still here : {word}\")\n",
    "else:\n",
    "    print(\"please answer in yes or no\")"
   ]
  },
  {
   "cell_type": "markdown",
   "metadata": {},
   "source": [
    "#### 6. Write a program that reads a string from the user containing a date in the form mm/dd/yyyy. It should print the date in the form March 12, 2021."
   ]
  },
  {
   "cell_type": "code",
   "execution_count": 59,
   "metadata": {},
   "outputs": [
    {
     "name": "stdin",
     "output_type": "stream",
     "text": [
      "Enter a date in the form mm/dd/yyyy:  12/12/2005\n"
     ]
    },
    {
     "name": "stdout",
     "output_type": "stream",
     "text": [
      "December 12, 2005\n"
     ]
    }
   ],
   "source": [
    "months = {\n",
    "    \"01\": \"January\", \"02\": \"February\", \"03\": \"March\", \"04\": \"April\",\n",
    "    \"05\": \"May\", \"06\": \"June\", \"07\": \"July\", \"08\": \"August\",\n",
    "    \"09\": \"September\", \"10\": \"October\", \"11\": \"November\", \"12\": \"December\"\n",
    "}\n",
    "\n",
    "date_input = input(\"Enter a date in the form mm/dd/yyyy: \")\n",
    "month, day, year = date_input.split(\"/\")\n",
    "month_name = months[month]\n",
    "print(f\"{month_name} {int(day)}, {year}\")"
   ]
  },
  {
   "cell_type": "markdown",
   "metadata": {},
   "source": [
    "#### 7. Write a program with a function that accepts a string from keyboard and create a new string after converting character of each word capitalized. For instance, if the sentence is \"stop and smell the roses.\" the output should be \"Stop And Smell The Roses\""
   ]
  },
  {
   "cell_type": "code",
   "execution_count": 56,
   "metadata": {},
   "outputs": [
    {
     "name": "stdin",
     "output_type": "stream",
     "text": [
      "Enter any small sentance :  stop and smell the roses\n"
     ]
    },
    {
     "name": "stdout",
     "output_type": "stream",
     "text": [
      "Stop And Smell The Roses\n"
     ]
    }
   ],
   "source": [
    "def capital(user_input): \n",
    "    print(user_input)\n",
    "capital(input(\"Enter any small sentance : \").title())"
   ]
  },
  {
   "cell_type": "markdown",
   "metadata": {},
   "source": [
    "#### 8. Find the sum of each row of matrix of size m x n. For example for the following matrix output will be like this :\n",
    "#### Sum of row 1 = 32 \n",
    "#### Sum of row 2 = 31\n",
    "#### Sum of row 3 = 63"
   ]
  },
  {
   "cell_type": "code",
   "execution_count": 4,
   "metadata": {},
   "outputs": [
    {
     "name": "stdout",
     "output_type": "stream",
     "text": [
      "Sum of row 1 =  32\n",
      "Sum of row 2 =  31\n",
      "Sum of row 3 =  63\n"
     ]
    }
   ],
   "source": [
    "matrix = [\n",
    "    [2,11,7,12],\n",
    "    [5,2,9,15],\n",
    "    [8,3,10,42]\n",
    "]\n",
    "\n",
    "print(\"Sum of row 1 = \",matrix[0][0] + matrix[0][1] + matrix[0][2] + matrix[0][3])\n",
    "print(\"Sum of row 2 = \",matrix[1][0] + matrix[1][1] + matrix[1][2] + matrix[1][3])\n",
    "print(\"Sum of row 3 = \",matrix[2][0] + matrix[2][1] + matrix[2][2] + matrix[2][3])"
   ]
  },
  {
   "cell_type": "markdown",
   "metadata": {},
   "source": [
    "#### 9. Write a program to add two matrices of size n x m."
   ]
  },
  {
   "cell_type": "code",
   "execution_count": 37,
   "metadata": {},
   "outputs": [
    {
     "name": "stdout",
     "output_type": "stream",
     "text": [
      "(4, 22, 14, 24)\n",
      "(10, 4, 18, 30)\n",
      "(16, 6, 20, 84)\n"
     ]
    }
   ],
   "source": [
    "print(f\"{matrix[0][0] + matrix[0][0], matrix[0][1] + matrix[0][1], matrix[0][2] + matrix[0][2], matrix[0][3] + matrix[0][3]}\",sep=\",\")\n",
    "print(f\"{matrix[1][0] + matrix[1][0], matrix[1][1] + matrix[1][1], matrix[1][2] + matrix[1][2], matrix[1][3] + matrix[1][3]}\",sep=\",\")\n",
    "print(f\"{matrix[2][0] + matrix[2][0], matrix[2][1] + matrix[2][1], matrix[2][2] + matrix[2][2], matrix[2][3] + matrix[2][3]}\",sep=\",\")"
   ]
  },
  {
   "cell_type": "markdown",
   "metadata": {},
   "source": [
    "#### 10. Write a program to multiply two matrices"
   ]
  },
  {
   "cell_type": "code",
   "execution_count": 38,
   "metadata": {},
   "outputs": [
    {
     "name": "stdout",
     "output_type": "stream",
     "text": [
      "(4, 121, 49, 144)\n",
      "(25, 4, 81, 225)\n",
      "(64, 9, 100, 1764)\n"
     ]
    }
   ],
   "source": [
    "print(f\"{matrix[0][0] * matrix[0][0], matrix[0][1] * matrix[0][1], matrix[0][2] * matrix[0][2], matrix[0][3] * matrix[0][3]}\",sep=\",\")\n",
    "print(f\"{matrix[1][0] * matrix[1][0], matrix[1][1] * matrix[1][1], matrix[1][2] * matrix[1][2], matrix[1][3] * matrix[1][3]}\",sep=\",\")\n",
    "print(f\"{matrix[2][0] * matrix[2][0], matrix[2][1] * matrix[2][1], matrix[2][2] * matrix[2][2], matrix[2][3] * matrix[2][3]}\",sep=\",\")"
   ]
  }
 ],
 "metadata": {
  "colab": {
   "provenance": []
  },
  "kernelspec": {
   "display_name": "Python 3 (ipykernel)",
   "language": "python",
   "name": "python3"
  },
  "language_info": {
   "codemirror_mode": {
    "name": "ipython",
    "version": 3
   },
   "file_extension": ".py",
   "mimetype": "text/x-python",
   "name": "python",
   "nbconvert_exporter": "python",
   "pygments_lexer": "ipython3",
   "version": "3.12.7"
  }
 },
 "nbformat": 4,
 "nbformat_minor": 4
}
