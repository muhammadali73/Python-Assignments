{
 "cells": [
  {
   "cell_type": "markdown",
   "id": "ecf37ac8-9d8e-4bc4-8fc3-37d0728a4ffb",
   "metadata": {},
   "source": [
    "# Strings Assignments"
   ]
  },
  {
   "cell_type": "markdown",
   "id": "349da16b-c3e9-4277-963f-b4881f5024bf",
   "metadata": {},
   "source": [
    "#### 1. Write a program that accepts a string from user. Your program should count and display number of vowels in that string."
   ]
  },
  {
   "cell_type": "code",
   "execution_count": 24,
   "id": "ff4283c0-961f-4859-93b6-056f532817ec",
   "metadata": {},
   "outputs": [
    {
     "name": "stdin",
     "output_type": "stream",
     "text": [
      "Enter any string:  hello\n"
     ]
    },
    {
     "name": "stdout",
     "output_type": "stream",
     "text": [
      "The total number of vowels in the input string is 2\n"
     ]
    }
   ],
   "source": [
    "user_input = input(\"Enter any string: \").upper()\n",
    "vowels = \"aeiou\".upper()\n",
    "vowel_count = 0\n",
    "\n",
    "for char in user_input:\n",
    "    if char in vowels:\n",
    "        vowel_count += 1\n",
    "print(f\"The total number of vowels in the input string is {vowel_count}\")\n"
   ]
  },
  {
   "cell_type": "markdown",
   "id": "f3b9044b-244d-4a76-9bc7-fee82da26f60",
   "metadata": {},
   "source": [
    "#### 2. Write a program that reads a string from keyboard and display:\n",
    "- The number of uppercase letters in the string\n",
    "- The number of lowercase letters in the string\n",
    "- The number of digits in the string\n",
    "- The number of whitespace characters in the string"
   ]
  },
  {
   "cell_type": "markdown",
   "id": "ff5f46f2-3da4-4385-8867-87cd0e8848c7",
   "metadata": {},
   "source": [
    "user_input = input(\"Enter any keywords: \")\n",
    "user_upper = \"\"\n",
    "user_lower = \"\"\n",
    "user_digit = \"\"\n",
    "user_space = \"\"\n",
    "\n",
    "for char in user_input:\n",
    "    if char.isupper():\n",
    "        user_upper += char\n",
    "    elif char.islower():\n",
    "        user_lower += char\n",
    "    elif char.isdigit():\n",
    "        user_digit += char\n",
    "    elif char.isspace():\n",
    "        user_space += char\n",
    "print(f\"Number of lowercase characters : {len(user_lower)}\")\n",
    "print(f\"Number of Uppercase characters : {len(user_upper)}\")\n",
    "print(f\"Number of Digits : {len(user_digit)}\")\n",
    "print(f\"Number of white spaces : {len(user_space)}\")"
   ]
  },
  {
   "cell_type": "markdown",
   "id": "9efc424b-144e-488e-8e75-93c70fcb5fbd",
   "metadata": {},
   "source": [
    "#### 3. Write a Python program that accepts a string from user. Your program should create and display a new string where the first and last characters         ave been exchanged.\n",
    "####    For example if the user enters the string 'HELLO' then new string would be 'OELLH'"
   ]
  },
  {
   "cell_type": "code",
   "execution_count": 80,
   "id": "5dbd562a-395b-4c3a-b41c-5ba98dfd7851",
   "metadata": {},
   "outputs": [
    {
     "name": "stdin",
     "output_type": "stream",
     "text": [
      "Enter any string :  hello\n"
     ]
    },
    {
     "name": "stdout",
     "output_type": "stream",
     "text": [
      "['o', 'e', 'l', 'l', 'h']\n"
     ]
    }
   ],
   "source": [
    "user_input = input(\"Enter any string : \")\n",
    "lista = list(user_input)\n",
    "popped_item1 = lista.pop(0)\n",
    "popped_item2 = lista.pop(-1)\n",
    "lista.append(popped_item1)\n",
    "lista.insert(0,popped_item2)\n",
    "print(lista)"
   ]
  },
  {
   "cell_type": "markdown",
   "id": "8d554994-abbf-4731-bf73-1114b4418a07",
   "metadata": {},
   "source": [
    "#### 4. Write a Python program that accepts a string from user. Your program should create a new string in reverse of first string and display it.\n",
    "#### For example if the user enters the string 'EXAM' then new string would be 'MAXE'"
   ]
  },
  {
   "cell_type": "code",
   "execution_count": 90,
   "id": "59435554-e967-4b89-90e7-efb30178445f",
   "metadata": {},
   "outputs": [
    {
     "name": "stdin",
     "output_type": "stream",
     "text": [
      "Enter any word :  hello\n"
     ]
    },
    {
     "name": "stdout",
     "output_type": "stream",
     "text": [
      "olleh\n"
     ]
    }
   ],
   "source": [
    "user_input = input(\"Enter any word : \")\n",
    "reversed_list = user_input[::-1]\n",
    "\n",
    "print(reversed_list)"
   ]
  },
  {
   "cell_type": "markdown",
   "id": "e1e084bd-7b1d-447e-a2bd-d306f9bccc17",
   "metadata": {},
   "source": [
    "#### 5. Write a Python program that accepts a string from user. Your program should create a new string by shifting one position to left.\n",
    "#### For example if the user enters the string 'examination 2021' then new string would be 'xamination 2021e'"
   ]
  },
  {
   "cell_type": "code",
   "execution_count": 121,
   "id": "b96862c9-bcfb-4706-90c8-bf9169ed8f4b",
   "metadata": {},
   "outputs": [
    {
     "name": "stdin",
     "output_type": "stream",
     "text": [
      "enter two word :  examination 2024\n"
     ]
    },
    {
     "name": "stdout",
     "output_type": "stream",
     "text": [
      "xamination 2024e\n"
     ]
    }
   ],
   "source": [
    "user_input = input(\"enter two word : \")\n",
    "lista = list(user_input)\n",
    "popped_item = lista.pop(0)\n",
    "lista.append(popped_item)\n",
    "string_convert = \"\".join(lista)\n",
    "print(string_convert)"
   ]
  },
  {
   "cell_type": "markdown",
   "id": "274dd0db-1588-4b18-9a4d-d746be8ab3dd",
   "metadata": {},
   "source": [
    "#### 6. Write a program that asks the user to input his name and print its initials. Assuming that the user always types first name, middle name and last name and does not include any unnecessary spaces.\n",
    "#### For example, if the user enters Ajay Kumar Garg the program should display A. K. G.\n",
    "#### Note: Don't use split() method"
   ]
  },
  {
   "cell_type": "code",
   "execution_count": 138,
   "id": "5a0489ec-981d-43f3-968c-1088548567d8",
   "metadata": {},
   "outputs": [
    {
     "name": "stdin",
     "output_type": "stream",
     "text": [
      "Enter you full name :  Muhammad Ali Abdul Qadir\n"
     ]
    },
    {
     "name": "stdout",
     "output_type": "stream",
     "text": [
      "MAAQ"
     ]
    }
   ],
   "source": [
    "user_name = input(\"Enter you full name : \")\n",
    "print(user_name[0],end=\"\")\n",
    "for i in range(len(user_name) - 1):\n",
    "    if user_name[i] == \" \":\n",
    "        print(user_name[i + 1],end=\"\")"
   ]
  },
  {
   "cell_type": "markdown",
   "id": "391543e3-6a29-4d9f-98f8-a6f2a1b930b1",
   "metadata": {},
   "source": [
    "#### 7. A palindrome is a string that reads the same backward as forward. For example, the words dad, madam and radar are all palindromes. Write a programs that determines whether the string is a palindrome.\n",
    "#### Note: do not use reverse() method"
   ]
  },
  {
   "cell_type": "code",
   "execution_count": 142,
   "id": "c28f39fa-22ca-4d9b-ba2a-3d32b55ace51",
   "metadata": {},
   "outputs": [
    {
     "name": "stdin",
     "output_type": "stream",
     "text": [
      "Enter any word radar\n"
     ]
    },
    {
     "name": "stdout",
     "output_type": "stream",
     "text": [
      "This word is Palindrome\n"
     ]
    }
   ],
   "source": [
    "user_input = input(\"Enter any word\")\n",
    "reverse_input = user_input[::-1]\n",
    "\n",
    "if user_input == reverse_input:\n",
    "    print(\"This word is Palindrome\")\n",
    "else:\n",
    "    print(\"This word isn't Palindrome\")"
   ]
  },
  {
   "cell_type": "markdown",
   "id": "71ccde31-2c77-4a89-962c-b7e2723d24a5",
   "metadata": {},
   "source": [
    "#### 8. Write a program that display following output:\n",
    "#### SHIFT\n",
    "#### HIFTS\n",
    "#### IFTSH\n",
    "#### FTSHI\n",
    "#### TSHIF\n",
    "#### SHIFT"
   ]
  },
  {
   "cell_type": "code",
   "execution_count": 158,
   "id": "f249cfac-3a19-4b52-863f-31d79db5c66a",
   "metadata": {},
   "outputs": [
    {
     "name": "stdout",
     "output_type": "stream",
     "text": [
      "shift\n",
      "hifts\n",
      "iftsh\n",
      "ftshi\n",
      "tshif\n",
      "shift\n"
     ]
    }
   ],
   "source": [
    "word = \"shift\"\n",
    "chars = list(word)\n",
    "print(word)\n",
    "for _ in range(len(chars) - 1):\n",
    "    popped = chars.pop(0) \n",
    "    chars.append(popped)\n",
    "    shifted_word = \"\".join(chars)\n",
    "    print(shifted_word)\n",
    "print(word)"
   ]
  },
  {
   "cell_type": "code",
   "execution_count": 170,
   "id": "67dc2396-2bbd-4204-b0dc-9af21f98f005",
   "metadata": {},
   "outputs": [
    {
     "name": "stdin",
     "output_type": "stream",
     "text": [
      "Enter you password Hello123\n"
     ]
    },
    {
     "name": "stdout",
     "output_type": "stream",
     "text": [
      "hooray! Valid password.\n"
     ]
    }
   ],
   "source": [
    "password = input(\"Enter you password\")\n",
    "invalid = False\n",
    "\n",
    "if len(password) < 8:\n",
    "    print(\"Password length must be more than 8 characters\")\n",
    "    invalid = True\n",
    "\n",
    "if not any(char.islower() for char in password):\n",
    "    print(\"Password must have at least one lower case letter\")\n",
    "    invalid = True\n",
    "if not any(char.isupper() for char in password):\n",
    "    print(\"Password must have at least one upper case letter\")\n",
    "    invalid = True\n",
    "if not any(char.isdigit() for char in password):\n",
    "    print(\"Password must have at least one digit\")\n",
    "    invalid = True\n",
    "if not invalid:\n",
    "    print(\"hooray! Valid password.\")"
   ]
  }
 ],
 "metadata": {
  "kernelspec": {
   "display_name": "Python 3 (ipykernel)",
   "language": "python",
   "name": "python3"
  },
  "language_info": {
   "codemirror_mode": {
    "name": "ipython",
    "version": 3
   },
   "file_extension": ".py",
   "mimetype": "text/x-python",
   "name": "python",
   "nbconvert_exporter": "python",
   "pygments_lexer": "ipython3",
   "version": "3.12.7"
  }
 },
 "nbformat": 4,
 "nbformat_minor": 5
}
