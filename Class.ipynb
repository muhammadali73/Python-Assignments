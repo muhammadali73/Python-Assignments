{
 "cells": [
  {
   "cell_type": "code",
   "execution_count": 12,
   "id": "826a2d31-c4ba-42f2-b674-9360f0bbbb1a",
   "metadata": {},
   "outputs": [
    {
     "name": "stdout",
     "output_type": "stream",
     "text": [
      "1 Hello World in an AI course\n"
     ]
    }
   ],
   "source": [
    "print(1,\"Hello World\",\"in an AI course\");"
   ]
  },
  {
   "cell_type": "code",
   "execution_count": 11,
   "id": "7638be1d-4bb6-4684-ae57-90c5fca1c606",
   "metadata": {},
   "outputs": [
    {
     "name": "stdout",
     "output_type": "stream",
     "text": [
      "Hello__world\n"
     ]
    }
   ],
   "source": [
    "print(\"Hello\",\"world\",sep=\"__\")"
   ]
  },
  {
   "cell_type": "code",
   "execution_count": 14,
   "id": "6ed49fe5-b3b3-4a6d-8f2d-f3f4122ceca6",
   "metadata": {},
   "outputs": [
    {
     "name": "stdout",
     "output_type": "stream",
     "text": [
      "today is our second\n",
      "     class\n"
     ]
    }
   ],
   "source": [
    "print(\"\"\"today is our second\n",
    "     class\"\"\");\n",
    "    "
   ]
  },
  {
   "cell_type": "code",
   "execution_count": 15,
   "id": "52c77f8f-6bc5-41a2-b767-503854e78b2f",
   "metadata": {},
   "outputs": [
    {
     "data": {
      "text/plain": [
       "1.0"
      ]
     },
     "execution_count": 15,
     "metadata": {},
     "output_type": "execute_result"
    }
   ],
   "source": [
    "3/3 #floating division"
   ]
  },
  {
   "cell_type": "code",
   "execution_count": 16,
   "id": "a2a9e11c-9525-43a6-9328-bf297378281f",
   "metadata": {},
   "outputs": [
    {
     "data": {
      "text/plain": [
       "1"
      ]
     },
     "execution_count": 16,
     "metadata": {},
     "output_type": "execute_result"
    }
   ],
   "source": [
    "3//3 # integer division"
   ]
  },
  {
   "cell_type": "code",
   "execution_count": 17,
   "id": "dc14ca7c-8dba-4edc-84dc-dccb10ecf780",
   "metadata": {},
   "outputs": [
    {
     "data": {
      "text/plain": [
       "3"
      ]
     },
     "execution_count": 17,
     "metadata": {},
     "output_type": "execute_result"
    }
   ],
   "source": [
    "10//3 #floor"
   ]
  },
  {
   "cell_type": "code",
   "execution_count": 18,
   "id": "ab60570e-546f-4bfd-9f31-b77860848860",
   "metadata": {},
   "outputs": [
    {
     "data": {
      "text/plain": [
       "2"
      ]
     },
     "execution_count": 18,
     "metadata": {},
     "output_type": "execute_result"
    }
   ],
   "source": [
    "10%4 #modulus"
   ]
  },
  {
   "cell_type": "code",
   "execution_count": 19,
   "id": "1b2584b2-b540-4447-8134-71b1f3f5aaa1",
   "metadata": {},
   "outputs": [],
   "source": [
    "name = \"muhammad Ali\""
   ]
  },
  {
   "cell_type": "code",
   "execution_count": 20,
   "id": "7821a0cf-1803-46ae-8ef9-2080cd30e42f",
   "metadata": {},
   "outputs": [
    {
     "name": "stdout",
     "output_type": "stream",
     "text": [
      "muhammad Ali\n"
     ]
    }
   ],
   "source": [
    "print(name)"
   ]
  },
  {
   "cell_type": "code",
   "execution_count": 21,
   "id": "857246ef-6b17-4068-82a4-16d719cd9850",
   "metadata": {},
   "outputs": [
    {
     "data": {
      "text/plain": [
       "2642199429360"
      ]
     },
     "execution_count": 21,
     "metadata": {},
     "output_type": "execute_result"
    }
   ],
   "source": [
    "id(name) #this ID is stored inside our RAM"
   ]
  },
  {
   "cell_type": "code",
   "execution_count": 32,
   "id": "37b9c4b0-a5d6-44a5-ba0c-1950b8f073c0",
   "metadata": {},
   "outputs": [],
   "source": [
    "marks = 100;"
   ]
  },
  {
   "cell_type": "code",
   "execution_count": 33,
   "id": "afaa2f90-5b55-4b90-97aa-b90578c2efd4",
   "metadata": {},
   "outputs": [],
   "source": [
    "marks-=20;"
   ]
  },
  {
   "cell_type": "code",
   "execution_count": 35,
   "id": "21b32b52-935a-44ef-a3af-6f4376a08dd8",
   "metadata": {},
   "outputs": [
    {
     "data": {
      "text/plain": [
       "80"
      ]
     },
     "execution_count": 35,
     "metadata": {},
     "output_type": "execute_result"
    }
   ],
   "source": [
    "marks"
   ]
  },
  {
   "cell_type": "code",
   "execution_count": 37,
   "id": "ab0d6026-a8e5-4bc5-94db-b85f53024731",
   "metadata": {},
   "outputs": [
    {
     "name": "stdout",
     "output_type": "stream",
     "text": [
      "Hello\n"
     ]
    },
    {
     "data": {
      "text/plain": [
       "80"
      ]
     },
     "execution_count": 37,
     "metadata": {},
     "output_type": "execute_result"
    }
   ],
   "source": [
    "print(\"Hello\");\n",
    "name; #it should be on a last line to print without print function\n",
    "marks"
   ]
  },
  {
   "cell_type": "markdown",
   "id": "f90aa3ad-8b45-46b8-b93a-0d9e93ac1152",
   "metadata": {},
   "source": [
    ">>> help(\"keywords\")\n",
    "\n",
    "Here is a list of the Python keywords.  Enter any keyword to get more help.\n",
    "\n",
    "# False               class               from                or\n",
    "# None                continue            global              pass\n",
    "# True                def                 if                  raise\n",
    "# and                 del                 import              return\n",
    "# as                  elif                in                  try\n",
    "# assert              else                is                  while\n",
    "# async               except              lambda              with\n",
    "# await               finally             nonlocal            yield\n",
    "# break               for                 not"
   ]
  },
  {
   "cell_type": "markdown",
   "id": "6ac7c356-09e7-4c30-843a-1f5fe39e6dd4",
   "metadata": {},
   "source": [
    "# User Input:\n",
    "- anything inout from console it  has type: string."
   ]
  },
  {
   "cell_type": "code",
   "execution_count": 2,
   "id": "42a9225b-bfa0-4e0c-951a-27269b6a5ba1",
   "metadata": {},
   "outputs": [
    {
     "name": "stdin",
     "output_type": "stream",
     "text": [
      "Enter your name ali\n"
     ]
    }
   ],
   "source": [
    "name = \"Muhammad Ali\";\n",
    "count = 10;\n",
    "std_name = input(\"Enter your name\");"
   ]
  },
  {
   "cell_type": "code",
   "execution_count": 3,
   "id": "0d494c20-05e1-41db-993f-40f543e539b3",
   "metadata": {},
   "outputs": [
    {
     "name": "stdout",
     "output_type": "stream",
     "text": [
      "ali\n"
     ]
    }
   ],
   "source": [
    "print(std_name)"
   ]
  },
  {
   "cell_type": "code",
   "execution_count": 4,
   "id": "a542e818-ab34-4f1b-8bbb-9507b00a717f",
   "metadata": {},
   "outputs": [
    {
     "name": "stdout",
     "output_type": "stream",
     "text": [
      "<class 'str'>\n"
     ]
    }
   ],
   "source": [
    "print(type(std_name));"
   ]
  },
  {
   "cell_type": "code",
   "execution_count": 6,
   "id": "4e199960-dc36-4177-a5bb-14967b8d970a",
   "metadata": {},
   "outputs": [
    {
     "name": "stdin",
     "output_type": "stream",
     "text": [
      "Enter your age:  19\n"
     ]
    }
   ],
   "source": [
    "age = input(\"Enter your age: \");"
   ]
  },
  {
   "cell_type": "code",
   "execution_count": 7,
   "id": "37bd5b35-1236-48e0-9852-d100f5f2c909",
   "metadata": {},
   "outputs": [
    {
     "name": "stdout",
     "output_type": "stream",
     "text": [
      "<class 'str'>\n"
     ]
    }
   ],
   "source": [
    "print(type(age));"
   ]
  },
  {
   "cell_type": "markdown",
   "id": "dafaab4f-023e-4e88-b60a-d50a5540a731",
   "metadata": {},
   "source": [
    "# Typecasting"
   ]
  },
  {
   "cell_type": "code",
   "execution_count": 11,
   "id": "f193b6a4-8b6a-424b-8c2d-70e982b0d573",
   "metadata": {},
   "outputs": [
    {
     "data": {
      "text/plain": [
       "'180'"
      ]
     },
     "execution_count": 11,
     "metadata": {},
     "output_type": "execute_result"
    }
   ],
   "source": [
    "# an integer value typecasted to string\n",
    "str(180)"
   ]
  },
  {
   "cell_type": "code",
   "execution_count": 14,
   "id": "b8214c7c-22b9-4bd5-a497-3691fc5bb207",
   "metadata": {},
   "outputs": [
    {
     "data": {
      "text/plain": [
       "100"
      ]
     },
     "execution_count": 14,
     "metadata": {},
     "output_type": "execute_result"
    }
   ],
   "source": [
    "# an string value typecasted to integer\n",
    "# Value must be a number(integer) inside Quotation\n",
    "int(\"100\")"
   ]
  },
  {
   "cell_type": "code",
   "execution_count": 16,
   "id": "dc29fe6b-b382-4022-8307-b262923584de",
   "metadata": {},
   "outputs": [
    {
     "data": {
      "text/plain": [
       "100.13"
      ]
     },
     "execution_count": 16,
     "metadata": {},
     "output_type": "execute_result"
    }
   ],
   "source": [
    "# an string value typecasted to float\n",
    "# Value must be a number inside Quotation\n",
    "float(\"100.13\")"
   ]
  },
  {
   "cell_type": "code",
   "execution_count": 17,
   "id": "ef8c7f72-4c95-4cdc-8778-4fc8fa4e525b",
   "metadata": {},
   "outputs": [
    {
     "data": {
      "text/plain": [
       "45.0"
      ]
     },
     "execution_count": 17,
     "metadata": {},
     "output_type": "execute_result"
    }
   ],
   "source": [
    "# integer to float type casted but result would be number.0\n",
    "float(45)"
   ]
  },
  {
   "cell_type": "code",
   "execution_count": 19,
   "id": "8eee98d8-2b03-49fa-8528-e05397b75916",
   "metadata": {},
   "outputs": [
    {
     "data": {
      "text/plain": [
       "29"
      ]
     },
     "execution_count": 19,
     "metadata": {},
     "output_type": "execute_result"
    }
   ],
   "source": [
    "int(age) + 10 #age define on line 6 user input"
   ]
  },
  {
   "cell_type": "code",
   "execution_count": 23,
   "id": "d94fee1b-c566-4cfa-9200-4d76388f71ae",
   "metadata": {},
   "outputs": [
    {
     "name": "stdin",
     "output_type": "stream",
     "text": [
      "Enter your age:  19.2\n"
     ]
    },
    {
     "name": "stdout",
     "output_type": "stream",
     "text": [
      "19\n"
     ]
    }
   ],
   "source": [
    "age = int(float(input(\"Enter your age: \")))\n",
    "print(age);"
   ]
  },
  {
   "cell_type": "markdown",
   "id": "71491ae7-58f7-4acc-98f2-a2dcd8b79daa",
   "metadata": {},
   "source": [
    "# string\n",
    " - String is a class.\n",
    " - String is a collection.\n",
    " - Any value in inverted commas is string.\n",
    " - Strig values are immutable. (unchangable)"
   ]
  },
  {
   "cell_type": "code",
   "execution_count": 24,
   "id": "042a17cb-c599-4a78-8311-e3a7d5865282",
   "metadata": {},
   "outputs": [],
   "source": [
    "country = \"united stated\""
   ]
  },
  {
   "cell_type": "code",
   "execution_count": 37,
   "id": "b4271bd9-ea5f-4f0b-add9-2adc394742db",
   "metadata": {},
   "outputs": [
    {
     "name": "stdout",
     "output_type": "stream",
     "text": [
      "<class 'str'>\n"
     ]
    }
   ],
   "source": [
    "print(type(country));"
   ]
  },
  {
   "cell_type": "code",
   "execution_count": 38,
   "id": "b8d83464-d96b-4357-ad54-7222530a6949",
   "metadata": {},
   "outputs": [
    {
     "data": {
      "text/plain": [
       "'UNITED STATED'"
      ]
     },
     "execution_count": 38,
     "metadata": {},
     "output_type": "execute_result"
    }
   ],
   "source": [
    "country.upper()"
   ]
  },
  {
   "cell_type": "code",
   "execution_count": 42,
   "id": "3785a644-597a-49d5-9bf0-3002c04caa9b",
   "metadata": {},
   "outputs": [
    {
     "data": {
      "text/plain": [
       "'United Stated'"
      ]
     },
     "execution_count": 42,
     "metadata": {},
     "output_type": "execute_result"
    }
   ],
   "source": [
    "country"
   ]
  },
  {
   "cell_type": "code",
   "execution_count": 41,
   "id": "750f68b2-7d21-47da-a5bd-0340a0d26ed0",
   "metadata": {},
   "outputs": [
    {
     "name": "stdout",
     "output_type": "stream",
     "text": [
      "United Stated\n"
     ]
    }
   ],
   "source": [
    "print(country);"
   ]
  },
  {
   "cell_type": "code",
   "execution_count": 43,
   "id": "18b31af7-083b-4302-97c4-2bd9e82c919b",
   "metadata": {},
   "outputs": [],
   "source": [
    "country = country.upper();"
   ]
  },
  {
   "cell_type": "code",
   "execution_count": 44,
   "id": "98d0168a-3d7a-4bb1-ad25-0adbc94dd8cc",
   "metadata": {},
   "outputs": [
    {
     "data": {
      "text/plain": [
       "'UNITED STATED'"
      ]
     },
     "execution_count": 44,
     "metadata": {},
     "output_type": "execute_result"
    }
   ],
   "source": [
    "country"
   ]
  },
  {
   "cell_type": "code",
   "execution_count": 53,
   "id": "2a9cbe95-ab7d-4330-9141-8f300618f181",
   "metadata": {},
   "outputs": [
    {
     "data": {
      "text/plain": [
       "0"
      ]
     },
     "execution_count": 53,
     "metadata": {},
     "output_type": "execute_result"
    }
   ],
   "source": [
    "country.count(\"UNE\")"
   ]
  },
  {
   "cell_type": "code",
   "execution_count": 54,
   "id": "3299e2d8-f318-4212-8a86-0932e83ff3c7",
   "metadata": {},
   "outputs": [
    {
     "data": {
      "text/plain": [
       "True"
      ]
     },
     "execution_count": 54,
     "metadata": {},
     "output_type": "execute_result"
    }
   ],
   "source": [
    "country.startswith(\"UN\")"
   ]
  },
  {
   "cell_type": "code",
   "execution_count": 56,
   "id": "8bf5a9aa-38ee-4c2f-a906-5a836369262c",
   "metadata": {},
   "outputs": [
    {
     "data": {
      "text/plain": [
       "True"
      ]
     },
     "execution_count": 56,
     "metadata": {},
     "output_type": "execute_result"
    }
   ],
   "source": [
    "country.endswith(\"TED\")"
   ]
  },
  {
   "cell_type": "code",
   "execution_count": 61,
   "id": "f42f57b2-8113-455b-84b6-7f956f9e86ea",
   "metadata": {},
   "outputs": [
    {
     "data": {
      "text/plain": [
       "4"
      ]
     },
     "execution_count": 61,
     "metadata": {},
     "output_type": "execute_result"
    }
   ],
   "source": [
    "country.find(\"E\")"
   ]
  },
  {
   "cell_type": "code",
   "execution_count": 64,
   "id": "ede123de-9038-4321-9835-189beccd3d81",
   "metadata": {},
   "outputs": [
    {
     "data": {
      "text/plain": [
       "True"
      ]
     },
     "execution_count": 64,
     "metadata": {},
     "output_type": "execute_result"
    }
   ],
   "source": [
    "\"A\".isalnum()"
   ]
  },
  {
   "cell_type": "code",
   "execution_count": 65,
   "id": "92e9ee7a-f484-4fb6-baa0-72b50144f8df",
   "metadata": {},
   "outputs": [
    {
     "data": {
      "text/plain": [
       "True"
      ]
     },
     "execution_count": 65,
     "metadata": {},
     "output_type": "execute_result"
    }
   ],
   "source": [
    "\"12\".isalnum()"
   ]
  },
  {
   "cell_type": "code",
   "execution_count": 66,
   "id": "5b3a7694-8d29-4358-b2ba-e7f1d280a905",
   "metadata": {},
   "outputs": [
    {
     "data": {
      "text/plain": [
       "True"
      ]
     },
     "execution_count": 66,
     "metadata": {},
     "output_type": "execute_result"
    }
   ],
   "source": [
    "\"A13\".isalnum()"
   ]
  },
  {
   "cell_type": "code",
   "execution_count": 67,
   "id": "1bc636d1-44ad-4a01-bd6d-fd646b55f7d4",
   "metadata": {},
   "outputs": [
    {
     "data": {
      "text/plain": [
       "True"
      ]
     },
     "execution_count": 67,
     "metadata": {},
     "output_type": "execute_result"
    }
   ],
   "source": [
    "\"A\".isalpha()"
   ]
  },
  {
   "cell_type": "code",
   "execution_count": 68,
   "id": "1b8bac86-6136-4bdd-af98-cc67015697e1",
   "metadata": {},
   "outputs": [
    {
     "data": {
      "text/plain": [
       "False"
      ]
     },
     "execution_count": 68,
     "metadata": {},
     "output_type": "execute_result"
    }
   ],
   "source": [
    "\"12\".isalpha()"
   ]
  },
  {
   "cell_type": "code",
   "execution_count": 69,
   "id": "8995e4f0-7de4-4f0c-960a-e7af6b6c23e7",
   "metadata": {},
   "outputs": [
    {
     "data": {
      "text/plain": [
       "False"
      ]
     },
     "execution_count": 69,
     "metadata": {},
     "output_type": "execute_result"
    }
   ],
   "source": [
    "country.islower()"
   ]
  },
  {
   "cell_type": "code",
   "execution_count": 70,
   "id": "0fd437f3-d1b4-456a-8fb0-e55ce4b0e38f",
   "metadata": {},
   "outputs": [
    {
     "data": {
      "text/plain": [
       "False"
      ]
     },
     "execution_count": 70,
     "metadata": {},
     "output_type": "execute_result"
    }
   ],
   "source": [
    "country.isspace()"
   ]
  },
  {
   "cell_type": "code",
   "execution_count": 71,
   "id": "3e415836-7b14-4d82-bb62-d4f466ad03a8",
   "metadata": {},
   "outputs": [
    {
     "data": {
      "text/plain": [
       "False"
      ]
     },
     "execution_count": 71,
     "metadata": {},
     "output_type": "execute_result"
    }
   ],
   "source": [
    "\"\".isspace()"
   ]
  },
  {
   "cell_type": "code",
   "execution_count": 83,
   "id": "23ac0348-2116-4824-97ba-044468440274",
   "metadata": {},
   "outputs": [],
   "source": [
    "student = \" muhammad ali \""
   ]
  },
  {
   "cell_type": "code",
   "execution_count": 84,
   "id": "de5db334-1550-4db1-b472-cca9625946fa",
   "metadata": {},
   "outputs": [
    {
     "data": {
      "text/plain": [
       "14"
      ]
     },
     "execution_count": 84,
     "metadata": {},
     "output_type": "execute_result"
    }
   ],
   "source": [
    "len(student)"
   ]
  },
  {
   "cell_type": "code",
   "execution_count": 87,
   "id": "386561ac-6157-4954-bcb8-49aacd2c25a7",
   "metadata": {},
   "outputs": [
    {
     "data": {
      "text/plain": [
       "12"
      ]
     },
     "execution_count": 87,
     "metadata": {},
     "output_type": "execute_result"
    }
   ],
   "source": [
    "len(student.strip())"
   ]
  },
  {
   "cell_type": "code",
   "execution_count": 90,
   "id": "29f82560-1732-4ad4-a6ed-d6da93a8f404",
   "metadata": {},
   "outputs": [
    {
     "data": {
      "text/plain": [
       "' muhAmmAd Ali '"
      ]
     },
     "execution_count": 90,
     "metadata": {},
     "output_type": "execute_result"
    }
   ],
   "source": [
    "student.replace(\"a\",\"A\")"
   ]
  },
  {
   "cell_type": "code",
   "execution_count": 93,
   "id": "ec17ddef-ba6f-475f-b12f-0108c87df374",
   "metadata": {},
   "outputs": [
    {
     "data": {
      "text/plain": [
       "' muhammad ali '"
      ]
     },
     "execution_count": 93,
     "metadata": {},
     "output_type": "execute_result"
    }
   ],
   "source": [
    "student"
   ]
  },
  {
   "cell_type": "markdown",
   "id": "f3c85c41-5299-40d9-8436-2a3c1ed4cae0",
   "metadata": {},
   "source": [
    "# String Concatenation: Joining"
   ]
  },
  {
   "cell_type": "code",
   "execution_count": 95,
   "id": "64687562-1bc1-4830-a064-469e90a507e5",
   "metadata": {},
   "outputs": [],
   "source": [
    "first_name = \"Artificial\"\n",
    "last_name = \"Intelligence\""
   ]
  },
  {
   "cell_type": "code",
   "execution_count": 96,
   "id": "62a52870-7e64-4404-ba3d-eccdb6231b45",
   "metadata": {},
   "outputs": [
    {
     "data": {
      "text/plain": [
       "'ArtificialIntelligence'"
      ]
     },
     "execution_count": 96,
     "metadata": {},
     "output_type": "execute_result"
    }
   ],
   "source": [
    "first_name + last_name"
   ]
  },
  {
   "cell_type": "code",
   "execution_count": 97,
   "id": "1e843d6b-8391-4179-a30c-5dffb80dfb93",
   "metadata": {},
   "outputs": [
    {
     "data": {
      "text/plain": [
       "'Artificial Intelligence'"
      ]
     },
     "execution_count": 97,
     "metadata": {},
     "output_type": "execute_result"
    }
   ],
   "source": [
    "first_name +\" \"+ last_name"
   ]
  },
  {
   "cell_type": "code",
   "execution_count": 107,
   "id": "8361782a-d81f-4399-9500-5042fe925849",
   "metadata": {},
   "outputs": [
    {
     "name": "stdin",
     "output_type": "stream",
     "text": [
      "Enter your course name: Data Science\n",
      "Enter number of students: 200\n",
      "Enter institute name: SMIT\n"
     ]
    },
    {
     "name": "stdout",
     "output_type": "stream",
     "text": [
      "We are learning Data Science course at SMIT and there are 200 students enrolled\n"
     ]
    }
   ],
   "source": [
    "course = input(\"Enter your course name:\")\n",
    "number_of_std = int(input(\"Enter number of students:\"))\n",
    "institute = input(\"Enter institute name:\")\n",
    "\n",
    "print(\"We are learning\",course,\"course at\",institute,\"and there are\",str(number_of_std), \"students enrolled\")"
   ]
  },
  {
   "cell_type": "code",
   "execution_count": 111,
   "id": "7a10d456-93c7-4d44-8700-a3d589001b50",
   "metadata": {},
   "outputs": [
    {
     "name": "stdout",
     "output_type": "stream",
     "text": [
      "we are learning Data Science. There are 200 enrolled in our course at SMIT\n"
     ]
    }
   ],
   "source": [
    "#placeholder\n",
    "print(\"we are learning {}. There are {} enrolled in our course at {}\".format(course,number_of_std,institute))"
   ]
  },
  {
   "cell_type": "code",
   "execution_count": 114,
   "id": "c555210d-6b57-4a39-ac6d-d4233480d148",
   "metadata": {},
   "outputs": [
    {
     "name": "stdout",
     "output_type": "stream",
     "text": [
      "we are learning Data Science. There are 200 enrolled in our course at SMIT.\n"
     ]
    }
   ],
   "source": [
    "print(f\"we are learning {course}. There are {number_of_std} enrolled in our course at {institute}.\")"
   ]
  },
  {
   "cell_type": "code",
   "execution_count": 115,
   "id": "e71efcfb-e2c9-42a8-8762-81ccc3c09a9a",
   "metadata": {},
   "outputs": [
    {
     "data": {
      "text/plain": [
       "True"
      ]
     },
     "execution_count": 115,
     "metadata": {},
     "output_type": "execute_result"
    }
   ],
   "source": [
    "course.lstrip().rstrip().upper().endswith(\"E\")"
   ]
  },
  {
   "cell_type": "code",
   "execution_count": 2,
   "id": "b79b8e24-0242-4da3-8f60-6d745eed1fae",
   "metadata": {},
   "outputs": [
    {
     "name": "stdout",
     "output_type": "stream",
     "text": [
      "ALi-12-False-45.54\n"
     ]
    }
   ],
   "source": [
    "print(\"ALi\",12, False, 45.54, sep=\"-\")"
   ]
  },
  {
   "cell_type": "markdown",
   "id": "5c5a3cf9-1d66-4096-93ce-6b43557015b0",
   "metadata": {},
   "source": [
    "# Python Collection: Python Data Structure \n",
    "  - List\n",
    "  - Dictionary\n",
    "  - Tuple\n",
    "  - Set"
   ]
  },
  {
   "cell_type": "markdown",
   "id": "bf3ac025-be4e-464d-9de2-758654d5f679",
   "metadata": {},
   "source": [
    "# List:\n",
    "        - List is pythin collection.\n",
    "        - Can hold many values together.\n",
    "        - Can hold many data types together\n",
    "        - List is mutable\n",
    "        - List is iterable"
   ]
  },
  {
   "cell_type": "markdown",
   "id": "28e5063a-81d4-44d1-a6f2-dc291e2b6238",
   "metadata": {},
   "source": [
    "# List declaration: []"
   ]
  },
  {
   "cell_type": "code",
   "execution_count": 71,
   "id": "e8159b0b-d1cf-453e-a08e-51bf7b173616",
   "metadata": {},
   "outputs": [],
   "source": [
    "students = ['Ali','Ahmad','Aariz','Hisham','Shakoor']"
   ]
  },
  {
   "cell_type": "code",
   "execution_count": 5,
   "id": "866f9bc9-d823-4ce6-93c0-9450dee28bcf",
   "metadata": {},
   "outputs": [
    {
     "name": "stdout",
     "output_type": "stream",
     "text": [
      "<class 'list'>\n"
     ]
    }
   ],
   "source": [
    "print(type(students))"
   ]
  },
  {
   "cell_type": "code",
   "execution_count": 6,
   "id": "3b8c3d15-0bff-44e3-a39d-e9b44ce20919",
   "metadata": {},
   "outputs": [
    {
     "data": {
      "text/plain": [
       "5"
      ]
     },
     "execution_count": 6,
     "metadata": {},
     "output_type": "execute_result"
    }
   ],
   "source": [
    "len(students)"
   ]
  },
  {
   "cell_type": "code",
   "execution_count": 9,
   "id": "108f73eb-2f91-4406-9f4e-acc544ac43ee",
   "metadata": {},
   "outputs": [
    {
     "data": {
      "text/plain": [
       "0"
      ]
     },
     "execution_count": 9,
     "metadata": {},
     "output_type": "execute_result"
    }
   ],
   "source": [
    "null_list = []\n",
    "len(null_list)"
   ]
  },
  {
   "cell_type": "markdown",
   "id": "d528244c-79af-483a-8d6a-5483158ece5c",
   "metadata": {},
   "source": [
    "# List Indexing:"
   ]
  },
  {
   "cell_type": "code",
   "execution_count": 10,
   "id": "1464d143-a34c-4e14-bcd0-bd0cdef18932",
   "metadata": {},
   "outputs": [],
   "source": [
    "# -index     -7     -6      -5      -4        -3       -2     -1\n",
    "students = ['Ali','Ahmad','Aariz','Hisham','Shakoor','Zain','Zia']\n",
    "# index       0      1       2       3        4        5      6"
   ]
  },
  {
   "cell_type": "code",
   "execution_count": 11,
   "id": "7a3df13b-d043-4ce1-971c-c4eed22873c5",
   "metadata": {},
   "outputs": [
    {
     "data": {
      "text/plain": [
       "'Zain'"
      ]
     },
     "execution_count": 11,
     "metadata": {},
     "output_type": "execute_result"
    }
   ],
   "source": [
    "students[-2]"
   ]
  },
  {
   "cell_type": "code",
   "execution_count": 13,
   "id": "d80da37b-a9fb-4e65-a6ba-2e9094103cfd",
   "metadata": {},
   "outputs": [
    {
     "data": {
      "text/plain": [
       "'Ahmad'"
      ]
     },
     "execution_count": 13,
     "metadata": {},
     "output_type": "execute_result"
    }
   ],
   "source": [
    "students[1]"
   ]
  },
  {
   "cell_type": "markdown",
   "id": "5c11ffe7-0e38-4ec6-bd72-32d7602ca7d6",
   "metadata": {},
   "source": [
    "# Adding elements to an existing list\n",
    "- append() : adds a element at very last.\n",
    "- insert() : adds a element at provided index.\n",
    "- extend() : adds many elements together in list.\n",
    "- Plus (+)       : Concatenate two lists."
   ]
  },
  {
   "cell_type": "code",
   "execution_count": 14,
   "id": "f6447883-8084-4d2b-bf65-72ac5cb4096e",
   "metadata": {},
   "outputs": [],
   "source": [
    "students.append(\"Basit\")"
   ]
  },
  {
   "cell_type": "code",
   "execution_count": 15,
   "id": "2995ed34-d4bb-4635-bc70-b37da8ee977b",
   "metadata": {},
   "outputs": [
    {
     "data": {
      "text/plain": [
       "['Ali', 'Ahmad', 'Aariz', 'Hisham', 'Shakoor', 'Zain', 'Zia', 'Basit']"
      ]
     },
     "execution_count": 15,
     "metadata": {},
     "output_type": "execute_result"
    }
   ],
   "source": [
    "students"
   ]
  },
  {
   "cell_type": "code",
   "execution_count": 16,
   "id": "73222350-9e89-4a5a-8fcf-c173bea5425b",
   "metadata": {},
   "outputs": [],
   "source": [
    "students.insert(2,\"Naveed\")"
   ]
  },
  {
   "cell_type": "code",
   "execution_count": 17,
   "id": "11386374-e670-4300-8e43-276e083b1e7a",
   "metadata": {},
   "outputs": [
    {
     "data": {
      "text/plain": [
       "['Ali',\n",
       " 'Ahmad',\n",
       " 'Naveed',\n",
       " 'Aariz',\n",
       " 'Hisham',\n",
       " 'Shakoor',\n",
       " 'Zain',\n",
       " 'Zia',\n",
       " 'Basit']"
      ]
     },
     "execution_count": 17,
     "metadata": {},
     "output_type": "execute_result"
    }
   ],
   "source": [
    "students"
   ]
  },
  {
   "cell_type": "code",
   "execution_count": 18,
   "id": "b4c76335-a3b0-43d9-a90c-869a5768a074",
   "metadata": {},
   "outputs": [],
   "source": [
    "students.extend(['Aqeel','Bilal','Hamza','Huzaifa','Khubaib'])"
   ]
  },
  {
   "cell_type": "code",
   "execution_count": 19,
   "id": "cc5f4d1a-8c68-4cd8-9ccb-36f21ece9457",
   "metadata": {},
   "outputs": [
    {
     "data": {
      "text/plain": [
       "['Ali',\n",
       " 'Ahmad',\n",
       " 'Naveed',\n",
       " 'Aariz',\n",
       " 'Hisham',\n",
       " 'Shakoor',\n",
       " 'Zain',\n",
       " 'Zia',\n",
       " 'Basit',\n",
       " 'Aqeel',\n",
       " 'Bilal',\n",
       " 'Hamza',\n",
       " 'Huzaifa',\n",
       " 'Khubaib']"
      ]
     },
     "execution_count": 19,
     "metadata": {},
     "output_type": "execute_result"
    }
   ],
   "source": [
    "students"
   ]
  },
  {
   "cell_type": "markdown",
   "id": "77fb7227-ffa7-4c57-b778-47d3bdbd1e2d",
   "metadata": {},
   "source": [
    "# Deleting' Removing elements in the List\n",
    "- del statement : Delete a element via index permanently.\n",
    "- remove()      : Delete a element via value permanently.\n",
    "- pop()         : Delete a element via index permanently /\n",
    "- clear()       : Delete a element from list permanently."
   ]
  },
  {
   "cell_type": "code",
   "execution_count": 26,
   "id": "321a4f77-a77f-4dce-954b-7322f60c4d68",
   "metadata": {},
   "outputs": [],
   "source": [
    "name = 'ali'\n",
    "del name"
   ]
  },
  {
   "cell_type": "code",
   "execution_count": 28,
   "id": "35b78fb8-aabe-41cc-bcde-6529e87a05b4",
   "metadata": {},
   "outputs": [],
   "source": [
    "name # DElETED PERMANENTLY"
   ]
  },
  {
   "cell_type": "code",
   "execution_count": 29,
   "id": "baab05ce-fd9d-4c5c-9f06-59210019e2ae",
   "metadata": {},
   "outputs": [],
   "source": [
    "del students[1]"
   ]
  },
  {
   "cell_type": "code",
   "execution_count": 30,
   "id": "c599d879-3c34-4692-9925-496e6743ff2d",
   "metadata": {},
   "outputs": [
    {
     "data": {
      "text/plain": [
       "['Ali',\n",
       " 'Naveed',\n",
       " 'Aariz',\n",
       " 'Hisham',\n",
       " 'Shakoor',\n",
       " 'Zain',\n",
       " 'Zia',\n",
       " 'Basit',\n",
       " 'Aqeel',\n",
       " 'Bilal',\n",
       " 'Hamza',\n",
       " 'Huzaifa',\n",
       " 'Khubaib']"
      ]
     },
     "execution_count": 30,
     "metadata": {},
     "output_type": "execute_result"
    }
   ],
   "source": [
    "students #Ahmad has deleted permanently"
   ]
  },
  {
   "cell_type": "code",
   "execution_count": 33,
   "id": "799c4af3-41d5-446a-908e-e42419d1ed60",
   "metadata": {},
   "outputs": [],
   "source": [
    "students.remove(\"Naveed\")"
   ]
  },
  {
   "cell_type": "code",
   "execution_count": 34,
   "id": "a02172e4-de01-468e-98b3-6ec5c0c0db99",
   "metadata": {},
   "outputs": [
    {
     "data": {
      "text/plain": [
       "['Ali',\n",
       " 'Aariz',\n",
       " 'Hisham',\n",
       " 'Shakoor',\n",
       " 'Zain',\n",
       " 'Zia',\n",
       " 'Basit',\n",
       " 'Aqeel',\n",
       " 'Bilal',\n",
       " 'Hamza',\n",
       " 'Huzaifa',\n",
       " 'Khubaib']"
      ]
     },
     "execution_count": 34,
     "metadata": {},
     "output_type": "execute_result"
    }
   ],
   "source": [
    "students"
   ]
  },
  {
   "cell_type": "code",
   "execution_count": 51,
   "id": "bdacd9eb-878b-4dd4-b2b2-1693b591fe5a",
   "metadata": {},
   "outputs": [
    {
     "data": {
      "text/plain": [
       "'Zain'"
      ]
     },
     "execution_count": 51,
     "metadata": {},
     "output_type": "execute_result"
    }
   ],
   "source": [
    "# remove a value from last index by default, but it returns a removed \n",
    "students.pop()"
   ]
  },
  {
   "cell_type": "code",
   "execution_count": 56,
   "id": "75cab217-10ab-4749-8498-8b9ee7ef0016",
   "metadata": {},
   "outputs": [
    {
     "data": {
      "text/plain": [
       "'Bilal'"
      ]
     },
     "execution_count": 56,
     "metadata": {},
     "output_type": "execute_result"
    }
   ],
   "source": [
    "popped_std"
   ]
  },
  {
   "cell_type": "code",
   "execution_count": 55,
   "id": "1eed817a-b890-4493-8410-a717ea15cc2e",
   "metadata": {},
   "outputs": [
    {
     "data": {
      "text/plain": [
       "['Ali', 'Aariz', 'Hisham', 'Shakoor']"
      ]
     },
     "execution_count": 55,
     "metadata": {},
     "output_type": "execute_result"
    }
   ],
   "source": [
    "students"
   ]
  },
  {
   "cell_type": "code",
   "execution_count": 57,
   "id": "6b22864c-0d2b-4c07-a69c-e6c161ca8d6d",
   "metadata": {},
   "outputs": [],
   "source": [
    "students.clear()"
   ]
  },
  {
   "cell_type": "code",
   "execution_count": 58,
   "id": "62381b51-c97d-4918-98c9-e59ec92bfb01",
   "metadata": {},
   "outputs": [
    {
     "data": {
      "text/plain": [
       "[]"
      ]
     },
     "execution_count": 58,
     "metadata": {},
     "output_type": "execute_result"
    }
   ],
   "source": [
    "students"
   ]
  },
  {
   "cell_type": "code",
   "execution_count": 77,
   "id": "ffeb2b71-50dc-45a4-b635-b2c64cad0aec",
   "metadata": {},
   "outputs": [
    {
     "data": {
      "text/plain": [
       "['Sir Nasir', 'Sir Asad']"
      ]
     },
     "execution_count": 77,
     "metadata": {},
     "output_type": "execute_result"
    }
   ],
   "source": [
    "teachers = [\"Sir Nasir\",\"Sir Asad\"]\n",
    "students.clear()\n",
    "students\n",
    "students.extend(teachers)\n",
    "students"
   ]
  },
  {
   "cell_type": "code",
   "execution_count": 80,
   "id": "df99e271-2840-40d4-b31d-c20b606e4cf9",
   "metadata": {},
   "outputs": [],
   "source": [
    "new_std = students # Pass by reference"
   ]
  },
  {
   "cell_type": "code",
   "execution_count": 84,
   "id": "56da6196-3a77-497e-9938-b4872926b575",
   "metadata": {},
   "outputs": [
    {
     "data": {
      "text/plain": [
       "1383237549696"
      ]
     },
     "execution_count": 84,
     "metadata": {},
     "output_type": "execute_result"
    }
   ],
   "source": [
    "id(new_std)"
   ]
  },
  {
   "cell_type": "code",
   "execution_count": 85,
   "id": "7cfb6cba-337f-4bce-a118-4930a96a1281",
   "metadata": {},
   "outputs": [
    {
     "data": {
      "text/plain": [
       "1383237549696"
      ]
     },
     "execution_count": 85,
     "metadata": {},
     "output_type": "execute_result"
    }
   ],
   "source": [
    "id(students)"
   ]
  },
  {
   "cell_type": "code",
   "execution_count": 87,
   "id": "2fb6e3fc-d1c2-479d-bf1e-8d3ae2c53fa9",
   "metadata": {},
   "outputs": [
    {
     "data": {
      "text/plain": [
       "140719678630616"
      ]
     },
     "execution_count": 87,
     "metadata": {},
     "output_type": "execute_result"
    }
   ],
   "source": [
    "a=10\n",
    "b=10\n",
    "id(a) #value is same so id would be same of a and b"
   ]
  },
  {
   "cell_type": "code",
   "execution_count": 88,
   "id": "32481a01-ad26-4313-a000-63dee1dbb324",
   "metadata": {},
   "outputs": [
    {
     "data": {
      "text/plain": [
       "140719678630616"
      ]
     },
     "execution_count": 88,
     "metadata": {},
     "output_type": "execute_result"
    }
   ],
   "source": [
    "id(b) #value is same so id would be same of a and b"
   ]
  },
  {
   "cell_type": "code",
   "execution_count": 89,
   "id": "c45d58e2-43bc-48d5-8d9e-41baf08485c6",
   "metadata": {},
   "outputs": [
    {
     "data": {
      "text/plain": [
       "['Sir Nasir', 'Sir Asad']"
      ]
     },
     "execution_count": 89,
     "metadata": {},
     "output_type": "execute_result"
    }
   ],
   "source": [
    "students"
   ]
  },
  {
   "cell_type": "code",
   "execution_count": 90,
   "id": "928663fe-918e-4809-9f96-7af0e7d81ebf",
   "metadata": {},
   "outputs": [
    {
     "data": {
      "text/plain": [
       "0"
      ]
     },
     "execution_count": 90,
     "metadata": {},
     "output_type": "execute_result"
    }
   ],
   "source": [
    "students.index('Sir Nasir') #To find index number of element"
   ]
  },
  {
   "cell_type": "code",
   "execution_count": 6,
   "id": "5f9d7f1c-84c8-4092-a5da-c814dc10be3d",
   "metadata": {},
   "outputs": [
    {
     "data": {
      "text/plain": [
       "2293569242304"
      ]
     },
     "execution_count": 6,
     "metadata": {},
     "output_type": "execute_result"
    }
   ],
   "source": [
    "team = ['Ali','Ahmad','Aariz','Hisham','Shakoor','Zain','Zia']\n",
    "id(team)"
   ]
  },
  {
   "cell_type": "markdown",
   "id": "9a80ee6a-4b0a-4e17-bfb5-92c3ec020258",
   "metadata": {},
   "source": [
    "# List Slicing"
   ]
  },
  {
   "cell_type": "code",
   "execution_count": 7,
   "id": "ff7a250c-3482-4a04-b2e6-011af071fcc7",
   "metadata": {},
   "outputs": [
    {
     "data": {
      "text/plain": [
       "['Aariz', 'Hisham', 'Shakoor']"
      ]
     },
     "execution_count": 7,
     "metadata": {},
     "output_type": "execute_result"
    }
   ],
   "source": [
    "#team [start:end:step]\n",
    "\n",
    "team[2:5:1] #take 1 step, will not left any value"
   ]
  },
  {
   "cell_type": "code",
   "execution_count": 8,
   "id": "e645eea1-c6d5-4d86-bc53-4e90caeace7f",
   "metadata": {},
   "outputs": [
    {
     "data": {
      "text/plain": [
       "['Aariz', 'Shakoor']"
      ]
     },
     "execution_count": 8,
     "metadata": {},
     "output_type": "execute_result"
    }
   ],
   "source": [
    "team[2:5:2] #take 2 step, will left 1 value alternate"
   ]
  },
  {
   "cell_type": "code",
   "execution_count": 103,
   "id": "9fa8f273-7ca3-42ed-bbba-fc88dbd8ee3e",
   "metadata": {},
   "outputs": [
    {
     "data": {
      "text/plain": [
       "1383233440960"
      ]
     },
     "execution_count": 103,
     "metadata": {},
     "output_type": "execute_result"
    }
   ],
   "source": [
    "team.copy() #changed it's id\n",
    "id(team)"
   ]
  },
  {
   "cell_type": "code",
   "execution_count": 107,
   "id": "dffc4fab-95cb-4d51-b32c-e5bb705e310f",
   "metadata": {},
   "outputs": [
    {
     "data": {
      "text/plain": [
       "['Zia', 'Zain', 'Shakoor', 'Hisham', 'Aariz', 'Ahmad', 'Ali']"
      ]
     },
     "execution_count": 107,
     "metadata": {},
     "output_type": "execute_result"
    }
   ],
   "source": [
    "team[::-1] # reverse"
   ]
  },
  {
   "cell_type": "code",
   "execution_count": 9,
   "id": "0c7ea292-59f7-4a39-a71f-f6125aeeee24",
   "metadata": {},
   "outputs": [
    {
     "name": "stdout",
     "output_type": "stream",
     "text": [
      "['Ali', 'Ahmad', 'Aariz', 'Hisham', 'Shakoor', 'Zain', 'Zia']\n"
     ]
    },
    {
     "data": {
      "text/plain": [
       "['Shakoor', 'Zain', 'Zia']"
      ]
     },
     "execution_count": 9,
     "metadata": {},
     "output_type": "execute_result"
    }
   ],
   "source": [
    "print(team)\n",
    "team[-3:7]"
   ]
  },
  {
   "cell_type": "code",
   "execution_count": 10,
   "id": "4f3b25c5-66f8-4e7b-8e04-4d7ed720b6ea",
   "metadata": {},
   "outputs": [
    {
     "name": "stdout",
     "output_type": "stream",
     "text": [
      "['Aariz', 'Ahmad', 'Ali', 'Hisham', 'Shakoor', 'Zain', 'Zia']\n",
      "['Zia', 'Zain', 'Shakoor', 'Hisham', 'Ali', 'Ahmad', 'Aariz']\n"
     ]
    }
   ],
   "source": [
    "team.sort()\n",
    "print(team)\n",
    "team.reverse()\n",
    "print(team)"
   ]
  },
  {
   "cell_type": "markdown",
   "id": "88fa7912-0c84-4a23-bfd7-7473ad3ca7e9",
   "metadata": {},
   "source": [
    "# Dictionary {}\n",
    "- No index number need\n",
    "- iterable\n",
    "- immutable\n",
    "  "
   ]
  },
  {
   "cell_type": "code",
   "execution_count": 11,
   "id": "f385ab29-e2f0-4888-b409-bcee233485df",
   "metadata": {},
   "outputs": [],
   "source": [
    "# Empty Dictionary\n",
    "student1 = {}"
   ]
  },
  {
   "cell_type": "code",
   "execution_count": 12,
   "id": "c069a342-a93a-4e8d-ad07-e4fe94752059",
   "metadata": {},
   "outputs": [
    {
     "data": {
      "text/plain": [
       "0"
      ]
     },
     "execution_count": 12,
     "metadata": {},
     "output_type": "execute_result"
    }
   ],
   "source": [
    "len(student1)"
   ]
  },
  {
   "cell_type": "code",
   "execution_count": 84,
   "id": "7a45752b-807d-4467-b536-ee96dfbb9b9b",
   "metadata": {},
   "outputs": [],
   "source": [
    "teacher = {'Name' : 'Ali', 'Age' : 18, 'Course' : 'Data Science'}"
   ]
  },
  {
   "cell_type": "code",
   "execution_count": 41,
   "id": "95537e6f-0ccf-4613-89d4-48242a155093",
   "metadata": {},
   "outputs": [
    {
     "data": {
      "text/plain": [
       "{'Name': 'Ali', 'Age': 18, 'Course': 'Data Science'}"
      ]
     },
     "execution_count": 41,
     "metadata": {},
     "output_type": "execute_result"
    }
   ],
   "source": [
    "teacher"
   ]
  },
  {
   "cell_type": "code",
   "execution_count": 42,
   "id": "9fa6191f-5742-479d-9682-1ce4820d9c13",
   "metadata": {},
   "outputs": [
    {
     "data": {
      "text/plain": [
       "'Ali'"
      ]
     },
     "execution_count": 42,
     "metadata": {},
     "output_type": "execute_result"
    }
   ],
   "source": [
    "teacher['Name']"
   ]
  },
  {
   "cell_type": "code",
   "execution_count": 17,
   "id": "6b2847b4-141d-47ef-989c-de75c468a4d4",
   "metadata": {},
   "outputs": [
    {
     "data": {
      "text/plain": [
       "18"
      ]
     },
     "execution_count": 17,
     "metadata": {},
     "output_type": "execute_result"
    }
   ],
   "source": [
    "teacher['Age']"
   ]
  },
  {
   "cell_type": "code",
   "execution_count": 43,
   "id": "2d78b5dc-7f8b-4353-a2ff-e433d50f7fcd",
   "metadata": {},
   "outputs": [
    {
     "data": {
      "text/plain": [
       "'Data Science'"
      ]
     },
     "execution_count": 43,
     "metadata": {},
     "output_type": "execute_result"
    }
   ],
   "source": [
    "teacher['Course']"
   ]
  },
  {
   "cell_type": "code",
   "execution_count": 44,
   "id": "d00d73d4-5384-4969-822b-c325d20f93be",
   "metadata": {},
   "outputs": [],
   "source": [
    "# Adding new key=value to our Dictionary\n",
    "teacher['email'] = 'muhammadali30302@gmail.com'"
   ]
  },
  {
   "cell_type": "code",
   "execution_count": 45,
   "id": "798a7d76-d0ae-44a7-81b3-ff9bf8f0bacf",
   "metadata": {},
   "outputs": [
    {
     "data": {
      "text/plain": [
       "{'Name': 'Ali',\n",
       " 'Age': 18,\n",
       " 'Course': 'Data Science',\n",
       " 'email': 'muhammadali30302@gmail.com'}"
      ]
     },
     "execution_count": 45,
     "metadata": {},
     "output_type": "execute_result"
    }
   ],
   "source": [
    "teacher"
   ]
  },
  {
   "cell_type": "code",
   "execution_count": 24,
   "id": "6f62bff2-1b3e-4b2e-a7b8-9f0f1b6306a1",
   "metadata": {},
   "outputs": [],
   "source": [
    "# if the key is already present in our Dictionary so it will update value of our key\n",
    "teacher['email'] = 'muhammad.ali.dev2@gmail.com'"
   ]
  },
  {
   "cell_type": "code",
   "execution_count": 46,
   "id": "8f2fecd5-601b-4918-9043-da5cbbdd14e1",
   "metadata": {},
   "outputs": [
    {
     "data": {
      "text/plain": [
       "{'Name': 'Ali',\n",
       " 'Age': 18,\n",
       " 'Course': 'Data Science',\n",
       " 'email': 'muhammadali30302@gmail.com'}"
      ]
     },
     "execution_count": 46,
     "metadata": {},
     "output_type": "execute_result"
    }
   ],
   "source": [
    "teacher"
   ]
  },
  {
   "cell_type": "code",
   "execution_count": 47,
   "id": "92ffbb58-0640-4adc-8aed-64fc16a9d665",
   "metadata": {},
   "outputs": [
    {
     "data": {
      "text/plain": [
       "dict_keys(['Name', 'Age', 'Course', 'email'])"
      ]
     },
     "execution_count": 47,
     "metadata": {},
     "output_type": "execute_result"
    }
   ],
   "source": [
    "teacher.keys() # it returns all keys of our Dictionary"
   ]
  },
  {
   "cell_type": "code",
   "execution_count": 48,
   "id": "63baa752-e1fc-4f8d-8ca6-88035f6a8d06",
   "metadata": {},
   "outputs": [
    {
     "data": {
      "text/plain": [
       "dict_values(['Ali', 18, 'Data Science', 'muhammadali30302@gmail.com'])"
      ]
     },
     "execution_count": 48,
     "metadata": {},
     "output_type": "execute_result"
    }
   ],
   "source": [
    "teacher.values() # it returns all value of our Dictionary"
   ]
  },
  {
   "cell_type": "code",
   "execution_count": 49,
   "id": "8d374af4-7495-4324-8035-ef19067d0a9d",
   "metadata": {},
   "outputs": [
    {
     "data": {
      "text/plain": [
       "dict_items([('Name', 'Ali'), ('Age', 18), ('Course', 'Data Science'), ('email', 'muhammadali30302@gmail.com')])"
      ]
     },
     "execution_count": 49,
     "metadata": {},
     "output_type": "execute_result"
    }
   ],
   "source": [
    "teacher.items() # it return all keys=values in pairs"
   ]
  },
  {
   "cell_type": "code",
   "execution_count": 50,
   "id": "39a6a1f9-4080-4ad9-b132-de3495bb835c",
   "metadata": {},
   "outputs": [
    {
     "data": {
      "text/plain": [
       "18"
      ]
     },
     "execution_count": 50,
     "metadata": {},
     "output_type": "execute_result"
    }
   ],
   "source": [
    "teacher.pop('Age') #it removes key=value from our Dictionary"
   ]
  },
  {
   "cell_type": "code",
   "execution_count": 52,
   "id": "529068c5-6b11-431a-b647-d2af38416817",
   "metadata": {},
   "outputs": [
    {
     "data": {
      "text/plain": [
       "{'Name': 'Ali',\n",
       " 'Course': 'Data Science',\n",
       " 'email': 'muhammadali30302@gmail.com'}"
      ]
     },
     "execution_count": 52,
     "metadata": {},
     "output_type": "execute_result"
    }
   ],
   "source": [
    "teacher # Age removed"
   ]
  },
  {
   "cell_type": "code",
   "execution_count": 53,
   "id": "4ad78e4e-bd8f-40d1-8844-2b370b0dbc28",
   "metadata": {},
   "outputs": [
    {
     "data": {
      "text/plain": [
       "('email', 'muhammadali30302@gmail.com')"
      ]
     },
     "execution_count": 53,
     "metadata": {},
     "output_type": "execute_result"
    }
   ],
   "source": [
    "teacher.popitem() # remove last pair of key=value"
   ]
  },
  {
   "cell_type": "code",
   "execution_count": 74,
   "id": "f28e4e92-1892-47b9-a6f1-4b26860696a5",
   "metadata": {},
   "outputs": [
    {
     "data": {
      "text/plain": [
       "{}"
      ]
     },
     "execution_count": 74,
     "metadata": {},
     "output_type": "execute_result"
    }
   ],
   "source": [
    "teacher"
   ]
  },
  {
   "cell_type": "code",
   "execution_count": 86,
   "id": "89dddf2b-c046-4b07-9199-f2a4c2c26b5e",
   "metadata": {},
   "outputs": [],
   "source": [
    "popped_list = []"
   ]
  },
  {
   "cell_type": "code",
   "execution_count": 89,
   "id": "e47c07ef-bb46-4d53-a32b-ed24c396c2a3",
   "metadata": {},
   "outputs": [],
   "source": [
    "popped_teacher = teacher.popitem()\n",
    "popped_list.append(popped_teacher)"
   ]
  },
  {
   "cell_type": "code",
   "execution_count": 90,
   "id": "b79589cb-d9dd-4cf6-9d51-c10638d5daf2",
   "metadata": {},
   "outputs": [
    {
     "data": {
      "text/plain": [
       "[('Course', 'Data Science'), ('Age', 18), ('Name', 'Ali')]"
      ]
     },
     "execution_count": 90,
     "metadata": {},
     "output_type": "execute_result"
    }
   ],
   "source": [
    "popped_list"
   ]
  },
  {
   "cell_type": "code",
   "execution_count": 124,
   "id": "d59f8dfd-ba8e-45e3-879e-a9e10bad6059",
   "metadata": {},
   "outputs": [],
   "source": [
    "teacher = {'name' : 'Ali', 'age' : 18, 'course' : 'Data Science'}"
   ]
  },
  {
   "cell_type": "code",
   "execution_count": 125,
   "id": "0e9d944a-1b6d-4067-a1a8-82e7a281da78",
   "metadata": {},
   "outputs": [
    {
     "data": {
      "text/plain": [
       "('Ali', 'Ali')"
      ]
     },
     "execution_count": 125,
     "metadata": {},
     "output_type": "execute_result"
    }
   ],
   "source": [
    "# both are same\n",
    "teacher.get('name') , teacher['name']"
   ]
  },
  {
   "cell_type": "code",
   "execution_count": 126,
   "id": "bcb01e5b-c389-423d-901c-500e98ca4bb4",
   "metadata": {},
   "outputs": [],
   "source": [
    "teacher_details = {'marital_status' : 'single', 'Institute' : 'SMIT'}"
   ]
  },
  {
   "cell_type": "code",
   "execution_count": 127,
   "id": "142b51d5-7fab-4554-9daf-8dfd64611ac7",
   "metadata": {},
   "outputs": [],
   "source": [
    "# if key is present in our Dictionary so it will update value otherwise it adds key=value in our Dictionary\n",
    "teacher.update(teacher_details)"
   ]
  },
  {
   "cell_type": "code",
   "execution_count": 107,
   "id": "79648b08-48a4-458a-885b-7fdb5fb3c2fc",
   "metadata": {},
   "outputs": [
    {
     "data": {
      "text/plain": [
       "{'name': 'Ali',\n",
       " 'age': 18,\n",
       " 'course': 'Data Science',\n",
       " 'marital_status': 'single',\n",
       " 'Institute': 'SMIT'}"
      ]
     },
     "execution_count": 107,
     "metadata": {},
     "output_type": "execute_result"
    }
   ],
   "source": [
    "teacher"
   ]
  },
  {
   "cell_type": "code",
   "execution_count": 122,
   "id": "15ac22cd-b723-4750-8272-9a4acd007d65",
   "metadata": {},
   "outputs": [],
   "source": [
    "teacher.clear()"
   ]
  },
  {
   "cell_type": "code",
   "execution_count": 123,
   "id": "808d0ad2-1910-4f98-9ae0-4c9386fc42ef",
   "metadata": {},
   "outputs": [
    {
     "data": {
      "text/plain": [
       "{}"
      ]
     },
     "execution_count": 123,
     "metadata": {},
     "output_type": "execute_result"
    }
   ],
   "source": [
    "teacher"
   ]
  },
  {
   "cell_type": "code",
   "execution_count": 128,
   "id": "8ac5e2b3-2bc3-4456-b7e4-4cda446230f9",
   "metadata": {},
   "outputs": [
    {
     "data": {
      "text/plain": [
       "{'name': 'Ali',\n",
       " 'age': 18,\n",
       " 'course': 'Data Science',\n",
       " 'marital_status': 'single',\n",
       " 'Institute': 'SMIT'}"
      ]
     },
     "execution_count": 128,
     "metadata": {},
     "output_type": "execute_result"
    }
   ],
   "source": [
    "teacher"
   ]
  },
  {
   "cell_type": "code",
   "execution_count": null,
   "id": "5f4a7f4d-0c98-4e6b-ad86-8ae5ea979d46",
   "metadata": {},
   "outputs": [],
   "source": [
    "del teacher['marital_status']"
   ]
  },
  {
   "cell_type": "code",
   "execution_count": 132,
   "id": "1676c223-f944-4e4e-a2d5-5493afde3489",
   "metadata": {},
   "outputs": [
    {
     "data": {
      "text/plain": [
       "{'name': 'Ali', 'age': 18, 'course': 'Data Science', 'Institute': 'SMIT'}"
      ]
     },
     "execution_count": 132,
     "metadata": {},
     "output_type": "execute_result"
    }
   ],
   "source": [
    "teacher"
   ]
  },
  {
   "cell_type": "markdown",
   "id": "efe23e66-14ea-4eec-8218-3d089e448778",
   "metadata": {},
   "source": [
    "# List in Dictionary"
   ]
  },
  {
   "cell_type": "code",
   "execution_count": 2,
   "id": "bc758254-a15c-4a7c-ae12-3e92ebf36725",
   "metadata": {},
   "outputs": [],
   "source": [
    "result = {'Roll':[1,2,3,4,5,6,7,8,9,10],\n",
    "          'Name':['Ali','Saad','Umer','Hassan','Bilal','Ahmad','Faiz','Jamal','Saim','Waqas'],\n",
    "          'Course':['Python', 'Stats', 'ML', 'AI', 'Maths', 'Python'],\n",
    "          'Marks':[75,95,83,84,90,37,91,80,58,73]}"
   ]
  },
  {
   "cell_type": "code",
   "execution_count": 6,
   "id": "a0782e4a-e544-4adb-afcf-45e00dff236c",
   "metadata": {},
   "outputs": [
    {
     "data": {
      "text/plain": [
       "['Ali',\n",
       " 'Saad',\n",
       " 'Umer',\n",
       " 'Hassan',\n",
       " 'Bilal',\n",
       " 'Ahmad',\n",
       " 'Faiz',\n",
       " 'Jamal',\n",
       " 'Saim',\n",
       " 'Waqas']"
      ]
     },
     "execution_count": 6,
     "metadata": {},
     "output_type": "execute_result"
    }
   ],
   "source": [
    "result['Name']"
   ]
  },
  {
   "cell_type": "code",
   "execution_count": 7,
   "id": "0d91936e-35f9-452a-b7a8-6c4efca9047a",
   "metadata": {},
   "outputs": [
    {
     "data": {
      "text/plain": [
       "'Bilal'"
      ]
     },
     "execution_count": 7,
     "metadata": {},
     "output_type": "execute_result"
    }
   ],
   "source": [
    "result['Name'][4]"
   ]
  },
  {
   "cell_type": "code",
   "execution_count": 8,
   "id": "81e9fe70-98a9-4d42-9912-d03daec4291e",
   "metadata": {},
   "outputs": [
    {
     "data": {
      "text/plain": [
       "'a'"
      ]
     },
     "execution_count": 8,
     "metadata": {},
     "output_type": "execute_result"
    }
   ],
   "source": [
    "result['Name'][5][-2] #ahmad \"a\""
   ]
  },
  {
   "cell_type": "code",
   "execution_count": 9,
   "id": "50f193f2-a713-40c4-a95b-851f0388d2ee",
   "metadata": {},
   "outputs": [
    {
     "data": {
      "text/plain": [
       "['Umer', 'Hassan', 'Bilal', 'Ahmad']"
      ]
     },
     "execution_count": 9,
     "metadata": {},
     "output_type": "execute_result"
    }
   ],
   "source": [
    "result['Name'][2:6] #print from index 2 to 5"
   ]
  },
  {
   "cell_type": "markdown",
   "id": "77cfb124-66cd-4ffd-9ea0-f0cdaeaa4b4f",
   "metadata": {},
   "source": [
    "# Dictionary in Dictionary"
   ]
  },
  {
   "cell_type": "code",
   "execution_count": 17,
   "id": "ed8d8fbf-edf1-469e-9e17-f002bb2e8f04",
   "metadata": {},
   "outputs": [],
   "source": [
    "dic_in_dic = {\n",
    "    'student1':{'name':'Ali','roll':111,'course':'Python'},\n",
    "    'student2':{'name':'Saad','roll':112,'course':'Machine Learning'},\n",
    "    'student3':{'name':'David','roll':113,'course':'Statistics'}\n",
    "}"
   ]
  },
  {
   "cell_type": "code",
   "execution_count": 16,
   "id": "af35cc5c-8a4d-4fcb-8f89-d37c48bbf529",
   "metadata": {},
   "outputs": [
    {
     "data": {
      "text/plain": [
       "'David'"
      ]
     },
     "execution_count": 16,
     "metadata": {},
     "output_type": "execute_result"
    }
   ],
   "source": [
    "dic_in_dic['student3']['name']"
   ]
  },
  {
   "cell_type": "code",
   "execution_count": 19,
   "id": "7ca97eb9-fad6-407b-b2b9-c13f7fffbe69",
   "metadata": {},
   "outputs": [
    {
     "data": {
      "text/plain": [
       "'Machine Learning'"
      ]
     },
     "execution_count": 19,
     "metadata": {},
     "output_type": "execute_result"
    }
   ],
   "source": [
    "dic_in_dic['student2']['course']"
   ]
  },
  {
   "cell_type": "markdown",
   "id": "5da48bca-130b-4bac-a202-27715588ccc9",
   "metadata": {},
   "source": [
    "# Tuple\n",
    "- Iterable\n",
    "- Immutable\n",
    "- (v1, v2, v3)\n",
    "- Should have more than 1 value"
   ]
  },
  {
   "cell_type": "code",
   "execution_count": 27,
   "id": "6f4a23e8-7b5e-43b6-9577-f17bd80ca2e3",
   "metadata": {},
   "outputs": [
    {
     "name": "stdout",
     "output_type": "stream",
     "text": [
      "<class 'tuple'>\n"
     ]
    }
   ],
   "source": [
    "tuples = (1+2,2-3,2)\n",
    "print(type(tuples))"
   ]
  },
  {
   "cell_type": "code",
   "execution_count": 28,
   "id": "4a0ff610-0df2-4f72-a41c-011cb3e67195",
   "metadata": {},
   "outputs": [
    {
     "data": {
      "text/plain": [
       "3"
      ]
     },
     "execution_count": 28,
     "metadata": {},
     "output_type": "execute_result"
    }
   ],
   "source": [
    "tuples[0]"
   ]
  },
  {
   "cell_type": "code",
   "execution_count": 29,
   "id": "2f49569d-0758-4879-9f02-11d9f2e8d9b2",
   "metadata": {},
   "outputs": [
    {
     "data": {
      "text/plain": [
       "3"
      ]
     },
     "execution_count": 29,
     "metadata": {},
     "output_type": "execute_result"
    }
   ],
   "source": [
    "len(tuples)"
   ]
  },
  {
   "cell_type": "markdown",
   "id": "0acd8489-f110-4abd-8955-c56b9b850807",
   "metadata": {},
   "source": [
    "#Set\n",
    "- mutable\n",
    "- {}"
   ]
  },
  {
   "cell_type": "code",
   "execution_count": 30,
   "id": "a098fe06-2161-4303-93a1-2f0ecf614603",
   "metadata": {},
   "outputs": [
    {
     "data": {
      "text/plain": [
       "dict"
      ]
     },
     "execution_count": 30,
     "metadata": {},
     "output_type": "execute_result"
    }
   ],
   "source": [
    "sets = {}\n",
    "type(sets) # Empty will be Dictionary"
   ]
  },
  {
   "cell_type": "code",
   "execution_count": 37,
   "id": "a80e8d3f-ce3e-46fc-91bf-c3bda35c0787",
   "metadata": {},
   "outputs": [
    {
     "name": "stdout",
     "output_type": "stream",
     "text": [
      "<class 'set'>\n"
     ]
    }
   ],
   "source": [
    "aset = set([1.2,3,4,5,6,7,8,8]) #typecast list to set\n",
    "print(type(aset))"
   ]
  },
  {
   "cell_type": "code",
   "execution_count": 33,
   "id": "6ac2473f-b904-40dc-bfd8-3fb46cfc43cf",
   "metadata": {},
   "outputs": [
    {
     "data": {
      "text/plain": [
       "('mango', 'banana')"
      ]
     },
     "execution_count": 33,
     "metadata": {},
     "output_type": "execute_result"
    }
   ],
   "source": [
    "fruits = 'mango', 'banana'\n",
    "fruits #with braces by default it will be tuple"
   ]
  },
  {
   "cell_type": "code",
   "execution_count": 38,
   "id": "9d7000a4-bbc0-45e7-b648-03b6434cd151",
   "metadata": {},
   "outputs": [
    {
     "data": {
      "text/plain": [
       "{1.2, 2, 3, 4, 5, 6, 7, 8, 10}"
      ]
     },
     "execution_count": 38,
     "metadata": {},
     "output_type": "execute_result"
    }
   ],
   "source": [
    "aset.union({10,2})"
   ]
  },
  {
   "cell_type": "code",
   "execution_count": 39,
   "id": "a91eef11-c191-4e5e-8f10-aa387b48a208",
   "metadata": {},
   "outputs": [
    {
     "data": {
      "text/plain": [
       "{1.2, 3, 4, 5, 6, 7, 8}"
      ]
     },
     "execution_count": 39,
     "metadata": {},
     "output_type": "execute_result"
    }
   ],
   "source": [
    "aset #doesn't repeat same values"
   ]
  },
  {
   "cell_type": "code",
   "execution_count": 41,
   "id": "91373d8f-3081-4a43-ac89-47259a31fd83",
   "metadata": {},
   "outputs": [
    {
     "data": {
      "text/plain": [
       "tuple"
      ]
     },
     "execution_count": 41,
     "metadata": {},
     "output_type": "execute_result"
    }
   ],
   "source": [
    "type(tuple([1,2,3,4,5,3]))"
   ]
  },
  {
   "cell_type": "markdown",
   "id": "42bd39d2-9dd6-42c3-8704-f77166f0e51a",
   "metadata": {},
   "source": [
    "# Conditional Statement / if statement / if clause\n",
    "- if\n",
    "- if else\n",
    "- multiple conditions\n",
    "- nested condition"
   ]
  },
  {
   "cell_type": "code",
   "execution_count": 52,
   "id": "8c7b7659-8cf4-444d-98fd-9800aa41d027",
   "metadata": {},
   "outputs": [
    {
     "name": "stdin",
     "output_type": "stream",
     "text": [
      "Enter your Age:  18\n",
      "Enter your name Ali\n"
     ]
    },
    {
     "name": "stdout",
     "output_type": "stream",
     "text": [
      "good to go by Age\n",
      "good to go by name\n"
     ]
    }
   ],
   "source": [
    "age = float(input(\"Enter your Age: \"))\n",
    "name = input(\"Enter your name\")\n",
    "if age >= 18 :\n",
    "    print(\"good to go by Age\")\n",
    "    if name == 'Ali' :\n",
    "        print('good to go by name')\n",
    "    else :\n",
    "        print('name is not correct')\n",
    "else :\n",
    "    print(\"Sorry, access denied\")"
   ]
  },
  {
   "cell_type": "markdown",
   "id": "e86df92f-605a-486b-b48a-c045094355a0",
   "metadata": {},
   "source": [
    "# Membership Check Operator: in\n",
    "# Identity Check Operator: is"
   ]
  },
  {
   "cell_type": "code",
   "execution_count": 65,
   "id": "3a728728-858e-4112-9437-86b2abb100f9",
   "metadata": {},
   "outputs": [],
   "source": [
    "guest = ['ALI','SAAD','KASIM','AARIZ']"
   ]
  },
  {
   "cell_type": "code",
   "execution_count": 56,
   "id": "cdd81fba-6228-477d-8973-4cbb66d80020",
   "metadata": {},
   "outputs": [
    {
     "data": {
      "text/plain": [
       "True"
      ]
     },
     "execution_count": 56,
     "metadata": {},
     "output_type": "execute_result"
    }
   ],
   "source": [
    "'Ali' in guest"
   ]
  },
  {
   "cell_type": "code",
   "execution_count": 66,
   "id": "017b909f-92a3-4a07-8612-af0bfc3506dc",
   "metadata": {},
   "outputs": [
    {
     "name": "stdin",
     "output_type": "stream",
     "text": [
      "Enter You Name for Varification Purpose:  ali\n"
     ]
    },
    {
     "name": "stdout",
     "output_type": "stream",
     "text": [
      "You are invited\n"
     ]
    }
   ],
   "source": [
    "guest_name = input(\"Enter You Name for Varification Purpose: \").upper()\n",
    "if guest_name in guest:\n",
    "    print(\"You are invited\")\n",
    "else:\n",
    "    print(\"Your name isn't in the list\")"
   ]
  },
  {
   "cell_type": "code",
   "execution_count": 2,
   "id": "e1a50204-5945-431f-98b4-198f4bc19091",
   "metadata": {},
   "outputs": [
    {
     "name": "stdin",
     "output_type": "stream",
     "text": [
      "Enter You Name  aariz\n"
     ]
    },
    {
     "name": "stdout",
     "output_type": "stream",
     "text": [
      "You are welcome on front seat\n"
     ]
    }
   ],
   "source": [
    "guest = ['ALI','SAAD','KASIM','AARIZ']\n",
    "guest_name = input(\"Enter You Name \").upper()\n",
    "if guest_name.startswith('A') and guest_name in guest:\n",
    "    print(\"You are welcome on front seat\")\n",
    "else:\n",
    "    print(\"you can sit after first row\")"
   ]
  },
  {
   "cell_type": "code",
   "execution_count": 15,
   "id": "3b7d8935-68fe-45fe-adc6-6c9ab4bd20ce",
   "metadata": {},
   "outputs": [
    {
     "name": "stdin",
     "output_type": "stream",
     "text": [
      "Enter Price of Potatos per kg :  290\n"
     ]
    },
    {
     "name": "stdout",
     "output_type": "stream",
     "text": [
      "Since price are 290, so please give 2kg of potatos\n"
     ]
    }
   ],
   "source": [
    "price = int(float(input(\"Enter Price of Potatos per kg : \")))\n",
    "kg = 0\n",
    "if price <= 50 :\n",
    "    kg = 10\n",
    "elif price <= 100 :\n",
    "    kg = 5\n",
    "elif price <= 200 :\n",
    "    kg = 3\n",
    "elif price <= 300 :\n",
    "    kg = 2\n",
    "elif price <= 500 :\n",
    "    kg = 1\n",
    "else:\n",
    "    print(\"No need\")\n",
    "print(f\"Since price are {price}, so please give {kg}kg of potatos\")"
   ]
  },
  {
   "cell_type": "code",
   "execution_count": 26,
   "id": "57622108-631c-4fb6-94c8-56ecf29a677b",
   "metadata": {},
   "outputs": [
    {
     "name": "stdin",
     "output_type": "stream",
     "text": [
      "Price of Item 400\n",
      "Price of Item 288\n",
      "Price of Item 4003\n",
      "Price of Item 6604\n",
      "Price of Item 6694\n",
      "Price of Item 600\n"
     ]
    },
    {
     "name": "stdout",
     "output_type": "stream",
     "text": [
      "\n",
      "        Imtiaz Supermarkt\n",
      "        \n",
      "        ___________________\n",
      "\n",
      "        400\n",
      "        288\n",
      "        4003\n",
      "        6604\n",
      "        6694\n",
      "        600\n",
      "        Gesamtrechnung : 18589\n",
      "        Discount applied  : 7435.6\n",
      "        Rechnung           : 11153.4 \n",
      "\n",
      "        Dankeschon fur Einkhaufen\n",
      "\n"
     ]
    }
   ],
   "source": [
    "item1 = int(input(\"Price of Item\"))\n",
    "item2 = int(input(\"Price of Item\"))\n",
    "item3 = int(input(\"Price of Item\"))\n",
    "item4 = int(input(\"Price of Item\"))\n",
    "item5 = int(input(\"Price of Item\"))\n",
    "item6 = int(input(\"Price of Item\"))\n",
    "\n",
    "totalBill = item1 + item2+ item3+ item4+ item5 + item6\n",
    "discount = 0\n",
    "\n",
    "if totalBill <= 1500 :\n",
    "    discount = totalBill * .10\n",
    "elif totalBill <= 2500 :\n",
    "    discount = totalBill * .15\n",
    "elif totalBill <= 4000 :\n",
    "    discount = totalBill * .20\n",
    "elif totalBill <= 6000 :\n",
    "    discount = totalBill * .30\n",
    "elif totalBill > 6000 :\n",
    "    discount = totalBill * .40\n",
    "else :\n",
    "    dicount = totalBill * 0\n",
    "print(f\"\"\"\n",
    "        Imtiaz Supermarkt\n",
    "        \n",
    "        ___________________\n",
    "\n",
    "        {item1}\n",
    "        {item2}\n",
    "        {item3}\n",
    "        {item4}\n",
    "        {item5}\n",
    "        {item6}\n",
    "        Gesamtrechnung : {totalBill}\n",
    "        Discount applied  : {discount}\n",
    "        Rechnung           : {totalBill - discount} \n",
    "\n",
    "        Dankeschon fur Einkhaufen\n",
    "\"\"\")"
   ]
  },
  {
   "cell_type": "code",
   "execution_count": 43,
   "id": "f66fc0a5-f43f-4cbb-a7ec-799ac544a222",
   "metadata": {},
   "outputs": [
    {
     "name": "stdin",
     "output_type": "stream",
     "text": [
      "Enter your physics marks :  100\n",
      "Enter your maths marks :  200\n",
      "Enter your urdu marks :  100\n",
      "Enter your islamiat marks :  100\n",
      "Enter your computer marks :  100\n",
      "Enter your english marks :  100\n"
     ]
    },
    {
     "name": "stdout",
     "output_type": "stream",
     "text": [
      "\n",
      "    Your Result\n",
      "    \n",
      "    ___________\n",
      "\n",
      "    Obtained Marks : 700\n",
      "    Max Marks      : 1100\n",
      "    Percentage     : 63.63636363636363\n",
      "    Grade          : \n",
      "\n"
     ]
    }
   ],
   "source": [
    "physics = int(input(\"Enter your physics marks : \"))\n",
    "maths = int(input(\"Enter your maths marks : \"))\n",
    "urdu = int(input(\"Enter your urdu marks : \"))\n",
    "islamiat = int(input(\"Enter your islamiat marks : \"))\n",
    "computer = int(input(\"Enter your computer marks : \"))\n",
    "english = int(input(\"Enter your english marks : \"))\n",
    "\n",
    "totalMarks = physics + maths + urdu + islamiat + computer + english\n",
    "maxMarks = 1100\n",
    "percentage = totalMarks / maxMarks * 100\n",
    "grade = \"\"\n",
    "\n",
    "if percentage <= 100 :\n",
    "    grade == \"A+\"\n",
    "elif percentage < 80 : \n",
    "    grade == \"A\"\n",
    "elif percentage < 70 :\n",
    "    grade == \"B\"\n",
    "elif percentage < 60 : \n",
    "    grade == \"C\"\n",
    "elif percentage < 50 :\n",
    "    grade == \"D\"\n",
    "else :\n",
    "    grade == \"F\"\n",
    "\n",
    "print(f\"\"\"\n",
    "    Your Result\n",
    "    \n",
    "    ___________\n",
    "\n",
    "    Obtained Marks : {totalMarks}\n",
    "    Max Marks      : {maxMarks}\n",
    "    Percentage     : {percentage}\n",
    "    Grade          : {grade}\n",
    "\"\"\")"
   ]
  },
  {
   "cell_type": "code",
   "execution_count": 49,
   "id": "b2f64b13-51a9-4626-96e2-1b32c78b5310",
   "metadata": {},
   "outputs": [
    {
     "name": "stdin",
     "output_type": "stream",
     "text": [
      "Vote day monday\n",
      "do you have CNIC? no\n",
      "Is your name in voting list? no\n"
     ]
    },
    {
     "name": "stdout",
     "output_type": "stream",
     "text": [
      "you must have CNIC\n"
     ]
    }
   ],
   "source": [
    "vote_day = input(\"Vote day\")\n",
    "CNIC = input(\"do you have CNIC?\")\n",
    "voting_list = input(\"Is your name in voting list?\")\n",
    "\n",
    "if vote_day == \"monday\" :\n",
    "    if CNIC == \"yes\" :\n",
    "        if voting_list == \"yes\" :\n",
    "            print(\"You can vote\")\n",
    "        else :\n",
    "                print(\"Your name must be in the voting list\")\n",
    "    else :\n",
    "        print(\"you must have CNIC\")\n",
    "else :\n",
    "    print(\"Today is not voting day\")\n",
    "        "
   ]
  },
  {
   "cell_type": "code",
   "execution_count": 3,
   "id": "9957c365-d19d-4de5-90f6-0bfb38c3b69c",
   "metadata": {},
   "outputs": [],
   "source": [
    "shop_items = {'laptop': 200,'mobile' : 150,'charger': 50}"
   ]
  },
  {
   "cell_type": "code",
   "execution_count": 6,
   "id": "2bdbffa5-6180-44e2-9111-75c2895b8851",
   "metadata": {},
   "outputs": [
    {
     "name": "stdin",
     "output_type": "stream",
     "text": [
      "What do you want? :  MObile\n",
      "how much? :  72\n"
     ]
    },
    {
     "name": "stdout",
     "output_type": "stream",
     "text": [
      "you total is = 10800\n"
     ]
    }
   ],
   "source": [
    "item = input(\"What do you want? : \").lower()\n",
    "\n",
    "if item in shop_items :\n",
    "    quantity = int(input(\"how much? : \"))\n",
    "    total = quantity * shop_items[item]\n",
    "    if quantity >= 100 :\n",
    "        discount = total * 0.10\n",
    "else :\n",
    "    print(\"Item isn't available\")\n",
    "print(f\"you total is = {total}\")"
   ]
  },
  {
   "cell_type": "markdown",
   "id": "dda22e11-9357-4885-b02d-e932b4e79ac4",
   "metadata": {},
   "source": [
    "# Loops\n",
    "- Lopps always iterates over the values that are really iterable : string, list, dictionary, tuple, set"
   ]
  },
  {
   "cell_type": "markdown",
   "id": "5d1c0606-9318-4d40-ab9d-9273907041ad",
   "metadata": {},
   "source": [
    "## For Loop:"
   ]
  },
  {
   "cell_type": "code",
   "execution_count": 72,
   "id": "923e091c-4865-4863-8457-97e1c798c6c4",
   "metadata": {},
   "outputs": [
    {
     "name": "stdout",
     "output_type": "stream",
     "text": [
      "MUHAMMAD"
     ]
    }
   ],
   "source": [
    "for i in  'Muhammad':\n",
    "        print(i.upper(),end=\"\")"
   ]
  },
  {
   "cell_type": "code",
   "execution_count": 73,
   "id": "07aa34ac-763a-4f5c-b01d-e175911e793d",
   "metadata": {},
   "outputs": [
    {
     "name": "stdout",
     "output_type": "stream",
     "text": [
      "0\n",
      "1\n",
      "2\n",
      "3\n",
      "4\n",
      "5\n",
      "6\n",
      "7\n",
      "8\n",
      "9\n"
     ]
    }
   ],
   "source": [
    "for a in range(10) :\n",
    "    print(a)"
   ]
  },
  {
   "cell_type": "code",
   "execution_count": 90,
   "id": "ab13f262-e1bb-4a57-89fb-d8724a531739",
   "metadata": {},
   "outputs": [
    {
     "name": "stdout",
     "output_type": "stream",
     "text": [
      "0\n",
      "1\n",
      "2\n",
      "3\n",
      "4\n",
      "5\n",
      "6\n",
      "7\n",
      "8\n",
      "9\n"
     ]
    }
   ],
   "source": [
    "for num in range(10):\n",
    "    print(num)"
   ]
  },
  {
   "cell_type": "code",
   "execution_count": 91,
   "id": "8a2c4340-c37d-4ee5-9248-2e242a48790b",
   "metadata": {},
   "outputs": [],
   "source": [
    "cities = ('Karachi','Berlin','Amsterdam','Moscow','Munich','Vienna','Lisbon')"
   ]
  },
  {
   "cell_type": "code",
   "execution_count": 92,
   "id": "7bddb806-ec86-474a-8f50-ca14e0ea4730",
   "metadata": {},
   "outputs": [
    {
     "name": "stdout",
     "output_type": "stream",
     "text": [
      "Ich liebe Karachi\n",
      "Ich liebe Berlin\n",
      "Ich liebe Amsterdam\n",
      "Ich liebe Moscow\n",
      "Ich liebe Munich\n",
      "Ich liebe Vienna\n",
      "Ich liebe Lisbon\n"
     ]
    }
   ],
   "source": [
    "for city in cities:\n",
    "    print(f\"Ich liebe {city}\")"
   ]
  },
  {
   "cell_type": "code",
   "execution_count": 95,
   "id": "dd991bd4-c94b-4fcd-a4ee-ea673ed46613",
   "metadata": {},
   "outputs": [
    {
     "name": "stdout",
     "output_type": "stream",
     "text": [
      "Ich Liebe Berlin\n",
      "Ich Liebe Amsterdam\n",
      "Ich Liebe Moscow\n",
      "Ich Liebe Munich\n",
      "Ich Liebe Vienna\n",
      "Ich Liebe Lisbon\n"
     ]
    }
   ],
   "source": [
    "for city in cities:\n",
    "    if city == 'Karachi':\n",
    "        continue\n",
    "    else:\n",
    "        print(f\"Ich Liebe {city}\")"
   ]
  },
  {
   "cell_type": "code",
   "execution_count": 100,
   "id": "5056bfcd-1cfb-431b-bfa6-dd66653498f8",
   "metadata": {},
   "outputs": [
    {
     "name": "stdout",
     "output_type": "stream",
     "text": [
      "Ali is invited\n",
      "Saad isn't invited\n",
      "Adam is invited\n",
      "Hisham is invited\n"
     ]
    }
   ],
   "source": [
    "invite = ('Ali','Saad','Adam','Hisham')\n",
    "for invited in invite:\n",
    "    if invited == 'Saad':\n",
    "        print(f\"{invited} isn't invited\")\n",
    "    else:\n",
    "        print(f\"{invited} is invited\")"
   ]
  },
  {
   "cell_type": "code",
   "execution_count": 115,
   "id": "f19b7f3c-29f5-4120-a0ab-b91aee405ac7",
   "metadata": {},
   "outputs": [
    {
     "name": "stdout",
     "output_type": "stream",
     "text": [
      "0\n",
      "1\n",
      "2\n",
      "3\n"
     ]
    }
   ],
   "source": [
    "for a in range(10) :\n",
    "    if a == 4 :\n",
    "        break\n",
    "    print(a)"
   ]
  },
  {
   "cell_type": "code",
   "execution_count": 126,
   "id": "a4e1740d-16e7-43ed-9562-92f5bbe74e99",
   "metadata": {},
   "outputs": [
    {
     "name": "stdout",
     "output_type": "stream",
     "text": [
      "1\n",
      "2\n",
      "3\n",
      "4\n",
      "5\n",
      "6\n",
      "7\n",
      "8\n",
      "9\n"
     ]
    }
   ],
   "source": [
    "for i in range(1,20) :\n",
    "    if i%10 == 0 :\n",
    "        break\n",
    "    print(i)"
   ]
  },
  {
   "cell_type": "code",
   "execution_count": 138,
   "id": "71ab79d1-62b1-4469-8d2a-014410c80ffb",
   "metadata": {},
   "outputs": [
    {
     "name": "stdout",
     "output_type": "stream",
     "text": [
      "1 1\n",
      "{'a': 2, 'Square': 4}\n"
     ]
    }
   ],
   "source": [
    "dic = {}\n",
    "for a in range(1,20):\n",
    "    sqrt = a**2\n",
    "    if sqrt%2 == 0 :\n",
    "        dic['a'] = a\n",
    "        dic['Square'] = sqrt\n",
    "        break\n",
    "    else:\n",
    "        print(a,sqrt)\n",
    "print(dic)"
   ]
  },
  {
   "cell_type": "code",
   "execution_count": 149,
   "id": "89a7d58c-5c66-46b8-aece-5dad4054acf8",
   "metadata": {},
   "outputs": [
    {
     "data": {
      "text/plain": [
       "{'a': 2, 'Square': 4, 'Ali': 18}"
      ]
     },
     "execution_count": 149,
     "metadata": {},
     "output_type": "execute_result"
    }
   ],
   "source": [
    "dic"
   ]
  },
  {
   "cell_type": "code",
   "execution_count": 151,
   "id": "dd8d0be2-6ac2-4571-bef3-78957cbd8e11",
   "metadata": {},
   "outputs": [],
   "source": [
    "my_dict = {'Name':'Ali','Age':18,'ID':334036}"
   ]
  },
  {
   "cell_type": "code",
   "execution_count": 154,
   "id": "d0b6b802-bf9c-43fd-a868-a1945c39644d",
   "metadata": {},
   "outputs": [
    {
     "name": "stdout",
     "output_type": "stream",
     "text": [
      "Name\n",
      "Age\n",
      "ID\n"
     ]
    }
   ],
   "source": [
    "for a in my_dict :\n",
    "    print(a)"
   ]
  },
  {
   "cell_type": "code",
   "execution_count": 164,
   "id": "e2cae4a4-0fb7-4f81-a8a0-6ca45dc174b1",
   "metadata": {},
   "outputs": [
    {
     "name": "stdout",
     "output_type": "stream",
     "text": [
      "{'Name': 'Ali', 'Age': 18, 'ID': 334036}\n",
      "{'Name': 'Ali', 'Age': 18, 'ID': 334036}\n",
      "{'Name': 'Ali', 'Age': 18, 'ID': 334036}\n"
     ]
    }
   ],
   "source": [
    "for a in my_dict :\n",
    "    print(my_dict)"
   ]
  },
  {
   "cell_type": "code",
   "execution_count": 169,
   "id": "a5bb9547-a3a1-4afc-92c9-7a534c857f10",
   "metadata": {},
   "outputs": [
    {
     "name": "stdout",
     "output_type": "stream",
     "text": [
      "Ali\n",
      "18\n",
      "334036\n"
     ]
    }
   ],
   "source": [
    "for a in my_dict.values() :\n",
    "    print(a)"
   ]
  },
  {
   "cell_type": "code",
   "execution_count": 170,
   "id": "bfc42788-bb8f-45ee-aa03-e0f2cd410ae6",
   "metadata": {},
   "outputs": [],
   "source": [
    "my_list = ['Ali','Saad','Adam','Hisham']"
   ]
  },
  {
   "cell_type": "code",
   "execution_count": 172,
   "id": "5603fc11-1148-4f29-8134-bde814adc47d",
   "metadata": {},
   "outputs": [],
   "source": [
    "a,s,d,h = my_list"
   ]
  },
  {
   "cell_type": "code",
   "execution_count": 173,
   "id": "1e257618-464a-43f9-bedc-87809551c9a3",
   "metadata": {},
   "outputs": [
    {
     "data": {
      "text/plain": [
       "'Ali'"
      ]
     },
     "execution_count": 173,
     "metadata": {},
     "output_type": "execute_result"
    }
   ],
   "source": [
    "a"
   ]
  },
  {
   "cell_type": "code",
   "execution_count": 174,
   "id": "0f1157bd-0bc2-4a5e-98ca-70240810ff1e",
   "metadata": {},
   "outputs": [
    {
     "data": {
      "text/plain": [
       "'Adam'"
      ]
     },
     "execution_count": 174,
     "metadata": {},
     "output_type": "execute_result"
    }
   ],
   "source": [
    "d"
   ]
  },
  {
   "cell_type": "code",
   "execution_count": 178,
   "id": "efe8facd-5f7f-43ea-bfc2-a60a44bb9a54",
   "metadata": {},
   "outputs": [
    {
     "name": "stdout",
     "output_type": "stream",
     "text": [
      "key is Name and vlaue is Ali\n",
      "key is Course and vlaue is Data\n"
     ]
    }
   ],
   "source": [
    "my_dict = {'Name': 'Ali', 'Course': 'Data'}\n",
    "for a,b in my_dict.items():\n",
    "    print(f\"key is {a} and vlaue is {b}\")"
   ]
  },
  {
   "cell_type": "code",
   "execution_count": 182,
   "id": "b63b2d42-7977-4a40-bc40-98790dc1f268",
   "metadata": {},
   "outputs": [],
   "source": [
    "items = [{'laptop': 30000}, {'mobile': 18000}, {'printer': 5000}, {'Mouse': 700}]"
   ]
  },
  {
   "cell_type": "code",
   "execution_count": 192,
   "id": "0063c4f2-5d0b-4d07-992a-fd68892a6ef5",
   "metadata": {},
   "outputs": [
    {
     "name": "stdin",
     "output_type": "stream",
     "text": [
      "What do you want to buy? :  printer\n"
     ]
    },
    {
     "name": "stdout",
     "output_type": "stream",
     "text": [
      "printer price is 5000\n"
     ]
    }
   ],
   "source": [
    "prod = input(\"What do you want to buy? : \").lower()\n",
    "for i in items :\n",
    "    if prod in i:\n",
    "        print(f\"{prod} price is {i[prod]}\")"
   ]
  },
  {
   "cell_type": "markdown",
   "id": "58c719bb-9d5f-420c-9ebc-9eaefb61a784",
   "metadata": {},
   "source": [
    "# Functions"
   ]
  },
  {
   "cell_type": "code",
   "execution_count": 15,
   "id": "ac5e8fcd-a269-4d16-9d9c-0182bc3db384",
   "metadata": {},
   "outputs": [
    {
     "name": "stdout",
     "output_type": "stream",
     "text": [
      "5\n",
      "7\n"
     ]
    }
   ],
   "source": [
    "def sum(a,b):\n",
    "    print(a+b)\n",
    "sum(2,3)\n",
    "sum(3,4)"
   ]
  },
  {
   "cell_type": "code",
   "execution_count": 9,
   "id": "8955cf43-53a7-4880-acaa-d8c3e790085f",
   "metadata": {},
   "outputs": [],
   "source": [
    "def shop(price): # parameter\n",
    "    print(f\"price of product is ${price}\")"
   ]
  },
  {
   "cell_type": "code",
   "execution_count": 16,
   "id": "d271c764-ed29-4857-bee6-d1ab563b2580",
   "metadata": {},
   "outputs": [
    {
     "name": "stdout",
     "output_type": "stream",
     "text": [
      "price of product is $200\n"
     ]
    }
   ],
   "source": [
    "shop(200) # argument"
   ]
  },
  {
   "cell_type": "code",
   "execution_count": 43,
   "id": "108d360e-fbea-4180-ae02-c00fb7be52a7",
   "metadata": {},
   "outputs": [],
   "source": [
    "def sum(lst):\n",
    "    s = 0\n",
    "    for num in lst:\n",
    "        s += num\n",
    "    print(s)"
   ]
  },
  {
   "cell_type": "code",
   "execution_count": 44,
   "id": "99504b73-aa7a-4f16-8327-4cd772e14900",
   "metadata": {},
   "outputs": [
    {
     "name": "stdout",
     "output_type": "stream",
     "text": [
      "55\n"
     ]
    }
   ],
   "source": [
    "sum([1,2,3,4,5,6,7,8,9,10])"
   ]
  },
  {
   "cell_type": "code",
   "execution_count": 50,
   "id": "11c486e0-72ec-491f-81b2-da3b510af039",
   "metadata": {},
   "outputs": [],
   "source": [
    "def find_max(lst):\n",
    "    max_num = lst[0]\n",
    "    for a in lst:\n",
    "        if a > max_num:\n",
    "            max_num = a\n",
    "    print(max_num)"
   ]
  },
  {
   "cell_type": "code",
   "execution_count": 53,
   "id": "e7b12a4b-4a09-400e-afcf-0d7e3df9f75d",
   "metadata": {},
   "outputs": [
    {
     "name": "stdout",
     "output_type": "stream",
     "text": [
      "374\n"
     ]
    }
   ],
   "source": [
    "find_max([1,2,3,73,374,282])"
   ]
  },
  {
   "cell_type": "code",
   "execution_count": 55,
   "id": "c6e17835-ffe4-40fb-b596-e67ada5b599c",
   "metadata": {},
   "outputs": [],
   "source": [
    "def find_min(lst):\n",
    "    min_num = lst[0]\n",
    "    for a in lst:\n",
    "        if a < min_num:\n",
    "            min_num = a\n",
    "    print(min_num)"
   ]
  },
  {
   "cell_type": "code",
   "execution_count": 58,
   "id": "f8c25852-4155-43b1-b0db-e19019d902b1",
   "metadata": {},
   "outputs": [
    {
     "name": "stdout",
     "output_type": "stream",
     "text": [
      "-67\n"
     ]
    }
   ],
   "source": [
    "find_min([1,-67,2,3,73,374,282])"
   ]
  },
  {
   "cell_type": "code",
   "execution_count": 73,
   "id": "ce4b1cae-7aca-4de4-9d33-27d65ff3d9bd",
   "metadata": {},
   "outputs": [],
   "source": [
    "def person_details(name, age, gender, phone):\n",
    "    print(f\"\"\"              Name    : {name}\n",
    "              Age     : {age}\n",
    "              Gender  : {gender}\n",
    "              Phone   : {phone}\n",
    "    \"\"\")"
   ]
  },
  {
   "cell_type": "code",
   "execution_count": 74,
   "id": "129bdb41-4af0-4105-b8cd-b18cc9115312",
   "metadata": {},
   "outputs": [
    {
     "name": "stdout",
     "output_type": "stream",
     "text": [
      "              Name    : Ali\n",
      "              Age     : 19\n",
      "              Gender  : Male\n",
      "              Phone   : 277658392\n",
      "    \n"
     ]
    }
   ],
   "source": [
    "person_details('Ali',19,phone='277658392',gender='Male')"
   ]
  },
  {
   "cell_type": "code",
   "execution_count": 83,
   "id": "3251fbd3-d536-489a-9739-937d5b0ec533",
   "metadata": {},
   "outputs": [],
   "source": [
    "def sum(a,b,*num):\n",
    "    print(a + b)\n",
    "    print(num)\n",
    "    ts = 0\n",
    "    for b in num:\n",
    "        ts += b\n",
    "        s = ts + a + b\n",
    "    print(s)"
   ]
  },
  {
   "cell_type": "code",
   "execution_count": 84,
   "id": "00d64b60-6c65-436c-b78f-499647e09a73",
   "metadata": {},
   "outputs": [
    {
     "name": "stdout",
     "output_type": "stream",
     "text": [
      "27\n",
      "(5, 5, 6)\n",
      "45\n"
     ]
    }
   ],
   "source": [
    "sum(23,4,5,5,6)"
   ]
  },
  {
   "cell_type": "code",
   "execution_count": 9,
   "id": "35dfd3c9-111a-4262-bfbc-8cda829552c6",
   "metadata": {},
   "outputs": [],
   "source": [
    "def ali(a,b):\n",
    "    return a - b"
   ]
  },
  {
   "cell_type": "code",
   "execution_count": 11,
   "id": "5e28b4e2-eaea-47f7-87e6-0ca2f0dc578b",
   "metadata": {},
   "outputs": [
    {
     "data": {
      "text/plain": [
       "1"
      ]
     },
     "execution_count": 11,
     "metadata": {},
     "output_type": "execute_result"
    }
   ],
   "source": [
    "ali(14,13)"
   ]
  },
  {
   "cell_type": "code",
   "execution_count": 15,
   "id": "575191fb-87dc-485e-8448-1d51dad17dff",
   "metadata": {},
   "outputs": [
    {
     "name": "stdin",
     "output_type": "stream",
     "text": [
      "Input your age here :  22\n"
     ]
    },
    {
     "name": "stdout",
     "output_type": "stream",
     "text": [
      "22\n",
      "Finally will must run\n"
     ]
    }
   ],
   "source": [
    "try:\n",
    "    age = int(input(\"Input your age here : \"))\n",
    "    his_age = age\n",
    "except Exception as e:\n",
    "    print(f\"Exception generated and caught {e}\")\n",
    "else:\n",
    "    print(his_age)\n",
    "finally:\n",
    "    print(\"Finally will must run\")"
   ]
  },
  {
   "cell_type": "markdown",
   "id": "45b43485-9eed-4093-9e33-291fd4fa9d5a",
   "metadata": {},
   "source": [
    "# File Handling"
   ]
  },
  {
   "cell_type": "code",
   "execution_count": 16,
   "id": "aaa751f8-f431-4d9b-a718-63f9c63d2d24",
   "metadata": {},
   "outputs": [],
   "source": [
    "f = open('file.txt')"
   ]
  },
  {
   "cell_type": "code",
   "execution_count": 17,
   "id": "61160e54-6a53-404f-a98b-7f525fdd8508",
   "metadata": {},
   "outputs": [
    {
     "data": {
      "text/plain": [
       "'a book or other written or printed work, regarded in terms of its content rather than its physical form.\\n\"a text which explores pain and grief\"\\nthe main body of a book or other piece of writing, as distinct from other material such as notes, appendices, and illustrations.\\n\"the pictures are clear and relate well to the text\"'"
      ]
     },
     "execution_count": 17,
     "metadata": {},
     "output_type": "execute_result"
    }
   ],
   "source": [
    "f.read()"
   ]
  },
  {
   "cell_type": "code",
   "execution_count": 26,
   "id": "f128b3c7-e7df-45b5-a706-b65ac64c316b",
   "metadata": {},
   "outputs": [],
   "source": [
    "a = open(\"myfile.txt\",\"w\")\n",
    "a.write(\"Hello Ali, Congradulations\")\n",
    "a.close()"
   ]
  },
  {
   "cell_type": "code",
   "execution_count": 29,
   "id": "3a02dbb0-d455-4162-a31e-965c3de2f633",
   "metadata": {},
   "outputs": [
    {
     "data": {
      "text/plain": [
       "5"
      ]
     },
     "execution_count": 29,
     "metadata": {},
     "output_type": "execute_result"
    }
   ],
   "source": [
    "a = open(\"myfile.txt\",\"w\")\n",
    "a.write(\"Hello\")"
   ]
  },
  {
   "cell_type": "code",
   "execution_count": 30,
   "id": "8bcef379-ef22-4c4e-93ff-d83dae1a63e3",
   "metadata": {},
   "outputs": [
    {
     "data": {
      "text/plain": [
       "5"
      ]
     },
     "execution_count": 30,
     "metadata": {},
     "output_type": "execute_result"
    }
   ],
   "source": [
    "a.write(\"Hello\")"
   ]
  },
  {
   "cell_type": "code",
   "execution_count": 32,
   "id": "a942a148-9d0a-4d81-a009-c97cb44ed55e",
   "metadata": {},
   "outputs": [],
   "source": [
    "a.close()"
   ]
  },
  {
   "cell_type": "code",
   "execution_count": 37,
   "id": "7137c1cb-05b7-4568-92c9-97ee1063287c",
   "metadata": {},
   "outputs": [],
   "source": [
    "a = open(\"myfile.txt\",\"w\")\n",
    "a.write(\"hey Ali!\")\n",
    "a.close()"
   ]
  },
  {
   "cell_type": "code",
   "execution_count": 51,
   "id": "1d2ae60a-67c8-40bd-b874-ba2715f66ce7",
   "metadata": {},
   "outputs": [],
   "source": [
    "a = open(\"myfile.txt\",\"w\")\n",
    "a.writelines([\"Prepared by experienced English teachers, the texts\\n\",\n",
    "\"articles and conversations are brief and appropriate to your level of\\n\",\n",
    "\"proficiency. Take the multiple-choice quiz following each text\\n\",\n",
    "\"and you'll get the results immediately. You will feel both challenged and\\n\",\n",
    "\"accomplished! You can even download (as PDF) and print the texts and exercises. It's enjoyable, fun and free. Good luck!\"])"
   ]
  },
  {
   "cell_type": "code",
   "execution_count": 53,
   "id": "b2b651ac-514b-4e36-b1db-cde41d9cf8b5",
   "metadata": {},
   "outputs": [],
   "source": [
    "a.close()"
   ]
  },
  {
   "cell_type": "code",
   "execution_count": 54,
   "id": "924fe298-573d-437d-9809-6f41e2616762",
   "metadata": {},
   "outputs": [],
   "source": [
    "with open(\"myfile.txt\",\"r\") as a:\n",
    "    content = a.read()"
   ]
  },
  {
   "cell_type": "code",
   "execution_count": 55,
   "id": "c8a0c31a-66b0-4329-ae85-195a76dfb468",
   "metadata": {},
   "outputs": [
    {
     "data": {
      "text/plain": [
       "\"Prepared by experienced English teachers, the texts\\narticles and conversations are brief and appropriate to your level of\\nproficiency. Take the multiple-choice quiz following each text\\nand you'll get the results immediately. You will feel both challenged and\\naccomplished! You can even download (as PDF) and print the texts and exercises. It's enjoyable, fun and free. Good luck!\""
      ]
     },
     "execution_count": 55,
     "metadata": {},
     "output_type": "execute_result"
    }
   ],
   "source": [
    "content"
   ]
  },
  {
   "cell_type": "code",
   "execution_count": 56,
   "id": "f91bd52b-d6a1-429c-89df-7a26892f7074",
   "metadata": {},
   "outputs": [],
   "source": [
    "with open(\"myfile.txt\",\"a\") as a:\n",
    "    a.write(\"hey!\")"
   ]
  },
  {
   "cell_type": "code",
   "execution_count": 57,
   "id": "625f5532-e817-4cec-b8dd-b2eaedd45b3b",
   "metadata": {},
   "outputs": [],
   "source": [
    "with open(\"myfile.txt\",\"r\") as a:\n",
    "    content = a.read()"
   ]
  },
  {
   "cell_type": "code",
   "execution_count": 58,
   "id": "3776559c-7edc-4d46-b62b-d141b3f1a550",
   "metadata": {},
   "outputs": [
    {
     "data": {
      "text/plain": [
       "\"Prepared by experienced English teachers, the texts\\narticles and conversations are brief and appropriate to your level of\\nproficiency. Take the multiple-choice quiz following each text\\nand you'll get the results immediately. You will feel both challenged and\\naccomplished! You can even download (as PDF) and print the texts and exercises. It's enjoyable, fun and free. Good luck!hey!\""
      ]
     },
     "execution_count": 58,
     "metadata": {},
     "output_type": "execute_result"
    }
   ],
   "source": [
    "content"
   ]
  },
  {
   "cell_type": "code",
   "execution_count": 60,
   "id": "fdcc89c4-ba0b-4221-9b5b-6adaf58d4264",
   "metadata": {},
   "outputs": [
    {
     "name": "stdout",
     "output_type": "stream",
     "text": [
      "articles and conversations are brief and appropriate to your level of\n",
      "proficiency. Take the multiple-choice quiz following each text\n",
      "and you'll get the results immediately. You will feel both challenged and\n",
      "accomplished! You can even download (as PDF) and print the texts and exercises. It's enjoyable, fun and free. Good luck!hey!\n"
     ]
    }
   ],
   "source": [
    "with open(\"myfile.txt\",\"r\") as a:\n",
    "    for line in a:\n",
    "        content = a.read()\n",
    "        print(content)"
   ]
  },
  {
   "cell_type": "code",
   "execution_count": 68,
   "id": "47ed74d5-877d-4bd4-88f9-db2ff305379b",
   "metadata": {},
   "outputs": [
    {
     "name": "stdout",
     "output_type": "stream",
     "text": [
      "The file you are looking is not in our dictionary\n"
     ]
    }
   ],
   "source": [
    "try:\n",
    "    with open(\"function.txt\",\"r+\") as a:\n",
    "        a.write(\"Functions are block of code that runs when they are called.\")\n",
    "        a.seek(0)\n",
    "        print(a.read())\n",
    "except FileNotFoundError:\n",
    "    print(\"The file you are looking is not in our dictionary\")"
   ]
  },
  {
   "cell_type": "markdown",
   "id": "9e64a1ee-fb48-4936-87fc-2499fa97e3fe",
   "metadata": {},
   "source": [
    "# Object Oriented Programming (OOPS):\n",
    "Every object has it's own\n",
    "- charcteristic\n",
    "- Behavior, features"
   ]
  },
  {
   "cell_type": "markdown",
   "id": "affad18d-97ca-40cd-beb4-0881dfa1011b",
   "metadata": {},
   "source": [
    "## Classes:\n",
    "        Class is a template of an object\n",
    "        Class is a model of an object\n",
    "        Class is a blue print of an object \n",
    "        Class is a map of an object\n",
    "        Class is actually implementation\n",
    "        Class is the first true copy of an object\n",
    "\n",
    "## Object:\n",
    "        Object is an instance of class\n",
    "        Object is a copy of class"
   ]
  },
  {
   "cell_type": "code",
   "execution_count": 1,
   "id": "c42e6740-8162-4db0-93b4-f7e49b94ad54",
   "metadata": {},
   "outputs": [],
   "source": [
    "class person():\n",
    "    pass"
   ]
  },
  {
   "cell_type": "code",
   "execution_count": 2,
   "id": "3390bddd-c7f0-4f84-889c-49dba72e6a64",
   "metadata": {},
   "outputs": [],
   "source": [
    "p1 = person()"
   ]
  },
  {
   "cell_type": "code",
   "execution_count": 3,
   "id": "f4cb8846-e776-4993-a1a7-362d0e1373da",
   "metadata": {},
   "outputs": [
    {
     "name": "stdout",
     "output_type": "stream",
     "text": [
      "<class '__main__.person'>\n"
     ]
    }
   ],
   "source": [
    "print(type(p1))"
   ]
  },
  {
   "cell_type": "code",
   "execution_count": 12,
   "id": "3dcaa522-c8c3-4aa0-86e5-50e621c38175",
   "metadata": {},
   "outputs": [],
   "source": [
    "class person():\n",
    "    # Attributes\n",
    "    name = \"Muhammad Ali\"\n",
    "    age = 19\n",
    "    gender = \"Male\"\n",
    "    occupation = \"Student\"\n",
    "    # Action/Behavior/Method\n",
    "    def reaction(self):\n",
    "        print(f\"{self.name} is weeping!\")"
   ]
  },
  {
   "cell_type": "code",
   "execution_count": 14,
   "id": "d0b68e7e-4215-485d-94a2-93f52eb598f6",
   "metadata": {},
   "outputs": [],
   "source": [
    "p1 = person()"
   ]
  },
  {
   "cell_type": "code",
   "execution_count": 15,
   "id": "786effb2-5b61-4047-9eb3-4202b9fd4040",
   "metadata": {},
   "outputs": [
    {
     "data": {
      "text/plain": [
       "'Muhammad Ali'"
      ]
     },
     "execution_count": 15,
     "metadata": {},
     "output_type": "execute_result"
    }
   ],
   "source": [
    "p1.name"
   ]
  },
  {
   "cell_type": "code",
   "execution_count": 16,
   "id": "6c99c17f-27b3-425f-a895-af718179a499",
   "metadata": {},
   "outputs": [
    {
     "data": {
      "text/plain": [
       "19"
      ]
     },
     "execution_count": 16,
     "metadata": {},
     "output_type": "execute_result"
    }
   ],
   "source": [
    "p1.age"
   ]
  },
  {
   "cell_type": "code",
   "execution_count": 17,
   "id": "ed622fa3-85d9-4a9c-a420-94ff4c4473f1",
   "metadata": {},
   "outputs": [
    {
     "name": "stdout",
     "output_type": "stream",
     "text": [
      "Muhammad Ali is weeping!\n"
     ]
    }
   ],
   "source": [
    "p1.reaction()"
   ]
  },
  {
   "cell_type": "code",
   "execution_count": 24,
   "id": "8f1fd586-446c-4261-8fe8-c62f30f8fe08",
   "metadata": {},
   "outputs": [
    {
     "name": "stdout",
     "output_type": "stream",
     "text": [
      "Muhammad Ali is weeping!\n"
     ]
    }
   ],
   "source": [
    "person().reaction()"
   ]
  },
  {
   "cell_type": "code",
   "execution_count": 26,
   "id": "54decc30-9ec6-4490-baa7-81b2b218ae36",
   "metadata": {},
   "outputs": [],
   "source": [
    "p2 = person()"
   ]
  },
  {
   "cell_type": "code",
   "execution_count": 27,
   "id": "26f162ae-098b-4314-87e4-95cba987951d",
   "metadata": {},
   "outputs": [],
   "source": [
    "p2.name = \"Hisham\""
   ]
  },
  {
   "cell_type": "code",
   "execution_count": 28,
   "id": "2e13df72-c8de-4b35-9be3-e158f2f289b4",
   "metadata": {},
   "outputs": [],
   "source": [
    "p2.age = 19"
   ]
  },
  {
   "cell_type": "code",
   "execution_count": 29,
   "id": "1178c795-eb02-4bae-9f2c-ca14a5acfe74",
   "metadata": {},
   "outputs": [],
   "source": [
    "p2.gender = \"Male\""
   ]
  },
  {
   "cell_type": "code",
   "execution_count": 30,
   "id": "66cbfc11-8cb6-4b21-98d1-3c3551db7d50",
   "metadata": {},
   "outputs": [],
   "source": [
    "p2.occupation = \"Job\""
   ]
  },
  {
   "cell_type": "code",
   "execution_count": 31,
   "id": "c7d577e4-0dee-4d6d-8d8e-6f2ca39bf812",
   "metadata": {},
   "outputs": [
    {
     "data": {
      "text/plain": [
       "'Hisham'"
      ]
     },
     "execution_count": 31,
     "metadata": {},
     "output_type": "execute_result"
    }
   ],
   "source": [
    "p2.name"
   ]
  },
  {
   "cell_type": "code",
   "execution_count": 56,
   "id": "6ee54385-b8c7-4241-b45b-6efd037164fa",
   "metadata": {},
   "outputs": [],
   "source": [
    "class Person():\n",
    "    # Initializer /  Constructor\n",
    "    def __init__(self,gender,name,age,occupation):\n",
    "        self.gender = gender\n",
    "        self.name = name\n",
    "        self.age = age\n",
    "        self.occupation = occupation\n",
    "    def sleep(self):\n",
    "        print(f\"{self.name} is sleeping\")"
   ]
  },
  {
   "cell_type": "code",
   "execution_count": 57,
   "id": "3939248f-cddc-4787-8cf5-bafad09d6ca0",
   "metadata": {},
   "outputs": [],
   "source": [
    "p1 = Person('Male', 'Ali',19,'Programmer')"
   ]
  },
  {
   "cell_type": "code",
   "execution_count": 58,
   "id": "71010cd7-7cb9-4212-8a1b-61fe635258f9",
   "metadata": {},
   "outputs": [],
   "source": [
    "p2 = Person('Female', 'Shabana',27,'Designer')"
   ]
  },
  {
   "cell_type": "code",
   "execution_count": 59,
   "id": "0d200cf5-4633-439d-bdf4-ef2be8ffe5ff",
   "metadata": {},
   "outputs": [
    {
     "name": "stdout",
     "output_type": "stream",
     "text": [
      "Ali is sleeping\n"
     ]
    }
   ],
   "source": [
    "p1.sleep()"
   ]
  },
  {
   "cell_type": "code",
   "execution_count": 60,
   "id": "2d989cff-a4c9-4d64-af38-e06ec36de887",
   "metadata": {},
   "outputs": [
    {
     "name": "stdout",
     "output_type": "stream",
     "text": [
      "Shabana is sleeping\n"
     ]
    }
   ],
   "source": [
    "p2.sleep()"
   ]
  },
  {
   "cell_type": "code",
   "execution_count": 61,
   "id": "4c772a35-414d-4328-9752-8d35f6d0a84a",
   "metadata": {},
   "outputs": [
    {
     "data": {
      "text/plain": [
       "'Shabana'"
      ]
     },
     "execution_count": 61,
     "metadata": {},
     "output_type": "execute_result"
    }
   ],
   "source": [
    "p2.name"
   ]
  },
  {
   "cell_type": "code",
   "execution_count": 62,
   "id": "f2b66919-2732-4b1c-974b-4a379c3e7268",
   "metadata": {},
   "outputs": [
    {
     "data": {
      "text/plain": [
       "19"
      ]
     },
     "execution_count": 62,
     "metadata": {},
     "output_type": "execute_result"
    }
   ],
   "source": [
    "p1.age"
   ]
  },
  {
   "cell_type": "code",
   "execution_count": 68,
   "id": "099a8609-d59c-4d91-b65c-acf7c60a6981",
   "metadata": {},
   "outputs": [],
   "source": [
    "p3 = Person('Male', 'Saad',23,'Student')"
   ]
  },
  {
   "cell_type": "code",
   "execution_count": 69,
   "id": "aff59bb6-0d9c-4501-985a-fc8ee33208bb",
   "metadata": {},
   "outputs": [
    {
     "name": "stdout",
     "output_type": "stream",
     "text": [
      "Saad is sleeping\n"
     ]
    }
   ],
   "source": [
    "Person.sleep(p3)"
   ]
  },
  {
   "cell_type": "code",
   "execution_count": 98,
   "id": "6c7036d6-6156-4670-9fdb-aa1753d20c70",
   "metadata": {},
   "outputs": [],
   "source": [
    "class Dog():\n",
    "    def __init__(selfy,name,age,breed,bite):\n",
    "        selfy.name = name\n",
    "        selfy.age = age\n",
    "        selfy.breed = breed\n",
    "        selfy.bite = bite\n",
    "    def bark(selfy):\n",
    "        print(f\"{selfy.name} is barking\")\n",
    "    def detailDog(selfy):\n",
    "        print(f\"\"\"\n",
    "            Dog Name = {selfy.name}\n",
    "            Dog Age = {selfy.age}\n",
    "            Dog Breed = {selfy.breed}\n",
    "            Does Dog Bite = {selfy.bite}\n",
    "        \"\"\")"
   ]
  },
  {
   "cell_type": "code",
   "execution_count": 99,
   "id": "0dd7cf8b-6a92-4a78-8f0d-3bd4bb926454",
   "metadata": {},
   "outputs": [],
   "source": [
    "d1 = Dog('Tommy',12,'German sheferd',True)"
   ]
  },
  {
   "cell_type": "code",
   "execution_count": 100,
   "id": "a4def5a4-1e66-4229-9230-fad926fcb9e7",
   "metadata": {},
   "outputs": [],
   "source": [
    "d2 = Dog('Xander',17,'Siberian huskey',False)"
   ]
  },
  {
   "cell_type": "code",
   "execution_count": 101,
   "id": "58cd812f-612c-46cc-8af6-e08548a84641",
   "metadata": {},
   "outputs": [
    {
     "name": "stdout",
     "output_type": "stream",
     "text": [
      "Tommy is barking\n"
     ]
    }
   ],
   "source": [
    "d1.bark()"
   ]
  },
  {
   "cell_type": "code",
   "execution_count": 102,
   "id": "cac3d193-055c-4979-a385-e67436e44105",
   "metadata": {},
   "outputs": [
    {
     "name": "stdout",
     "output_type": "stream",
     "text": [
      "Xander is barking\n"
     ]
    }
   ],
   "source": [
    "d2.bark()"
   ]
  },
  {
   "cell_type": "code",
   "execution_count": 103,
   "id": "a1c9f823-5cf7-4241-bfd7-9e9aab42afd8",
   "metadata": {},
   "outputs": [
    {
     "data": {
      "text/plain": [
       "False"
      ]
     },
     "execution_count": 103,
     "metadata": {},
     "output_type": "execute_result"
    }
   ],
   "source": [
    "d2.bite"
   ]
  },
  {
   "cell_type": "code",
   "execution_count": 104,
   "id": "f785de1c-dd27-47f0-ace0-d5f90f0d72c1",
   "metadata": {},
   "outputs": [
    {
     "name": "stdout",
     "output_type": "stream",
     "text": [
      "\n",
      "            Dog Name = Xander\n",
      "            Dog Age = 17\n",
      "            Dog Breed = Siberian huskey\n",
      "            Does Dog Bite = False\n",
      "        \n"
     ]
    }
   ],
   "source": [
    "d2.detailDog()"
   ]
  },
  {
   "cell_type": "code",
   "execution_count": 105,
   "id": "79886657-0600-4383-ab9e-9ec14ff4816d",
   "metadata": {},
   "outputs": [
    {
     "name": "stdout",
     "output_type": "stream",
     "text": [
      "\n",
      "            Dog Name = Tommy\n",
      "            Dog Age = 12\n",
      "            Dog Breed = German sheferd\n",
      "            Does Dog Bite = True\n",
      "        \n"
     ]
    }
   ],
   "source": [
    "d1.detailDog()"
   ]
  },
  {
   "cell_type": "code",
   "execution_count": 107,
   "id": "66b1d047-8002-42e9-8e6c-ec285ecaca4a",
   "metadata": {},
   "outputs": [],
   "source": [
    "class Dog():\n",
    "    def __init__(self,name,age,roll,course = \"Python\"):\n",
    "        self.name = name\n",
    "        self.age = age\n",
    "        self.roll = roll\n",
    "        self.course = course\n",
    "        self.laptop = \"HP\"\n",
    "    def study(self):\n",
    "        print(f\"{self.name} is studying {self.course}\")\n",
    "    def exam(self):\n",
    "        print(f\"{self.name} is giving {self.course} exam\")\n",
    "    def detailStd(self):\n",
    "        print(f\"\"\"\n",
    "            Student Name = {self.name}\n",
    "            Student Age = {self.age}\n",
    "            Student Roll = {self.roll}\n",
    "            Student Course = {self.course}\n",
    "            Student Laptop = {self.laptop}\n",
    "        \"\"\")"
   ]
  },
  {
   "cell_type": "markdown",
   "id": "173271fe-26cd-46cc-ace7-61c623436a2d",
   "metadata": {},
   "source": [
    "s1 = Dog('Majid',25,40338)"
   ]
  },
  {
   "cell_type": "code",
   "execution_count": 111,
   "id": "8d140a22-04b7-4f17-8632-e223cbc5cb1f",
   "metadata": {},
   "outputs": [
    {
     "data": {
      "text/plain": [
       "'HP'"
      ]
     },
     "execution_count": 111,
     "metadata": {},
     "output_type": "execute_result"
    }
   ],
   "source": [
    "s1.laptop"
   ]
  },
  {
   "cell_type": "code",
   "execution_count": 112,
   "id": "7d844d84-0dc8-42f4-833a-853465980fe5",
   "metadata": {},
   "outputs": [
    {
     "data": {
      "text/plain": [
       "'Python'"
      ]
     },
     "execution_count": 112,
     "metadata": {},
     "output_type": "execute_result"
    }
   ],
   "source": [
    "s1.course"
   ]
  },
  {
   "cell_type": "code",
   "execution_count": 113,
   "id": "41d82eee-4663-44c8-9e55-53346605a4d8",
   "metadata": {},
   "outputs": [
    {
     "name": "stdout",
     "output_type": "stream",
     "text": [
      "\n",
      "            Student Name = Majid\n",
      "            Student Age = 25\n",
      "            Student Roll = 40338\n",
      "            Student Course = Python\n",
      "            Student Laptop = HP\n",
      "        \n"
     ]
    }
   ],
   "source": [
    "s1.detailStd()"
   ]
  },
  {
   "cell_type": "code",
   "execution_count": 114,
   "id": "b40bd17f-8acb-4376-b88f-b81d50c9fcf3",
   "metadata": {},
   "outputs": [
    {
     "name": "stdout",
     "output_type": "stream",
     "text": [
      "Majid is studying Python\n"
     ]
    }
   ],
   "source": [
    "s1.study()"
   ]
  },
  {
   "cell_type": "code",
   "execution_count": 115,
   "id": "8f058e67-9ece-47d5-af85-4e576afa8e44",
   "metadata": {},
   "outputs": [
    {
     "name": "stdout",
     "output_type": "stream",
     "text": [
      "Majid is giving Python exam\n"
     ]
    }
   ],
   "source": [
    "s1.exam()"
   ]
  },
  {
   "cell_type": "markdown",
   "id": "3ba75bdf-ddb1-47ad-99ee-e584b26cb29f",
   "metadata": {},
   "source": [
    " # Pillers of Object Orienceded programming (OOPS):\n"
   ]
  },
  {
   "cell_type": "markdown",
   "id": "e0a79796-a957-48a4-af8d-ce4e1b375925",
   "metadata": {},
   "source": [
    "- Encapsolation"
   ]
  },
  {
   "cell_type": "code",
   "execution_count": 13,
   "id": "420c4b9f-f8d2-46eb-8410-b7e119c3f7ed",
   "metadata": {},
   "outputs": [],
   "source": [
    "class user():\n",
    "    def __init__(self,first_name,last_name,username,password):\n",
    "        self.first_name = first_name\n",
    "        self.last_name = last_name\n",
    "        self.username = username\n",
    "        self.password = password\n",
    "    def userProfile(self):\n",
    "        print( f\"\"\"\n",
    "            First Name : {self.first_name}\n",
    "            Last Name : {self.last_name}\n",
    "            Username : {self.username}\n",
    "        \"\"\")\n",
    "    def get_username(self):\n",
    "        return self.username\n",
    "    def set_user(self,new_username):\n",
    "        if username.lower() == \"admin\":\n",
    "            return \"Invalid Username\"\n",
    "        else:\n",
    "            self.username = new_username"
   ]
  },
  {
   "cell_type": "code",
   "execution_count": 14,
   "id": "9d1c4d92-631f-4b03-a3c4-1f68bbd28920",
   "metadata": {},
   "outputs": [],
   "source": [
    "u1 = user(\"Saad\",\"Ali\",\"saadali1209\",\"124421\")"
   ]
  },
  {
   "cell_type": "code",
   "execution_count": 15,
   "id": "ed7ed41c-7003-47b0-ba8c-3236a7fa5e4b",
   "metadata": {},
   "outputs": [
    {
     "name": "stdout",
     "output_type": "stream",
     "text": [
      "\n",
      "            First Name : Saad\n",
      "            Last Name : Ali\n",
      "            Username : saadali1209\n",
      "        \n"
     ]
    }
   ],
   "source": [
    "u1.userProfile()"
   ]
  },
  {
   "cell_type": "code",
   "execution_count": 16,
   "id": "aedb9dd0-f6fd-4fbb-b2b3-1fafe3551052",
   "metadata": {},
   "outputs": [
    {
     "data": {
      "text/plain": [
       "'124421'"
      ]
     },
     "execution_count": 16,
     "metadata": {},
     "output_type": "execute_result"
    }
   ],
   "source": [
    "u1.password"
   ]
  },
  {
   "cell_type": "code",
   "execution_count": 19,
   "id": "8e0692c5-1177-4b03-b961-481e349c91a3",
   "metadata": {},
   "outputs": [],
   "source": [
    "u1.username = \"saadali12093\""
   ]
  },
  {
   "cell_type": "code",
   "execution_count": 20,
   "id": "afa5b9f9-a927-4cf8-9680-dbd13e212048",
   "metadata": {},
   "outputs": [
    {
     "data": {
      "text/plain": [
       "'saadali12093'"
      ]
     },
     "execution_count": 20,
     "metadata": {},
     "output_type": "execute_result"
    }
   ],
   "source": [
    "u1.username"
   ]
  },
  {
   "cell_type": "markdown",
   "id": "684a1098-06ae-443a-844e-c2fee4b0e133",
   "metadata": {},
   "source": [
    "# Inheritance\n",
    "    - We inherit a class into another class.\n",
    "    - The class inherited called Parent class (Super).\n",
    "    - The class inherits called child class (Sub).\n",
    "    - The methods and attributes of parent class are available in child class.\n",
    "    - Child class may have it's own attributes and methods."
   ]
  },
  {
   "cell_type": "code",
   "execution_count": 5,
   "id": "44331ec2-a8b6-4ce2-a8a6-703f8a8b1152",
   "metadata": {},
   "outputs": [],
   "source": [
    "def welcome():\n",
    "    print(\"Welcome here\")"
   ]
  },
  {
   "cell_type": "code",
   "execution_count": 6,
   "id": "b5cea731-ae89-4c51-9583-1c8c5343700b",
   "metadata": {},
   "outputs": [
    {
     "name": "stdout",
     "output_type": "stream",
     "text": [
      "Welcome here\n",
      "None\n"
     ]
    }
   ],
   "source": [
    "print(welcome())"
   ]
  },
  {
   "cell_type": "code",
   "execution_count": 13,
   "id": "8248cc5c-92c0-4b7b-a944-4ddfa44e96cc",
   "metadata": {},
   "outputs": [],
   "source": [
    "well = welcome()"
   ]
  },
  {
   "cell_type": "code",
   "execution_count": 14,
   "id": "04334a8c-e491-4135-909a-d0ac999b6331",
   "metadata": {},
   "outputs": [
    {
     "name": "stdout",
     "output_type": "stream",
     "text": [
      "Welcome here\n"
     ]
    }
   ],
   "source": [
    "print(well)"
   ]
  },
  {
   "cell_type": "code",
   "execution_count": 16,
   "id": "254cb934-1731-4623-8970-cc89e79018b3",
   "metadata": {},
   "outputs": [],
   "source": [
    "def welcome():\n",
    "    return \"Welcome here\""
   ]
  },
  {
   "cell_type": "code",
   "execution_count": 17,
   "id": "792a0a6b-f786-4085-a057-3dce5aecc432",
   "metadata": {},
   "outputs": [
    {
     "name": "stdout",
     "output_type": "stream",
     "text": [
      "Welcome here\n"
     ]
    }
   ],
   "source": [
    "print(welcome())"
   ]
  },
  {
   "cell_type": "code",
   "execution_count": 18,
   "id": "dfbf1f2b-3fd5-4194-8727-674fda9f8bfd",
   "metadata": {},
   "outputs": [],
   "source": [
    "wil = welcome()"
   ]
  },
  {
   "cell_type": "code",
   "execution_count": 21,
   "id": "624da1e9-07fe-48bb-9c07-290ff3bceb81",
   "metadata": {},
   "outputs": [
    {
     "name": "stdout",
     "output_type": "stream",
     "text": [
      "Welcome here\n"
     ]
    }
   ],
   "source": [
    "print(wil)"
   ]
  },
  {
   "cell_type": "code",
   "execution_count": 24,
   "id": "ac32fcce-696d-454a-a7aa-0a8e655a9fa7",
   "metadata": {},
   "outputs": [],
   "source": [
    "def parent(fun):\n",
    "    def child():\n",
    "        print(\"Welcome\")\n",
    "        print(fun(\"Pakistan\"))\n",
    "        print(\"Please come in\")\n",
    "    return child()"
   ]
  },
  {
   "cell_type": "code",
   "execution_count": 25,
   "id": "f225d526-f75b-4f76-b9bb-a1f6e8b670ed",
   "metadata": {},
   "outputs": [
    {
     "name": "stdout",
     "output_type": "stream",
     "text": [
      "Welcome\n",
      "8\n",
      "Please come in\n"
     ]
    }
   ],
   "source": [
    "parent(len)"
   ]
  },
  {
   "cell_type": "code",
   "execution_count": 36,
   "id": "f92fe6ee-04d1-431f-a91d-7b3d4a3b8b07",
   "metadata": {},
   "outputs": [],
   "source": [
    "def profile_fetcher(f):\n",
    "    name = \"Ali\"\n",
    "    clas = \"AI\"\n",
    "    profile = f(n = name, c = clas)\n",
    "    print(profile)"
   ]
  },
  {
   "cell_type": "code",
   "execution_count": 37,
   "id": "58bf8ea6-5282-4a04-a338-d6d8be93cd0b",
   "metadata": {},
   "outputs": [
    {
     "name": "stdout",
     "output_type": "stream",
     "text": [
      "{'n': 'Ali'}\n"
     ]
    }
   ],
   "source": [
    "@profile_fetcher\n",
    "def builder(**details):\n",
    "    profile = {}\n",
    "    for k,v in details.items():\n",
    "        profile[k] = v\n",
    "        return profile"
   ]
  },
  {
   "cell_type": "code",
   "execution_count": null,
   "id": "21b4ed5c-9b65-42ea-8d64-efe00c895e1d",
   "metadata": {},
   "outputs": [],
   "source": []
  }
 ],
 "metadata": {
  "kernelspec": {
   "display_name": "Python 3 (ipykernel)",
   "language": "python",
   "name": "python3"
  },
  "language_info": {
   "codemirror_mode": {
    "name": "ipython",
    "version": 3
   },
   "file_extension": ".py",
   "mimetype": "text/x-python",
   "name": "python",
   "nbconvert_exporter": "python",
   "pygments_lexer": "ipython3",
   "version": "3.12.7"
  }
 },
 "nbformat": 4,
 "nbformat_minor": 5
}
