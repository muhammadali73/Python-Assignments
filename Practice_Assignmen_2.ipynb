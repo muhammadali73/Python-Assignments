{
 "cells": [
  {
   "cell_type": "markdown",
   "metadata": {},
   "source": [
    "# 1) Area of a Rectangle:"
   ]
  },
  {
   "cell_type": "code",
   "execution_count": 1,
   "metadata": {},
   "outputs": [
    {
     "name": "stdin",
     "output_type": "stream",
     "text": [
      "Enter the length of the rectangle:  63\n",
      "Enter the width of the rectangle:  8\n"
     ]
    },
    {
     "name": "stdout",
     "output_type": "stream",
     "text": [
      "The area of rectangle is: 504.0\n"
     ]
    }
   ],
   "source": [
    "Length=float(input(\"Enter the length of the rectangle: \"))\n",
    "Width=float(input(\"Enter the width of the rectangle: \"))\n",
    "Result=Length*Width\n",
    "print(f\"The area of rectangle is: {Result}\")"
   ]
  },
  {
   "cell_type": "markdown",
   "metadata": {},
   "source": [
    "# 2) Circumference of a Circle: "
   ]
  },
  {
   "cell_type": "code",
   "execution_count": 2,
   "metadata": {},
   "outputs": [
    {
     "name": "stdin",
     "output_type": "stream",
     "text": [
      "Enter the radius of the circle:  72\n"
     ]
    },
    {
     "name": "stdout",
     "output_type": "stream",
     "text": [
      "The circumference of the circle is: 452.16\n"
     ]
    }
   ],
   "source": [
    "radius=float(input(\"Enter the radius of the circle: \"))\n",
    "pi=3.14\n",
    "circumference=2*pi*radius\n",
    "print(f\"The circumference of the circle is: {circumference}\")"
   ]
  },
  {
   "cell_type": "markdown",
   "metadata": {},
   "source": [
    "# 3) Simple Interest:"
   ]
  },
  {
   "cell_type": "code",
   "execution_count": 3,
   "metadata": {},
   "outputs": [
    {
     "name": "stdin",
     "output_type": "stream",
     "text": [
      "Enter Principle: 73\n",
      "Enter rate:  8929\n",
      "Enter time in years:  29\n"
     ]
    },
    {
     "name": "stdout",
     "output_type": "stream",
     "text": [
      "Total interest: 18902693.0\n"
     ]
    }
   ],
   "source": [
    "principle=float(input(\"Enter Principle:\"))\n",
    "rate=float(input(\"Enter rate: \"))\n",
    "time=float(input(\"Enter time in years: \"))\n",
    "simpint=principle*rate*time\n",
    "print(f\"Total interest: {simpint}\")"
   ]
  },
  {
   "cell_type": "markdown",
   "metadata": {},
   "source": [
    "# 4) Speed of an Object: "
   ]
  },
  {
   "cell_type": "code",
   "execution_count": 4,
   "metadata": {},
   "outputs": [
    {
     "name": "stdin",
     "output_type": "stream",
     "text": [
      "Enter distance:  23\n",
      "Enter time:  44\n"
     ]
    },
    {
     "name": "stdout",
     "output_type": "stream",
     "text": [
      "The speed of the object is: 0.5227272727272727 kms/hr\n"
     ]
    }
   ],
   "source": [
    "dist=float(input(\"Enter distance: \"))\n",
    "time=float(input(\"Enter time: \"))\n",
    "speed=dist/time\n",
    "print(f\"The speed of the object is: {speed} kms/hr\")"
   ]
  },
  {
   "cell_type": "markdown",
   "metadata": {},
   "source": [
    "# 5) BMI Calculator: "
   ]
  },
  {
   "cell_type": "code",
   "execution_count": 5,
   "metadata": {},
   "outputs": [
    {
     "name": "stdin",
     "output_type": "stream",
     "text": [
      "Enter weight in kg: 50\n",
      "Enter height in meters: 1.8\n"
     ]
    },
    {
     "name": "stdout",
     "output_type": "stream",
     "text": [
      "BMI = 15.432098765432098\n"
     ]
    }
   ],
   "source": [
    "weight=float(input(\"Enter weight in kg:\"))\n",
    "height=float(input(\"Enter height in meters:\"))\n",
    "bmi=weight/height**2\n",
    "print(f\"BMI = {bmi}\")"
   ]
  },
  {
   "cell_type": "markdown",
   "metadata": {},
   "source": [
    "# 6) Force Using Newton's Second Law: "
   ]
  },
  {
   "cell_type": "code",
   "execution_count": 6,
   "metadata": {},
   "outputs": [
    {
     "name": "stdin",
     "output_type": "stream",
     "text": [
      "Enter mass in kg: 23\n",
      "Enter acceleration in meters/s2: 25\n"
     ]
    },
    {
     "name": "stdout",
     "output_type": "stream",
     "text": [
      "The force of the object is: 575.0\n"
     ]
    }
   ],
   "source": [
    "m=float(input(\"Enter mass in kg:\"))\n",
    "a=float(input(\"Enter acceleration in meters/s2:\"))\n",
    "force=m*a\n",
    "print(f\"The force of the object is: {force}\")"
   ]
  },
  {
   "cell_type": "markdown",
   "metadata": {},
   "source": [
    "# 7) Compound Interest: "
   ]
  },
  {
   "cell_type": "code",
   "execution_count": 7,
   "metadata": {},
   "outputs": [
    {
     "name": "stdin",
     "output_type": "stream",
     "text": [
      "Enter Principle: 83\n",
      "Enter rate:  9\n",
      "Enter time in years:  27\n",
      "Enter number of times interest is compounded in a year: 299\n"
     ]
    },
    {
     "name": "stdout",
     "output_type": "stream",
     "text": [
      "The total:15900866.126703937 \n"
     ]
    }
   ],
   "source": [
    "p=float(input(\"Enter Principle:\"))\n",
    "r=float(input(\"Enter rate: \"))\n",
    "t=float(input(\"Enter time in years: \"))\n",
    "n=float(input(\"Enter number of times interest is compounded in a year:\"))\n",
    "A=p*(1+r/n)**n*t\n",
    "print(f\"The total:{A} \")"
   ]
  },
  {
   "cell_type": "markdown",
   "metadata": {},
   "source": [
    "# 8) Perimeter of a Triangle:"
   ]
  },
  {
   "cell_type": "code",
   "execution_count": 8,
   "metadata": {},
   "outputs": [
    {
     "name": "stdin",
     "output_type": "stream",
     "text": [
      "Enter length of side a:  2\n",
      "Enter length of side b:  16\n",
      "Enter length of side c:  18\n"
     ]
    },
    {
     "name": "stdout",
     "output_type": "stream",
     "text": [
      "The perimeter of the triangle is:36.0\n"
     ]
    }
   ],
   "source": [
    "a=float(input(\"Enter length of side a: \"))\n",
    "b=float(input(\"Enter length of side b: \"))\n",
    "c=float(input(\"Enter length of side c: \"))\n",
    "perim=a+b+c\n",
    "print(f\"The perimeter of the triangle is:{perim}\")"
   ]
  },
  {
   "cell_type": "markdown",
   "metadata": {},
   "source": [
    "# 9) Volume of a Sphere: "
   ]
  },
  {
   "cell_type": "code",
   "execution_count": 9,
   "metadata": {},
   "outputs": [
    {
     "name": "stdin",
     "output_type": "stream",
     "text": [
      "Enter radius: 73\n"
     ]
    },
    {
     "name": "stdout",
     "output_type": "stream",
     "text": [
      "The volume of the sphere is:1628684.5066666666\n"
     ]
    }
   ],
   "source": [
    "rad=float(input(\"Enter radius:\"))\n",
    "vol=(4/3)*pi*rad**3\n",
    "print(f\"The volume of the sphere is:{vol}\")"
   ]
  },
  {
   "cell_type": "markdown",
   "metadata": {},
   "source": [
    "# 10) Kinetic Energy: "
   ]
  },
  {
   "cell_type": "code",
   "execution_count": 10,
   "metadata": {},
   "outputs": [
    {
     "name": "stdin",
     "output_type": "stream",
     "text": [
      "Enter mass: 63\n",
      "Enter velocity: 28\n"
     ]
    },
    {
     "name": "stdout",
     "output_type": "stream",
     "text": [
      "Kinetic energy:24696.0\n"
     ]
    }
   ],
   "source": [
    "mass=float(input(\"Enter mass:\"))\n",
    "vel=float(input(\"Enter velocity:\"))\n",
    "ke=(1/2)*mass*vel**2\n",
    "print(f\"Kinetic energy:{ke}\")"
   ]
  },
  {
   "cell_type": "markdown",
   "metadata": {},
   "source": [
    "# 11) Quadratic Equation Roots: "
   ]
  },
  {
   "cell_type": "code",
   "execution_count": 28,
   "metadata": {},
   "outputs": [
    {
     "name": "stdin",
     "output_type": "stream",
     "text": [
      "Enter coefficient a = 63\n",
      "Enter coefficient b = 84\n",
      "Enter coefficient c = 9\n"
     ]
    },
    {
     "name": "stdout",
     "output_type": "stream",
     "text": [
      "Quadratic Equation Roots =  2095.65433039278 -2263.65433039278\n"
     ]
    }
   ],
   "source": [
    "a = float(input(\"Enter coefficient a =\"))\n",
    "b = float(input(\"Enter coefficient b =\"))\n",
    "c = float(input(\"Enter coefficient c =\"))\n",
    "d = b**2 - 4*a*c\n",
    "root1 = -b + d**0.5 / 2 * a\n",
    "root2 = -b - d**0.5 / 2 * a\n",
    "print(\"Quadratic Equation Roots = \",root1, root2)"
   ]
  },
  {
   "cell_type": "markdown",
   "metadata": {},
   "source": [
    "# 12) Temperature Conversion: \n"
   ]
  },
  {
   "cell_type": "code",
   "execution_count": 11,
   "metadata": {},
   "outputs": [
    {
     "name": "stdin",
     "output_type": "stream",
     "text": [
      "Enter temperature in celsius: 37\n"
     ]
    },
    {
     "name": "stdout",
     "output_type": "stream",
     "text": [
      "Temperature in fahrenheit:98.60000000000001\n"
     ]
    }
   ],
   "source": [
    "cels=float(input(\"Enter temperature in celsius:\"))\n",
    "far=(9/5*cels)+32\n",
    "print(f\"Temperature in fahrenheit:{far}\")"
   ]
  },
  {
   "cell_type": "markdown",
   "metadata": {},
   "source": [
    "# 13) Gravitational Force: "
   ]
  },
  {
   "cell_type": "code",
   "execution_count": 12,
   "metadata": {},
   "outputs": [
    {
     "name": "stdin",
     "output_type": "stream",
     "text": [
      "Enter mass of Object1: 83\n",
      "Enter mass of Object2: 83\n",
      "Enter distance b/w centers of objects: 92\n"
     ]
    },
    {
     "name": "stdout",
     "output_type": "stream",
     "text": [
      "Gravitational force b/w the two objects is: 5.431273275047259e-11\n"
     ]
    }
   ],
   "source": [
    "m1=float(input(\"Enter mass of Object1:\"))\n",
    "m2=float(input(\"Enter mass of Object2:\"))\n",
    "rr=float(input(\"Enter distance b/w centers of objects:\"))\n",
    "G=6.673*(10**-11)\n",
    "f1=(G*m1*m2)/(rr**2)\n",
    "print(f\"Gravitational force b/w the two objects is: {f1}\")"
   ]
  },
  {
   "cell_type": "markdown",
   "metadata": {},
   "source": [
    "# 14) Volume of a Cylinder:"
   ]
  },
  {
   "cell_type": "code",
   "execution_count": 13,
   "metadata": {},
   "outputs": [
    {
     "name": "stdin",
     "output_type": "stream",
     "text": [
      "Enter radius: 64\n",
      "Enter height: 27\n"
     ]
    },
    {
     "name": "stdout",
     "output_type": "stream",
     "text": [
      "Volume is: 347258.88\n"
     ]
    }
   ],
   "source": [
    "r=float(input(\"Enter radius:\"))\n",
    "h=float(input(\"Enter height:\"))\n",
    "pi=3.14\n",
    "vol1=(pi*r**2)*h\n",
    "print(f\"Volume is: {vol1}\")"
   ]
  },
  {
   "cell_type": "markdown",
   "metadata": {},
   "source": [
    "# 15) Pressure:"
   ]
  },
  {
   "cell_type": "code",
   "execution_count": 14,
   "metadata": {},
   "outputs": [
    {
     "name": "stdin",
     "output_type": "stream",
     "text": [
      "Enter force: 2\n",
      "Enter area: 3\n"
     ]
    },
    {
     "name": "stdout",
     "output_type": "stream",
     "text": [
      "Pressure is: 0.6666666666666666\n"
     ]
    }
   ],
   "source": [
    "F=float(input(\"Enter force:\"))\n",
    "A=float(input(\"Enter area:\"))\n",
    "P=F/A\n",
    "print(f\"Pressure is: {P}\")"
   ]
  },
  {
   "cell_type": "markdown",
   "metadata": {},
   "source": [
    "# 16) Electric Power:"
   ]
  },
  {
   "cell_type": "code",
   "execution_count": 15,
   "metadata": {},
   "outputs": [
    {
     "name": "stdin",
     "output_type": "stream",
     "text": [
      "Enter voltage: 2\n",
      "Enter current: 3\n"
     ]
    },
    {
     "name": "stdout",
     "output_type": "stream",
     "text": [
      "Power is: 0.6666666666666666\n"
     ]
    }
   ],
   "source": [
    "V=float(input(\"Enter voltage:\"))\n",
    "I=float(input(\"Enter current:\"))\n",
    "Pow=V/I\n",
    "print(f\"Power is: {Pow}\")"
   ]
  },
  {
   "cell_type": "markdown",
   "metadata": {},
   "source": [
    "# 17) Perimeter of a Circle (Circumference):"
   ]
  },
  {
   "cell_type": "code",
   "execution_count": 16,
   "metadata": {},
   "outputs": [
    {
     "name": "stdin",
     "output_type": "stream",
     "text": [
      "Enter radius: 8\n"
     ]
    },
    {
     "name": "stdout",
     "output_type": "stream",
     "text": [
      "Perimeter of Circle is:50.24\n"
     ]
    }
   ],
   "source": [
    "r=float(input(\"Enter radius:\"))\n",
    "pi=3.14\n",
    "P=2*pi*r\n",
    "print(f\"Perimeter of Circle is:{P}\")"
   ]
  },
  {
   "cell_type": "markdown",
   "metadata": {},
   "source": [
    "# 18) Future Value in Savings:\n"
   ]
  },
  {
   "cell_type": "code",
   "execution_count": 17,
   "metadata": {},
   "outputs": [
    {
     "name": "stdin",
     "output_type": "stream",
     "text": [
      "Enter Present Value: 54\n",
      "Enter annual interest rate: 6\n",
      "Enter time in years: 7\n"
     ]
    },
    {
     "name": "stdout",
     "output_type": "stream",
     "text": [
      "Future value:2646.0\n"
     ]
    }
   ],
   "source": [
    "PV=float(input(\"Enter Present Value:\"))\n",
    "ra=float(input(\"Enter annual interest rate:\"))\n",
    "ti=float(input(\"Enter time in years:\"))\n",
    "FV=PV*(1+ra)*ti\n",
    "print(f\"Future value:{FV}\")"
   ]
  },
  {
   "cell_type": "markdown",
   "metadata": {},
   "source": [
    "# 19) Work Done by a Force:"
   ]
  },
  {
   "cell_type": "code",
   "execution_count": 18,
   "metadata": {},
   "outputs": [
    {
     "name": "stdin",
     "output_type": "stream",
     "text": [
      "Enter Present Value: 74\n",
      "Enter annual interest rate: 2\n",
      "Enter time in years: 2\n"
     ]
    },
    {
     "name": "stdout",
     "output_type": "stream",
     "text": [
      "Future value:444.0\n"
     ]
    }
   ],
   "source": [
    "PV=float(input(\"Enter Present Value:\"))\n",
    "ra=float(input(\"Enter annual interest rate:\"))\n",
    "ti=float(input(\"Enter time in years:\"))\n",
    "FV=PV*(1+ra)*ti\n",
    "print(f\"Future value:{FV}\")"
   ]
  },
  {
   "cell_type": "markdown",
   "metadata": {},
   "source": [
    "# 20) Heat Transfer:"
   ]
  },
  {
   "cell_type": "code",
   "execution_count": 21,
   "metadata": {},
   "outputs": [
    {
     "name": "stdin",
     "output_type": "stream",
     "text": [
      "Enter the mass (m) in kilograms:  7\n",
      "Enter the specific heat capacity (c) in J/(kg·K):  2\n",
      "Enter the temperature change (ΔT) in kelvin:  60\n"
     ]
    },
    {
     "name": "stdout",
     "output_type": "stream",
     "text": [
      "Heat Transfer = 840.0J\n"
     ]
    }
   ],
   "source": [
    "m = float(input(\"Enter the mass (m) in kilograms: \"))\n",
    "c = float(input(\"Enter the specific heat capacity (c) in J/(kg·K): \"))\n",
    "delta_T = float(input(\"Enter the temperature change (ΔT) in kelvin: \"))\n",
    "Q = m * c * delta_T\n",
    "print(\"Heat Transfer = \",Q,\"J\",sep=\"\")"
   ]
  }
 ],
 "metadata": {
  "colab": {
   "provenance": []
  },
  "kernelspec": {
   "display_name": "Python 3 (ipykernel)",
   "language": "python",
   "name": "python3"
  },
  "language_info": {
   "codemirror_mode": {
    "name": "ipython",
    "version": 3
   },
   "file_extension": ".py",
   "mimetype": "text/x-python",
   "name": "python",
   "nbconvert_exporter": "python",
   "pygments_lexer": "ipython3",
   "version": "3.12.7"
  }
 },
 "nbformat": 4,
 "nbformat_minor": 4
}
