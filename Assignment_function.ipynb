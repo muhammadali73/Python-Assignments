{
 "cells": [
  {
   "cell_type": "markdown",
   "id": "5ec904ca-7873-4d12-aab7-c640d2abd07f",
   "metadata": {},
   "source": [
    "# Funcion #01\n",
    "1. Write a Python function to find the maximum of three numbers. "
   ]
  },
  {
   "cell_type": "code",
   "execution_count": 4,
   "id": "37bd611e-bb58-41ec-8750-91ba78e779b3",
   "metadata": {},
   "outputs": [],
   "source": [
    "def findMax(num1,num2,num3):\n",
    "    if num1 >= num2 and num1 >= num3:\n",
    "        largest = num1\n",
    "    elif num2 >= num1 and num2 >= num3:\n",
    "        largest = num2\n",
    "    else:\n",
    "        largest = num3\n",
    "\n",
    "    print(\"The largest number is:\", largest)"
   ]
  },
  {
   "cell_type": "code",
   "execution_count": 5,
   "id": "705dfd62-5401-4ff8-8493-9d085935f53a",
   "metadata": {},
   "outputs": [
    {
     "name": "stdout",
     "output_type": "stream",
     "text": [
      "The largest number is: 62\n"
     ]
    }
   ],
   "source": [
    "findMax(62,27,28)"
   ]
  },
  {
   "cell_type": "markdown",
   "id": "ed053ec0-02f0-44b0-8600-aa80e8c9857f",
   "metadata": {},
   "source": [
    "2. Write a Python function to sum all the numbers in a list.\n",
    "\n",
    "Sample List : (8, 2, 3, 0, 7) \n",
    "\n",
    "Expected Output : 20 "
   ]
  },
  {
   "cell_type": "code",
   "execution_count": 9,
   "id": "03261be2-a0e5-4c65-a3dc-c703b2a382d7",
   "metadata": {},
   "outputs": [],
   "source": [
    "def sumList(lista):\n",
    "    is_sum = 0\n",
    "    for i in lista:\n",
    "        is_sum += i\n",
    "    print(f\"The sum of all the list elements are : {is_sum}\")"
   ]
  },
  {
   "cell_type": "code",
   "execution_count": 15,
   "id": "d1bc9c07-6f53-49be-a142-c2088a1dfb37",
   "metadata": {},
   "outputs": [
    {
     "name": "stdout",
     "output_type": "stream",
     "text": [
      "The Multiplication of all the numbers in the list are : 0\n"
     ]
    }
   ],
   "source": [
    "sumList([8, 2, 3, 0, 7])"
   ]
  },
  {
   "cell_type": "markdown",
   "id": "ac767c28-8022-4b32-83e7-f0087578938f",
   "metadata": {},
   "source": [
    "3. Write a Python function to multiply all the numbers in a list.\n",
    "\n",
    "Sample List : (8, 2, 3, -1, 7) \n",
    "\n",
    "Expected Output : -336 "
   ]
  },
  {
   "cell_type": "code",
   "execution_count": 20,
   "id": "0f1be229-d40c-458e-8833-6c54ac619e75",
   "metadata": {},
   "outputs": [],
   "source": [
    "def mulList(lista):\n",
    "    is_mul = 1\n",
    "    for i in lista:\n",
    "        is_mul *= i\n",
    "    print(f\"The Multiplication of all the numbers in the list are : {is_mul}\")"
   ]
  },
  {
   "cell_type": "code",
   "execution_count": 21,
   "id": "5dee57df-d9ec-4f2b-b1b2-6c68be1125d4",
   "metadata": {},
   "outputs": [
    {
     "name": "stdout",
     "output_type": "stream",
     "text": [
      "The Multiplication of all the numbers in the list are : -336\n"
     ]
    }
   ],
   "source": [
    "mulList([8, 2, 3, -1, 7])"
   ]
  },
  {
   "cell_type": "markdown",
   "id": "4393237c-dc3e-4e63-a086-2c4839136632",
   "metadata": {},
   "source": [
    "4. Write a Python program to reverse a string.\n",
    "   \n",
    "Sample String : \"1234abcd\" \n",
    "\n",
    "Expected Output : \"dcba4321\" "
   ]
  },
  {
   "cell_type": "code",
   "execution_count": 44,
   "id": "2c9c792e-bcba-428a-82aa-0a845f864fcf",
   "metadata": {},
   "outputs": [],
   "source": [
    "def rev_str(string):\n",
    "    print(string)"
   ]
  },
  {
   "cell_type": "code",
   "execution_count": 45,
   "id": "0d6767d5-6d8b-4cd7-ae6d-95bd1639c8c9",
   "metadata": {},
   "outputs": [
    {
     "name": "stdout",
     "output_type": "stream",
     "text": [
      "dcba4321\n"
     ]
    }
   ],
   "source": [
    "rev_str(\"1234abcd\"[::-1])"
   ]
  },
  {
   "cell_type": "markdown",
   "id": "be0f6e65-2c27-4377-b590-a22f4f4e43de",
   "metadata": {},
   "source": [
    "5. Write a Python function to calculate the factorial of a number (a non-negative \n",
    "integer). The function accepts the number as an argument. "
   ]
  },
  {
   "cell_type": "code",
   "execution_count": 50,
   "id": "5504b415-3346-4f03-b2a1-419ff84dab2a",
   "metadata": {},
   "outputs": [],
   "source": [
    "def findFactorial(is_fac):\n",
    "    fac = 1\n",
    "    for i in range(1,is_fac+1):\n",
    "        fac *= i\n",
    "    print(f\"Factorial of integer {is_fac} is : {fac}\")"
   ]
  },
  {
   "cell_type": "code",
   "execution_count": 51,
   "id": "7e0f2f6b-82c4-4da7-9d7b-728645346b35",
   "metadata": {},
   "outputs": [
    {
     "name": "stdout",
     "output_type": "stream",
     "text": [
      "Factorial of integer 5 is : 120\n"
     ]
    }
   ],
   "source": [
    "findFactorial(5)"
   ]
  },
  {
   "cell_type": "markdown",
   "id": "460c5212-e93c-43fc-9c21-96b8d125ba18",
   "metadata": {},
   "source": [
    "6. Write a Python function to check whether a number falls within a given range. "
   ]
  },
  {
   "cell_type": "code",
   "execution_count": 2,
   "id": "b3bbae8c-1e79-4977-81df-9ade162f9ecd",
   "metadata": {},
   "outputs": [],
   "source": [
    "def findRange(numbers):\n",
    "    for num in numbers:\n",
    "        if 1 <= num <= 10:\n",
    "            print(f\"{num} is within the range 1 to 10.\")\n",
    "        else:\n",
    "            print(f\"{num} is not within the range 1 to 10.\")"
   ]
  },
  {
   "cell_type": "code",
   "execution_count": 3,
   "id": "cdbe2315-2dfe-42f4-b5b2-2026a735d5c7",
   "metadata": {},
   "outputs": [
    {
     "name": "stdout",
     "output_type": "stream",
     "text": [
      "4 is within the range 1 to 10.\n"
     ]
    }
   ],
   "source": [
    "findRange([4])"
   ]
  },
  {
   "cell_type": "markdown",
   "id": "40baaad2-2d53-4e7f-a6c1-27b7572374f5",
   "metadata": {},
   "source": [
    "7. Write a Python function that accepts a string and counts the number of upper \n",
    "and lower case letters.\n",
    "\n",
    "Sample String : 'The quick Brow Fox' \n",
    "\n",
    "Expected Output :\n",
    "\n",
    "No. of Upper case characters : 3 \n",
    "\n",
    "No. of Lower case Characters : 12 "
   ]
  },
  {
   "cell_type": "code",
   "execution_count": 5,
   "id": "c926f56b-fd46-4266-adc6-6c31a4c9ad47",
   "metadata": {},
   "outputs": [],
   "source": [
    "def findCase(string):\n",
    "    is_up = \"\"\n",
    "    is_low = \"\"\n",
    "    for i in string:\n",
    "        if i == (i).upper():\n",
    "            is_up += i\n",
    "        else:\n",
    "            is_low += i\n",
    "    print(f\"No. of Upper case characters : {len(is_up)}\")\n",
    "    print(f\"No. of Lower case characters : {len(is_low)}\")"
   ]
  },
  {
   "cell_type": "code",
   "execution_count": 6,
   "id": "89e31452-8fbc-4111-9602-d745cc76b26c",
   "metadata": {},
   "outputs": [
    {
     "name": "stdout",
     "output_type": "stream",
     "text": [
      "No. of Upper case characters : 6\n",
      "No. of Lower case characters : 12\n"
     ]
    }
   ],
   "source": [
    "findCase('The quick Brow Fox')"
   ]
  },
  {
   "cell_type": "markdown",
   "id": "08e5dec4-94f1-4fe0-b8cf-f004e449b533",
   "metadata": {},
   "source": [
    "8. Write a Python function that takes a list and returns a new list with distinct \n",
    "elements from the first list.\n",
    "\n",
    "Sample List : [1,2,3,3,3,3,4,5] \n",
    "\n",
    "Unique List : [1, 2, 3, 4, 5]"
   ]
  },
  {
   "cell_type": "code",
   "execution_count": 17,
   "id": "2db8f78d-5a93-4781-8619-4d75bd7fbe17",
   "metadata": {},
   "outputs": [],
   "source": [
    "def findDistinct(sam_lst):\n",
    "    save_lst = []\n",
    "\n",
    "    for i in sam_lst:\n",
    "        if i not in save_lst:\n",
    "            save_lst.append(i)\n",
    "    print(save_lst)"
   ]
  },
  {
   "cell_type": "code",
   "execution_count": 18,
   "id": "3ae74c68-2fc9-4e06-83b8-7a816d67d0a0",
   "metadata": {},
   "outputs": [
    {
     "name": "stdout",
     "output_type": "stream",
     "text": [
      "[1, 2, 3, 4, 5]\n"
     ]
    }
   ],
   "source": [
    "findDistinct([1,2,3,3,3,3,4,5,5])"
   ]
  },
  {
   "cell_type": "markdown",
   "id": "b962668f-08b0-4ba6-b700-2be5e706f443",
   "metadata": {},
   "source": [
    "9. Write a Python function that takes a number as a parameter and checks \n",
    "whether the number is prime or not.\n",
    "\n",
    "Note : A prime number (or a prime) is a natural number greater than 1 and that \n",
    "has no positive divisors other than 1 and itself. "
   ]
  },
  {
   "cell_type": "code",
   "execution_count": 1,
   "id": "f8c9430e-ed45-4595-9c17-c8d14e3a3cb6",
   "metadata": {},
   "outputs": [],
   "source": [
    "def is_prime(number):\n",
    "    if number <= 1:\n",
    "        return False\n",
    "    for i in range(2, int(number ** 0.5) + 1):\n",
    "        if number % i == 0:\n",
    "            return f\"{number} Not a prime number\"\n",
    "    return f\"{number} Prime number\""
   ]
  },
  {
   "cell_type": "code",
   "execution_count": 2,
   "id": "53ad0809-72af-4c38-bd63-47588188d4ff",
   "metadata": {},
   "outputs": [
    {
     "data": {
      "text/plain": [
       "'29 Prime number'"
      ]
     },
     "execution_count": 2,
     "metadata": {},
     "output_type": "execute_result"
    }
   ],
   "source": [
    "is_prime(29)"
   ]
  },
  {
   "cell_type": "code",
   "execution_count": 3,
   "id": "2e4c474f-053c-4b65-8795-a13478d1b604",
   "metadata": {},
   "outputs": [
    {
     "name": "stdout",
     "output_type": "stream",
     "text": [
      "7 is a prime number.\n"
     ]
    }
   ],
   "source": [
    "def is_prime(number):\n",
    "    if number <= 1:\n",
    "        return False\n",
    "    for i in range(2, int(number ** 0.5) + 1):\n",
    "        if number % i == 0:\n",
    "            return False\n",
    "    return True\n",
    "\n",
    "num = 7\n",
    "if is_prime(num):\n",
    "    print(f\"{num} is a prime number.\")\n",
    "else:\n",
    "    print(f\"{num} is not a prime number.\")\n"
   ]
  },
  {
   "cell_type": "markdown",
   "id": "e9721d06-4cc0-41e8-85c0-89a829e632b3",
   "metadata": {},
   "source": [
    "10. Write a Python program to print the even numbers from a given list.\n",
    "\n",
    "Sample List : [1, 2, 3, 4, 5, 6, 7, 8, 9]\n",
    "\n",
    "Expected Result : [2, 4, 6, 8]"
   ]
  },
  {
   "cell_type": "code",
   "execution_count": 6,
   "id": "13fed06c-1528-48f3-b581-4a072f6e3d1a",
   "metadata": {},
   "outputs": [
    {
     "data": {
      "text/plain": [
       "[2, 4, 6, 8]"
      ]
     },
     "execution_count": 6,
     "metadata": {},
     "output_type": "execute_result"
    }
   ],
   "source": [
    "def get_even_numbers(numbers):\n",
    "    return [num for num in numbers if num % 2 == 0]\n",
    "\n",
    "sample_list = [1, 2, 3, 4, 5, 6, 7, 8, 9]\n",
    "\n",
    "get_even_numbers(sample_list)"
   ]
  },
  {
   "cell_type": "markdown",
   "id": "1d0362c8-7e3d-414b-a2e9-4d69855fca1b",
   "metadata": {},
   "source": [
    "11. Write a Python function to check whether a number is \"Perfect\" or not.\n",
    "According to Wikipedia : In number theory, a perfect number is a positive integer\n",
    "that is equal to the sum of its proper positive divisors, that is, the sum of its\n",
    "positive divisors excluding the number itself (also known as its aliquot sum).\n",
    "Equivalently, a perfect number is a number that is half the sum of all of its\n",
    "positive divisors (including itself).\n",
    "\n",
    "Example : The first perfect number is 6, because 1, 2, and 3 are its proper positive\n",
    "divisors, and 1 + 2 + 3 = 6. Equivalently, the number 6 is equal to half the sum of\n",
    "all its positive divisors: ( 1 + 2 + 3 + 6 ) / 2 = 6. The next perfect number is 28 = 1 +\n",
    "2 + 4 + 7 + 14. This is followed by the perfect numbers 496 and 8128."
   ]
  },
  {
   "cell_type": "code",
   "execution_count": 8,
   "id": "ad743d0d-169d-45d4-9bb8-204dd46ddc2b",
   "metadata": {},
   "outputs": [
    {
     "name": "stdout",
     "output_type": "stream",
     "text": [
      "6 is a perfect number.\n"
     ]
    }
   ],
   "source": [
    "def is_perfect(number):\n",
    "    if number <= 0:\n",
    "        return False\n",
    "    divisors_sum = sum(i for i in range(1, number) if number % i == 0)\n",
    "    return divisors_sum == number\n",
    "\n",
    "num = 6\n",
    "if is_perfect(num):\n",
    "    print(f\"{num} is a perfect number.\")\n",
    "else:\n",
    "    print(f\"{num} is not a perfect number.\")"
   ]
  },
  {
   "cell_type": "markdown",
   "id": "dafdd64e-06c8-4246-92a1-ebc6ad828ff4",
   "metadata": {},
   "source": [
    "12. Write a Python function that checks whether a passed string is a palindrome\n",
    "or not.\n",
    "\n",
    "Note: A palindrome is a word, phrase, or sequence that reads the same backward\n",
    "as forward, e.g., madam or nurses run."
   ]
  },
  {
   "cell_type": "code",
   "execution_count": 9,
   "id": "d8ded52a-9985-495a-9415-d1ace05a406b",
   "metadata": {},
   "outputs": [
    {
     "name": "stdout",
     "output_type": "stream",
     "text": [
      "\"nurses run\" is a palindrome.\n"
     ]
    }
   ],
   "source": [
    "def is_palindrome(s):\n",
    "    s = s.replace(\" \", \"\").lower()\n",
    "    return s == s[::-1]\n",
    "\n",
    "# Example usage:\n",
    "text = \"nurses run\"\n",
    "if is_palindrome(text):\n",
    "    print(f'\"{text}\" is a palindrome.')\n",
    "else:\n",
    "    print(f'\"{text}\" is not a palindrome.')"
   ]
  }
 ],
 "metadata": {
  "kernelspec": {
   "display_name": "Python 3 (ipykernel)",
   "language": "python",
   "name": "python3"
  },
  "language_info": {
   "codemirror_mode": {
    "name": "ipython",
    "version": 3
   },
   "file_extension": ".py",
   "mimetype": "text/x-python",
   "name": "python",
   "nbconvert_exporter": "python",
   "pygments_lexer": "ipython3",
   "version": "3.12.7"
  }
 },
 "nbformat": 4,
 "nbformat_minor": 5
}
