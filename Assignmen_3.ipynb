{
 "cells": [
  {
   "cell_type": "markdown",
   "metadata": {},
   "source": [
    "# Python If Else Practice Questions"
   ]
  },
  {
   "cell_type": "markdown",
   "metadata": {},
   "source": [
    "## A- Discounts and Pricing"
   ]
  },
  {
   "cell_type": "markdown",
   "metadata": {},
   "source": [
    "### 1. Check Discount Eligibility"
   ]
  },
  {
   "cell_type": "code",
   "execution_count": 4,
   "metadata": {},
   "outputs": [
    {
     "name": "stdin",
     "output_type": "stream",
     "text": [
      "Enter Total purchase :  170\n"
     ]
    },
    {
     "name": "stdout",
     "output_type": "stream",
     "text": [
      "Total bill after discount: $153.0\n"
     ]
    }
   ],
   "source": [
    "total_purchase = float(input(\"Enter Total purchase : \"))\n",
    "\n",
    "if total_purchase > 100 :\n",
    "    discount = total_purchase * 0.10\n",
    "    print(f\"Total bill after discount: ${total_purchase - discount}\")\n",
    "else :\n",
    "    print(f\"Total bill : ${total_purchase}\")"
   ]
  },
  {
   "cell_type": "markdown",
   "metadata": {},
   "source": [
    "### 2. Calculate Bulk Discount"
   ]
  },
  {
   "cell_type": "code",
   "execution_count": 15,
   "metadata": {},
   "outputs": [
    {
     "name": "stdin",
     "output_type": "stream",
     "text": [
      "how many phones you wanna buy? :  12\n"
     ]
    },
    {
     "name": "stdout",
     "output_type": "stream",
     "text": [
      "Total bill after discount : 3060.0\n"
     ]
    }
   ],
   "source": [
    "item = 'phone' \n",
    "price = 300\n",
    "quantity = int(input(\"how many phones you wanna buy? : \"))\n",
    "total_price = 300 * quantity\n",
    "\n",
    "if quantity > 5 :\n",
    "    discount = total_price * 0.15\n",
    "    print(f\"Total bill after discount : {total_price - discount}\")\n",
    "else :\n",
    "    print(f\"Total bill : {total_price}\")"
   ]
  },
  {
   "cell_type": "markdown",
   "metadata": {},
   "source": [
    "### 3. Membership Discount"
   ]
  },
  {
   "cell_type": "code",
   "execution_count": 34,
   "metadata": {},
   "outputs": [
    {
     "name": "stdin",
     "output_type": "stream",
     "text": [
      "Are you a membership holder? yes or no :  no\n"
     ]
    },
    {
     "name": "stdout",
     "output_type": "stream",
     "text": [
      "Total Membership cost : 3325.0\n"
     ]
    }
   ],
   "source": [
    "is_member = input(\"Are you a membership holder? yes or no : \").lower()\n",
    "membership_cost = 3500\n",
    "\n",
    "if is_member == 'yes' :\n",
    "    discount = membership_cost * 0.20\n",
    "    print(f\"Total Membership cost : {membership_cost - discount}\")\n",
    "elif is_member == 'no' :\n",
    "    discount = membership_cost * 0.05\n",
    "    print(f\"Total Membership cost : {membership_cost - discount}\")\n",
    "else :\n",
    "    print(\"Please answer in yes or no\")"
   ]
  },
  {
   "cell_type": "markdown",
   "metadata": {},
   "source": [
    "### 4. Seasonal Sale"
   ]
  },
  {
   "cell_type": "code",
   "execution_count": 40,
   "metadata": {},
   "outputs": [
    {
     "name": "stdin",
     "output_type": "stream",
     "text": [
      "Is today a holiday? yes or no :  yes\n"
     ]
    },
    {
     "name": "stdout",
     "output_type": "stream",
     "text": [
      "Total cost after holiday discount : 9375.0\n"
     ]
    }
   ],
   "source": [
    "is_holiday = input(\"Is today a holiday? yes or no : \").lower()\n",
    "price = 12500\n",
    "\n",
    "if is_holiday == 'yes' :\n",
    "    discount = price * 0.25\n",
    "    print(f\"Total cost after holiday discount : {price - discount}\")\n",
    "elif is_holiday == 'no' :\n",
    "    discount = price * 0.10\n",
    "    print(f\"Total cost : {price - discount}\")\n",
    "else :\n",
    "    print(\"Please answer in yes or no\")"
   ]
  },
  {
   "cell_type": "markdown",
   "metadata": {},
   "source": [
    "### 5. Buy-One-Get-One-Free"
   ]
  },
  {
   "cell_type": "code",
   "execution_count": 7,
   "metadata": {},
   "outputs": [
    {
     "name": "stdin",
     "output_type": "stream",
     "text": [
      "Enter price of an item :  1200\n",
      "Enter quantity : 10\n"
     ]
    },
    {
     "name": "stdout",
     "output_type": "stream",
     "text": [
      "Your total amount after discount : 6000.0\n"
     ]
    }
   ],
   "source": [
    "item_price = float(input(\"Enter price of an item : \"))\n",
    "quantity = int(input(\"Enter quantity :\"))\n",
    "total = item_price * quantity\n",
    "\n",
    "if quantity % 2 == 0:\n",
    "    discounted_total = total/2\n",
    "    print(f\"Your total amount after discount : {discounted_total}\")\n",
    "else : \n",
    "    print(f\"Total amount : {total}\")"
   ]
  },
  {
   "cell_type": "markdown",
   "metadata": {},
   "source": [
    "## B- Tax Calculations"
   ]
  },
  {
   "cell_type": "markdown",
   "metadata": {},
   "source": [
    "### 6. Sales Tax"
   ]
  },
  {
   "cell_type": "code",
   "execution_count": 27,
   "metadata": {},
   "outputs": [
    {
     "name": "stdin",
     "output_type": "stream",
     "text": [
      "Enter price of an item 1100\n"
     ]
    },
    {
     "name": "stdout",
     "output_type": "stream",
     "text": [
      "Total price after 15% tax = 1265.0\n"
     ]
    }
   ],
   "source": [
    "item_price = float(input(\"Enter price of an item : \"))\n",
    "\n",
    "if item_price > 500:\n",
    "    tax = item_price * 0.15\n",
    "    print(f\"Total price after 15% tax = {item_price + tax}\")\n",
    "else:\n",
    "    tax = item_price * 0.08\n",
    "    print(f\"Total price after 8% tax = {item_price + tax}\")"
   ]
  },
  {
   "cell_type": "markdown",
   "metadata": {},
   "source": [
    "### 7. Income Tax "
   ]
  },
  {
   "cell_type": "code",
   "execution_count": 32,
   "metadata": {},
   "outputs": [
    {
     "name": "stdin",
     "output_type": "stream",
     "text": [
      "Enter price of an item 100000\n"
     ]
    },
    {
     "name": "stdout",
     "output_type": "stream",
     "text": [
      "Total tax = 20000.0\n"
     ]
    }
   ],
   "source": [
    "annual_income = float(input(\"Enter price of an item : \"))\n",
    "\n",
    "if annual_income > 50000:\n",
    "    tax = annual_income * 0.20\n",
    "    print(f\"Total tax = {tax}\")\n",
    "else:\n",
    "    tax = annual_income * 0.10\n",
    "    print(f\"Total tax = {tax}\")"
   ]
  },
  {
   "cell_type": "markdown",
   "metadata": {},
   "source": [
    "### 8. Tax Bracket"
   ]
  },
  {
   "cell_type": "code",
   "execution_count": 36,
   "metadata": {},
   "outputs": [
    {
     "name": "stdin",
     "output_type": "stream",
     "text": [
      "Enter you income :  100000\n"
     ]
    },
    {
     "name": "stdout",
     "output_type": "stream",
     "text": [
      "High Tax\n"
     ]
    }
   ],
   "source": [
    "income = float(input(\"Enter you income : \"))\n",
    "\n",
    "if income < 30000:\n",
    "    print(\"Low Tax\")\n",
    "elif income < 100000:\n",
    "    print(\"Medium Tax\")\n",
    "else:\n",
    "    print(\"High Tax\")"
   ]
  },
  {
   "cell_type": "markdown",
   "metadata": {},
   "source": [
    "### 9. VAT Calculation"
   ]
  },
  {
   "cell_type": "code",
   "execution_count": 44,
   "metadata": {},
   "outputs": [
    {
     "name": "stdin",
     "output_type": "stream",
     "text": [
      "Is item mark as essential? yes or no :  No\n"
     ]
    },
    {
     "name": "stdout",
     "output_type": "stream",
     "text": [
      "Total cost : 1344.0\n"
     ]
    }
   ],
   "source": [
    "is_vat = input(\"Is item mark as essential? yes or no : \").lower()\n",
    "price = 1200\n",
    "\n",
    "if is_vat == 'yes' :\n",
    "    vat = price * 0.05\n",
    "    print(f\"Total cost : {price + vat}\")\n",
    "elif is_vat == 'no' :\n",
    "    vat = price * 0.12\n",
    "    print(f\"Total cost : {price + vat}\")\n",
    "else :\n",
    "    print(\"Please answer in yes or no\")"
   ]
  },
  {
   "cell_type": "markdown",
   "metadata": {},
   "source": [
    "### 10. Tax-Free Day"
   ]
  },
  {
   "cell_type": "code",
   "execution_count": 48,
   "metadata": {},
   "outputs": [
    {
     "name": "stdin",
     "output_type": "stream",
     "text": [
      "Is today a tax free day? yes or no :  no\n"
     ]
    },
    {
     "name": "stdout",
     "output_type": "stream",
     "text": [
      "Total amount after tax : 19260.0\n"
     ]
    }
   ],
   "source": [
    "tax_free = input(\"Is today a tax free day? yes or no : \").lower()\n",
    "price = 18000\n",
    "\n",
    "if tax_free == 'yes':\n",
    "    print(f\"Total amount : {price}\")\n",
    "elif tax_free == 'no': \n",
    "    tax = price * 0.07\n",
    "    print(f\"Total amount after tax : {price + tax}\")\n",
    "else :\n",
    "    print(\"Please answer in yes or no\")"
   ]
  },
  {
   "cell_type": "markdown",
   "metadata": {},
   "source": [
    "## C- Shopping and Billing"
   ]
  },
  {
   "cell_type": "markdown",
   "metadata": {},
   "source": [
    "### 11. Free Shipping"
   ]
  },
  {
   "cell_type": "code",
   "execution_count": 55,
   "metadata": {},
   "outputs": [
    {
     "name": "stdin",
     "output_type": "stream",
     "text": [
      "Enter price of an item :  35\n"
     ]
    },
    {
     "name": "stdout",
     "output_type": "stream",
     "text": [
      "Total amount with shipping cost = $40.0\n"
     ]
    }
   ],
   "source": [
    "total_purchase = float(input(\"Enter price of an item : \"))\n",
    "\n",
    "if total_purchase > 50:\n",
    "    print(f\"Total amount = {total_purchase}\")\n",
    "else:\n",
    "    print(f\"Total amount with shipping cost = ${total_purchase + 5}\")"
   ]
  },
  {
   "cell_type": "markdown",
   "metadata": {},
   "source": [
    "### 12. Discount Code"
   ]
  },
  {
   "cell_type": "code",
   "execution_count": 56,
   "metadata": {},
   "outputs": [
    {
     "name": "stdin",
     "output_type": "stream",
     "text": [
      "Enter Discount code :  DISCOUNT10\n"
     ]
    },
    {
     "name": "stdout",
     "output_type": "stream",
     "text": [
      "Hooray! you got 10% discount, your total amount is : 1530.0\n"
     ]
    }
   ],
   "source": [
    "amount = 1700\n",
    "discount_code = input(\"Enter Discount code : \")\n",
    "\n",
    "if discount_code == 'DISCOUNT10':\n",
    "    discount = amount * 0.10\n",
    "    print(f\"Hooray! you got 10% discount, your total amount is : {amount - discount}\")\n",
    "else:\n",
    "    print(f\"Invalid discount code, your total amount is : {amount}\")"
   ]
  },
  {
   "cell_type": "markdown",
   "metadata": {},
   "source": [
    "### 13. Tiered Discounts"
   ]
  },
  {
   "cell_type": "code",
   "execution_count": 7,
   "metadata": {},
   "outputs": [
    {
     "name": "stdin",
     "output_type": "stream",
     "text": [
      "Enter total price :  120\n"
     ]
    },
    {
     "name": "stdout",
     "output_type": "stream",
     "text": [
      "20% Discount\n"
     ]
    }
   ],
   "source": [
    "total_price = float(input(\"Enter total price : \"))\n",
    "\n",
    "if total_price < 50:\n",
    "    print(\"No Discount\")\n",
    "elif total_price <= 100:\n",
    "    print(\"10% Discount\")\n",
    "else:\n",
    "    print(\"20% Discount\")"
   ]
  },
  {
   "cell_type": "markdown",
   "metadata": {},
   "source": [
    "### 14. Minimum Purchase Requirement"
   ]
  },
  {
   "cell_type": "code",
   "execution_count": 10,
   "metadata": {},
   "outputs": [
    {
     "name": "stdin",
     "output_type": "stream",
     "text": [
      "Enter total amount :  60\n"
     ]
    },
    {
     "name": "stdout",
     "output_type": "stream",
     "text": [
      "$60.0\n"
     ]
    }
   ],
   "source": [
    "total_amount = float(input(\"Enter total amount : \"))\n",
    "\n",
    "if total_amount < 20:\n",
    "    print(\"Minimum purchase of $20 is required.\")\n",
    "else:\n",
    "    print(f\"${total_amount}\")"
   ]
  },
  {
   "cell_type": "markdown",
   "metadata": {},
   "source": [
    "### 15. Loyalty Points"
   ]
  },
  {
   "cell_type": "code",
   "execution_count": 15,
   "metadata": {},
   "outputs": [
    {
     "name": "stdin",
     "output_type": "stream",
     "text": [
      "Are you a loyal member? yes or no :  yes\n"
     ]
    },
    {
     "name": "stdout",
     "output_type": "stream",
     "text": [
      "you can earn double loyalty points for your purchase.\n"
     ]
    }
   ],
   "source": [
    "is_loyal = input(\"Are you a loyal member? yes or no : \").lower()\n",
    "\n",
    "if is_loyal == 'yes':\n",
    "    print(\"you can earn double loyalty points for your purchase.\")\n",
    "elif is_loyal == 'no':\n",
    "    print(\"you earn standard points.\")\n",
    "else:\n",
    "    print(\"Please answer in yes or no\")"
   ]
  },
  {
   "cell_type": "markdown",
   "metadata": {},
   "source": [
    "## D- Travel and Tickets"
   ]
  },
  {
   "cell_type": "markdown",
   "metadata": {},
   "source": [
    "### 16. Travel Discount"
   ]
  },
  {
   "cell_type": "code",
   "execution_count": 20,
   "metadata": {},
   "outputs": [
    {
     "name": "stdin",
     "output_type": "stream",
     "text": [
      "how many miles you are travelling? :  600\n"
     ]
    },
    {
     "name": "stdout",
     "output_type": "stream",
     "text": [
      "you will get a 20% on ticket\n"
     ]
    }
   ],
   "source": [
    "miles = float(input(\"how many miles you are travelling? : \"))\n",
    "\n",
    "if miles > 500:\n",
    "    print(\"you will get a 20% on ticket\")\n",
    "else:\n",
    "    print(\"we'll charge full amount on ticket\")"
   ]
  },
  {
   "cell_type": "markdown",
   "metadata": {},
   "source": [
    "### 17. Child or Senior Discount"
   ]
  },
  {
   "cell_type": "markdown",
   "metadata": {},
   "source": [
    "age = int(input(\"Enter your age : \"))\n",
    "\n",
    "if age <= 12:\n",
    "    print(\"You will get a 15% Discount on ticket price\")\n",
    "elif age >= 60:\n",
    "    print(\"You will get a 15% Discount on ticket price\")\n",
    "else:\n",
    "    print(\"You will charge a full amount\")"
   ]
  },
  {
   "cell_type": "markdown",
   "metadata": {},
   "source": [
    "### 18. Ticket Type Pricing"
   ]
  },
  {
   "cell_type": "code",
   "execution_count": 6,
   "metadata": {},
   "outputs": [
    {
     "name": "stdin",
     "output_type": "stream",
     "text": [
      "is today weekend? yes or no :  no\n"
     ]
    },
    {
     "name": "stdout",
     "output_type": "stream",
     "text": [
      "Total amount = 900\n"
     ]
    }
   ],
   "source": [
    "is_loyal = input(\"is today weekend? yes or no : \").lower()\n",
    "price = 900\n",
    "\n",
    "if is_loyal == 'yes':\n",
    "    surcharge = price * 0.10\n",
    "    print(f\"Total Amount with Surcharge = {price + surcharge}\")\n",
    "elif is_loyal == 'no':\n",
    "    print(f\"Total amount = {price}\")\n",
    "else:\n",
    "    print(\"Please answer in yes or no\")"
   ]
  },
  {
   "cell_type": "markdown",
   "metadata": {},
   "source": [
    "### 19. Baggage Fee"
   ]
  },
  {
   "cell_type": "code",
   "execution_count": 10,
   "metadata": {},
   "outputs": [
    {
     "name": "stdin",
     "output_type": "stream",
     "text": [
      "Enter baggage weight here :  21\n"
     ]
    },
    {
     "name": "stdout",
     "output_type": "stream",
     "text": [
      "total charges : $2110.0\n"
     ]
    }
   ],
   "source": [
    "weight = float(input(\"Enter baggage weight here : \"))\n",
    "per_kg = 100\n",
    "if weight > 20:\n",
    "    print(f\"total charges : ${per_kg * weight + 10}\")\n",
    "else:\n",
    "    print(f\"total charges : {per_kg * weight}\")"
   ]
  },
  {
   "cell_type": "markdown",
   "metadata": {},
   "source": [
    "### 20. Early Bird Discount"
   ]
  },
  {
   "cell_type": "code",
   "execution_count": 15,
   "metadata": {},
   "outputs": [
    {
     "name": "stdin",
     "output_type": "stream",
     "text": [
      "Enter how many days before you book your ticket :  32\n"
     ]
    },
    {
     "name": "stdout",
     "output_type": "stream",
     "text": [
      "Total amount = 450.0\n"
     ]
    }
   ],
   "source": [
    "book_date = int(input(\"Enter how many days before you book your ticket : \"))\n",
    "ticket_price = 500\n",
    "\n",
    "if book_date > 30:\n",
    "    discount = ticket_price * 0.10\n",
    "    print(f\"Total amount = {ticket_price - discount}\")\n",
    "else: \n",
    "    print(f\"Total amount = {ticket_price}\")"
   ]
  },
  {
   "cell_type": "markdown",
   "metadata": {},
   "source": [
    "## E- Grades and Performance"
   ]
  },
  {
   "cell_type": "markdown",
   "metadata": {},
   "source": [
    "### 21. Pass or Fail"
   ]
  },
  {
   "cell_type": "code",
   "execution_count": 20,
   "metadata": {},
   "outputs": [
    {
     "name": "stdin",
     "output_type": "stream",
     "text": [
      "Enter you score :  89\n"
     ]
    },
    {
     "name": "stdout",
     "output_type": "stream",
     "text": [
      "Pass\n"
     ]
    }
   ],
   "source": [
    "score = float(input(\"Enter you score : \"))\n",
    "\n",
    "if score >= 40:\n",
    "    print(\"Pass\")\n",
    "else:\n",
    "    print(\"Fail\")"
   ]
  },
  {
   "cell_type": "markdown",
   "metadata": {},
   "source": [
    "### 22. Grade Assignment"
   ]
  },
  {
   "cell_type": "code",
   "execution_count": 24,
   "metadata": {},
   "outputs": [
    {
     "name": "stdin",
     "output_type": "stream",
     "text": [
      "Enter you score :  83\n"
     ]
    },
    {
     "name": "stdout",
     "output_type": "stream",
     "text": [
      "B\n"
     ]
    }
   ],
   "source": [
    "score = float(input(\"Enter you score : \"))\n",
    "\n",
    "if score >= 90:\n",
    "    print(\"A\")\n",
    "elif score >= 75:\n",
    "    print(\"B\")\n",
    "elif score >= 50:\n",
    "    print(\"C\")\n",
    "else:\n",
    "    print(\"F\")"
   ]
  },
  {
   "cell_type": "markdown",
   "metadata": {},
   "source": [
    "### 23. Bonus Marks"
   ]
  },
  {
   "cell_type": "code",
   "execution_count": 26,
   "metadata": {},
   "outputs": [
    {
     "name": "stdin",
     "output_type": "stream",
     "text": [
      "Did you complete your assignment? yes or no :  yes\n"
     ]
    },
    {
     "name": "stdout",
     "output_type": "stream",
     "text": [
      "Total Marks = 35\n"
     ]
    }
   ],
   "source": [
    "assign = input(\"Did you complete your assignment? yes or no : \")\n",
    "max_marks = 30\n",
    "\n",
    "if assign == 'yes':\n",
    "    print(f\"Total Marks = {max_marks + 5}\")\n",
    "elif assign == 'no':\n",
    "    print(f\"Total Marks = {max_marks}\")\n",
    "else:\n",
    "    print(\"Please answer in yes or no\")\n"
   ]
  },
  {
   "cell_type": "markdown",
   "metadata": {},
   "source": [
    "### 24. Attendance Eligibility"
   ]
  },
  {
   "cell_type": "code",
   "execution_count": 32,
   "metadata": {},
   "outputs": [
    {
     "name": "stdin",
     "output_type": "stream",
     "text": [
      "Enter your attendence in percentage :  86\n"
     ]
    },
    {
     "name": "stdout",
     "output_type": "stream",
     "text": [
      "Your are eligible to take an exam\n"
     ]
    }
   ],
   "source": [
    "attend = float(input(\"Enter your attendence in percentage : \"))\n",
    "\n",
    "if attend >= 75:\n",
    "    print(\"Your are eligible to take an exam\")\n",
    "else:\n",
    "    print(\"Your are not eligible to take an exam\")"
   ]
  },
  {
   "cell_type": "markdown",
   "metadata": {},
   "source": [
    "### 25. Scholarship Eligibility"
   ]
  },
  {
   "cell_type": "code",
   "execution_count": 49,
   "metadata": {},
   "outputs": [
    {
     "name": "stdin",
     "output_type": "stream",
     "text": [
      "Enter your grade :  b\n",
      "Enter you family annual income :  2000\n"
     ]
    },
    {
     "name": "stdout",
     "output_type": "stream",
     "text": [
      "You're not eligible for scholarship\n"
     ]
    }
   ],
   "source": [
    "grade = input(\"Enter your grade : \").upper()\n",
    "income = float(input(\"Enter you family annual income : \"))\n",
    "\n",
    "if grade == \"A\":\n",
    "    if income < 30000:\n",
    "        print(\"Congratulations! You're eligible for scholarship\")\n",
    "    else:\n",
    "        print(\"Your family income should be below $30,000\")\n",
    "else:\n",
    "    print(\"You're not eligible for scholarship\")"
   ]
  }
 ],
 "metadata": {
  "colab": {
   "provenance": []
  },
  "kernelspec": {
   "display_name": "Python 3 (ipykernel)",
   "language": "python",
   "name": "python3"
  },
  "language_info": {
   "codemirror_mode": {
    "name": "ipython",
    "version": 3
   },
   "file_extension": ".py",
   "mimetype": "text/x-python",
   "name": "python",
   "nbconvert_exporter": "python",
   "pygments_lexer": "ipython3",
   "version": "3.12.7"
  }
 },
 "nbformat": 4,
 "nbformat_minor": 4
}
